{
  "nbformat": 4,
  "nbformat_minor": 0,
  "metadata": {
    "colab": {
      "provenance": [],
      "include_colab_link": true
    },
    "kernelspec": {
      "name": "python3",
      "display_name": "Python 3"
    },
    "language_info": {
      "name": "python"
    }
  },
  "cells": [
    {
      "cell_type": "markdown",
      "metadata": {
        "id": "view-in-github",
        "colab_type": "text"
      },
      "source": [
        "<a href=\"https://colab.research.google.com/github/mhammoud14/AutoLogin/blob/main/ML_PROJECT.ipynb\" target=\"_parent\"><img src=\"https://colab.research.google.com/assets/colab-badge.svg\" alt=\"Open In Colab\"/></a>"
      ]
    },
    {
      "cell_type": "markdown",
      "source": [
        "# Machine Learning Project : Car Evaluation"
      ],
      "metadata": {
        "id": "UyYUpz1Bfi6M"
      }
    },
    {
      "cell_type": "markdown",
      "source": [
        "Name :\n",
        "*   Nadine Jaafar\n"
      ],
      "metadata": {
        "id": "GkCe99qmfg1y"
      }
    },
    {
      "cell_type": "markdown",
      "source": [
        "#**Introduction**\n"
      ],
      "metadata": {
        "id": "2a7kDBNwxLxT"
      }
    },
    {
      "cell_type": "markdown",
      "source": [
        "The car evaluation dataset is a critical repository containing information on various attributes and features of automobiles, serving as a valuable resource for machine learning projects. Exploring this dataset is pivotal as it enables the development and assessment of predictive models for car evaluation. Understanding the relationship between factors like price, safety, maintenance costs, and the overall acceptability of cars can significantly impact consumer decisions and the automotive industry as a whole. By delving into this dataset, one can uncover patterns, correlations, and predictive insights that contribute to better-informed decisions in car manufacturing, marketing strategies, and even policy-making related to transportation and safety standards. Studying this dataset for a machine learning project provides an opportunity to harness the power of data to enhance our understanding of car evaluation metrics, ultimately improving consumer experiences and industry practices.\n",
        "\n",
        "For our machine learning project, we plan to implement both the Decision Tree Classifier and the Random Forest Classifier on the car evaluation dataset using Python. Our primary objective is to ascertain the superior predictive performance between these two models. To accomplish this, we will divide the dataset into training and test sets, a fundamental step in evaluating machine learning models. By training each classifier on the training data, we aim to capture the underlying patterns and relationships within the dataset. Subsequently, we will use the test set to assess and compare the predictive accuracy, precision, recall, and other performance metrics of both models. This approach will enable us to determine which classifier—Decision Tree or Random Forest—yields better results in predicting car evaluations, thereby aiding in selecting the most effective model for this specific dataset and task."
      ],
      "metadata": {
        "id": "phGdBFN9xTWM"
      }
    },
    {
      "cell_type": "markdown",
      "source": [
        "#**1. Collecting Data:**"
      ],
      "metadata": {
        "id": "uoTE1tgIf_gy"
      }
    },
    {
      "cell_type": "markdown",
      "source": [
        " ## Import libraries"
      ],
      "metadata": {
        "id": "LRdWWrWvgJlY"
      }
    },
    {
      "cell_type": "code",
      "source": [
        "# linear algebra\n",
        "import numpy as np\n",
        "\n",
        "# data processing, CSV file I/O\n",
        "import pandas as pd\n",
        "\n",
        "# for data visualization purposes\n",
        "import matplotlib.pyplot as plt\n",
        "\n",
        "# for data visualization\n",
        "import seaborn as sns\n",
        "%matplotlib inline\n"
      ],
      "metadata": {
        "id": "cg262Z1ZgEs2"
      },
      "execution_count": null,
      "outputs": []
    },
    {
      "cell_type": "markdown",
      "source": [
        "## Import dataset\n"
      ],
      "metadata": {
        "id": "pfMntNrTgjjJ"
      }
    },
    {
      "cell_type": "code",
      "source": [
        "# This database was obtained from Kaggle\n",
        "url = \"https://raw.githubusercontent.com/nadinehjaafar/csc431/main/car_evaluation.csv\"\n",
        "df = pd.read_csv(url)\n",
        "\n",
        "# View dimensions of dataset\n",
        "print(df.shape)\n",
        "\n",
        "# Preview the dataset\n",
        "# View top 5 rows of dataset to make sure the data was imported correctly\n",
        "df.head()"
      ],
      "metadata": {
        "colab": {
          "base_uri": "https://localhost:8080/",
          "height": 224
        },
        "id": "LnuOkOiugsra",
        "outputId": "7804d041-c43e-4b58-f173-04907d179375"
      },
      "execution_count": null,
      "outputs": [
        {
          "output_type": "stream",
          "name": "stdout",
          "text": [
            "(1727, 7)\n"
          ]
        },
        {
          "output_type": "execute_result",
          "data": {
            "text/plain": [
              "   vhigh vhigh.1  2 2.1  small   low  unacc\n",
              "0  vhigh   vhigh  2   2  small   med  unacc\n",
              "1  vhigh   vhigh  2   2  small  high  unacc\n",
              "2  vhigh   vhigh  2   2    med   low  unacc\n",
              "3  vhigh   vhigh  2   2    med   med  unacc\n",
              "4  vhigh   vhigh  2   2    med  high  unacc"
            ],
            "text/html": [
              "\n",
              "  <div id=\"df-208a3489-fbf1-45c9-b530-3fcde8738dd4\" class=\"colab-df-container\">\n",
              "    <div>\n",
              "<style scoped>\n",
              "    .dataframe tbody tr th:only-of-type {\n",
              "        vertical-align: middle;\n",
              "    }\n",
              "\n",
              "    .dataframe tbody tr th {\n",
              "        vertical-align: top;\n",
              "    }\n",
              "\n",
              "    .dataframe thead th {\n",
              "        text-align: right;\n",
              "    }\n",
              "</style>\n",
              "<table border=\"1\" class=\"dataframe\">\n",
              "  <thead>\n",
              "    <tr style=\"text-align: right;\">\n",
              "      <th></th>\n",
              "      <th>vhigh</th>\n",
              "      <th>vhigh.1</th>\n",
              "      <th>2</th>\n",
              "      <th>2.1</th>\n",
              "      <th>small</th>\n",
              "      <th>low</th>\n",
              "      <th>unacc</th>\n",
              "    </tr>\n",
              "  </thead>\n",
              "  <tbody>\n",
              "    <tr>\n",
              "      <th>0</th>\n",
              "      <td>vhigh</td>\n",
              "      <td>vhigh</td>\n",
              "      <td>2</td>\n",
              "      <td>2</td>\n",
              "      <td>small</td>\n",
              "      <td>med</td>\n",
              "      <td>unacc</td>\n",
              "    </tr>\n",
              "    <tr>\n",
              "      <th>1</th>\n",
              "      <td>vhigh</td>\n",
              "      <td>vhigh</td>\n",
              "      <td>2</td>\n",
              "      <td>2</td>\n",
              "      <td>small</td>\n",
              "      <td>high</td>\n",
              "      <td>unacc</td>\n",
              "    </tr>\n",
              "    <tr>\n",
              "      <th>2</th>\n",
              "      <td>vhigh</td>\n",
              "      <td>vhigh</td>\n",
              "      <td>2</td>\n",
              "      <td>2</td>\n",
              "      <td>med</td>\n",
              "      <td>low</td>\n",
              "      <td>unacc</td>\n",
              "    </tr>\n",
              "    <tr>\n",
              "      <th>3</th>\n",
              "      <td>vhigh</td>\n",
              "      <td>vhigh</td>\n",
              "      <td>2</td>\n",
              "      <td>2</td>\n",
              "      <td>med</td>\n",
              "      <td>med</td>\n",
              "      <td>unacc</td>\n",
              "    </tr>\n",
              "    <tr>\n",
              "      <th>4</th>\n",
              "      <td>vhigh</td>\n",
              "      <td>vhigh</td>\n",
              "      <td>2</td>\n",
              "      <td>2</td>\n",
              "      <td>med</td>\n",
              "      <td>high</td>\n",
              "      <td>unacc</td>\n",
              "    </tr>\n",
              "  </tbody>\n",
              "</table>\n",
              "</div>\n",
              "    <div class=\"colab-df-buttons\">\n",
              "\n",
              "  <div class=\"colab-df-container\">\n",
              "    <button class=\"colab-df-convert\" onclick=\"convertToInteractive('df-208a3489-fbf1-45c9-b530-3fcde8738dd4')\"\n",
              "            title=\"Convert this dataframe to an interactive table.\"\n",
              "            style=\"display:none;\">\n",
              "\n",
              "  <svg xmlns=\"http://www.w3.org/2000/svg\" height=\"24px\" viewBox=\"0 -960 960 960\">\n",
              "    <path d=\"M120-120v-720h720v720H120Zm60-500h600v-160H180v160Zm220 220h160v-160H400v160Zm0 220h160v-160H400v160ZM180-400h160v-160H180v160Zm440 0h160v-160H620v160ZM180-180h160v-160H180v160Zm440 0h160v-160H620v160Z\"/>\n",
              "  </svg>\n",
              "    </button>\n",
              "\n",
              "  <style>\n",
              "    .colab-df-container {\n",
              "      display:flex;\n",
              "      gap: 12px;\n",
              "    }\n",
              "\n",
              "    .colab-df-convert {\n",
              "      background-color: #E8F0FE;\n",
              "      border: none;\n",
              "      border-radius: 50%;\n",
              "      cursor: pointer;\n",
              "      display: none;\n",
              "      fill: #1967D2;\n",
              "      height: 32px;\n",
              "      padding: 0 0 0 0;\n",
              "      width: 32px;\n",
              "    }\n",
              "\n",
              "    .colab-df-convert:hover {\n",
              "      background-color: #E2EBFA;\n",
              "      box-shadow: 0px 1px 2px rgba(60, 64, 67, 0.3), 0px 1px 3px 1px rgba(60, 64, 67, 0.15);\n",
              "      fill: #174EA6;\n",
              "    }\n",
              "\n",
              "    .colab-df-buttons div {\n",
              "      margin-bottom: 4px;\n",
              "    }\n",
              "\n",
              "    [theme=dark] .colab-df-convert {\n",
              "      background-color: #3B4455;\n",
              "      fill: #D2E3FC;\n",
              "    }\n",
              "\n",
              "    [theme=dark] .colab-df-convert:hover {\n",
              "      background-color: #434B5C;\n",
              "      box-shadow: 0px 1px 3px 1px rgba(0, 0, 0, 0.15);\n",
              "      filter: drop-shadow(0px 1px 2px rgba(0, 0, 0, 0.3));\n",
              "      fill: #FFFFFF;\n",
              "    }\n",
              "  </style>\n",
              "\n",
              "    <script>\n",
              "      const buttonEl =\n",
              "        document.querySelector('#df-208a3489-fbf1-45c9-b530-3fcde8738dd4 button.colab-df-convert');\n",
              "      buttonEl.style.display =\n",
              "        google.colab.kernel.accessAllowed ? 'block' : 'none';\n",
              "\n",
              "      async function convertToInteractive(key) {\n",
              "        const element = document.querySelector('#df-208a3489-fbf1-45c9-b530-3fcde8738dd4');\n",
              "        const dataTable =\n",
              "          await google.colab.kernel.invokeFunction('convertToInteractive',\n",
              "                                                    [key], {});\n",
              "        if (!dataTable) return;\n",
              "\n",
              "        const docLinkHtml = 'Like what you see? Visit the ' +\n",
              "          '<a target=\"_blank\" href=https://colab.research.google.com/notebooks/data_table.ipynb>data table notebook</a>'\n",
              "          + ' to learn more about interactive tables.';\n",
              "        element.innerHTML = '';\n",
              "        dataTable['output_type'] = 'display_data';\n",
              "        await google.colab.output.renderOutput(dataTable, element);\n",
              "        const docLink = document.createElement('div');\n",
              "        docLink.innerHTML = docLinkHtml;\n",
              "        element.appendChild(docLink);\n",
              "      }\n",
              "    </script>\n",
              "  </div>\n",
              "\n",
              "\n",
              "<div id=\"df-ee9f3ebf-2243-4c58-9504-f4b08ab51222\">\n",
              "  <button class=\"colab-df-quickchart\" onclick=\"quickchart('df-ee9f3ebf-2243-4c58-9504-f4b08ab51222')\"\n",
              "            title=\"Suggest charts\"\n",
              "            style=\"display:none;\">\n",
              "\n",
              "<svg xmlns=\"http://www.w3.org/2000/svg\" height=\"24px\"viewBox=\"0 0 24 24\"\n",
              "     width=\"24px\">\n",
              "    <g>\n",
              "        <path d=\"M19 3H5c-1.1 0-2 .9-2 2v14c0 1.1.9 2 2 2h14c1.1 0 2-.9 2-2V5c0-1.1-.9-2-2-2zM9 17H7v-7h2v7zm4 0h-2V7h2v10zm4 0h-2v-4h2v4z\"/>\n",
              "    </g>\n",
              "</svg>\n",
              "  </button>\n",
              "\n",
              "<style>\n",
              "  .colab-df-quickchart {\n",
              "      --bg-color: #E8F0FE;\n",
              "      --fill-color: #1967D2;\n",
              "      --hover-bg-color: #E2EBFA;\n",
              "      --hover-fill-color: #174EA6;\n",
              "      --disabled-fill-color: #AAA;\n",
              "      --disabled-bg-color: #DDD;\n",
              "  }\n",
              "\n",
              "  [theme=dark] .colab-df-quickchart {\n",
              "      --bg-color: #3B4455;\n",
              "      --fill-color: #D2E3FC;\n",
              "      --hover-bg-color: #434B5C;\n",
              "      --hover-fill-color: #FFFFFF;\n",
              "      --disabled-bg-color: #3B4455;\n",
              "      --disabled-fill-color: #666;\n",
              "  }\n",
              "\n",
              "  .colab-df-quickchart {\n",
              "    background-color: var(--bg-color);\n",
              "    border: none;\n",
              "    border-radius: 50%;\n",
              "    cursor: pointer;\n",
              "    display: none;\n",
              "    fill: var(--fill-color);\n",
              "    height: 32px;\n",
              "    padding: 0;\n",
              "    width: 32px;\n",
              "  }\n",
              "\n",
              "  .colab-df-quickchart:hover {\n",
              "    background-color: var(--hover-bg-color);\n",
              "    box-shadow: 0 1px 2px rgba(60, 64, 67, 0.3), 0 1px 3px 1px rgba(60, 64, 67, 0.15);\n",
              "    fill: var(--button-hover-fill-color);\n",
              "  }\n",
              "\n",
              "  .colab-df-quickchart-complete:disabled,\n",
              "  .colab-df-quickchart-complete:disabled:hover {\n",
              "    background-color: var(--disabled-bg-color);\n",
              "    fill: var(--disabled-fill-color);\n",
              "    box-shadow: none;\n",
              "  }\n",
              "\n",
              "  .colab-df-spinner {\n",
              "    border: 2px solid var(--fill-color);\n",
              "    border-color: transparent;\n",
              "    border-bottom-color: var(--fill-color);\n",
              "    animation:\n",
              "      spin 1s steps(1) infinite;\n",
              "  }\n",
              "\n",
              "  @keyframes spin {\n",
              "    0% {\n",
              "      border-color: transparent;\n",
              "      border-bottom-color: var(--fill-color);\n",
              "      border-left-color: var(--fill-color);\n",
              "    }\n",
              "    20% {\n",
              "      border-color: transparent;\n",
              "      border-left-color: var(--fill-color);\n",
              "      border-top-color: var(--fill-color);\n",
              "    }\n",
              "    30% {\n",
              "      border-color: transparent;\n",
              "      border-left-color: var(--fill-color);\n",
              "      border-top-color: var(--fill-color);\n",
              "      border-right-color: var(--fill-color);\n",
              "    }\n",
              "    40% {\n",
              "      border-color: transparent;\n",
              "      border-right-color: var(--fill-color);\n",
              "      border-top-color: var(--fill-color);\n",
              "    }\n",
              "    60% {\n",
              "      border-color: transparent;\n",
              "      border-right-color: var(--fill-color);\n",
              "    }\n",
              "    80% {\n",
              "      border-color: transparent;\n",
              "      border-right-color: var(--fill-color);\n",
              "      border-bottom-color: var(--fill-color);\n",
              "    }\n",
              "    90% {\n",
              "      border-color: transparent;\n",
              "      border-bottom-color: var(--fill-color);\n",
              "    }\n",
              "  }\n",
              "</style>\n",
              "\n",
              "  <script>\n",
              "    async function quickchart(key) {\n",
              "      const quickchartButtonEl =\n",
              "        document.querySelector('#' + key + ' button');\n",
              "      quickchartButtonEl.disabled = true;  // To prevent multiple clicks.\n",
              "      quickchartButtonEl.classList.add('colab-df-spinner');\n",
              "      try {\n",
              "        const charts = await google.colab.kernel.invokeFunction(\n",
              "            'suggestCharts', [key], {});\n",
              "      } catch (error) {\n",
              "        console.error('Error during call to suggestCharts:', error);\n",
              "      }\n",
              "      quickchartButtonEl.classList.remove('colab-df-spinner');\n",
              "      quickchartButtonEl.classList.add('colab-df-quickchart-complete');\n",
              "    }\n",
              "    (() => {\n",
              "      let quickchartButtonEl =\n",
              "        document.querySelector('#df-ee9f3ebf-2243-4c58-9504-f4b08ab51222 button');\n",
              "      quickchartButtonEl.style.display =\n",
              "        google.colab.kernel.accessAllowed ? 'block' : 'none';\n",
              "    })();\n",
              "  </script>\n",
              "</div>\n",
              "    </div>\n",
              "  </div>\n"
            ]
          },
          "metadata": {},
          "execution_count": 299
        }
      ]
    },
    {
      "cell_type": "markdown",
      "source": [
        "#**2. Preparing the Data:**"
      ],
      "metadata": {
        "id": "FUKaaEGojNDz"
      }
    },
    {
      "cell_type": "markdown",
      "source": [
        "## Rename column names"
      ],
      "metadata": {
        "id": "ys0Zla_HkcHr"
      }
    },
    {
      "cell_type": "markdown",
      "source": [
        "We renamed the column names to words separated by underscores for easier access and code usage."
      ],
      "metadata": {
        "id": "iTGtIMNdmKVR"
      }
    },
    {
      "cell_type": "code",
      "source": [
        "col_names = ['buying', 'maint', 'doors', 'persons', 'lug_boot', 'safety', 'class']\n",
        "df.columns = col_names\n",
        "df.columns\n",
        "\n",
        "# Preview the dataset\n",
        "df.head()"
      ],
      "metadata": {
        "colab": {
          "base_uri": "https://localhost:8080/",
          "height": 206
        },
        "id": "5c2p1tPAkm1q",
        "outputId": "98e1e216-2001-4425-82a1-2548ab74ec9a"
      },
      "execution_count": null,
      "outputs": [
        {
          "output_type": "execute_result",
          "data": {
            "text/plain": [
              "  buying  maint doors persons lug_boot safety  class\n",
              "0  vhigh  vhigh     2       2    small    med  unacc\n",
              "1  vhigh  vhigh     2       2    small   high  unacc\n",
              "2  vhigh  vhigh     2       2      med    low  unacc\n",
              "3  vhigh  vhigh     2       2      med    med  unacc\n",
              "4  vhigh  vhigh     2       2      med   high  unacc"
            ],
            "text/html": [
              "\n",
              "  <div id=\"df-4d7b24d0-f946-4ba8-96ba-1cb19d6e212f\" class=\"colab-df-container\">\n",
              "    <div>\n",
              "<style scoped>\n",
              "    .dataframe tbody tr th:only-of-type {\n",
              "        vertical-align: middle;\n",
              "    }\n",
              "\n",
              "    .dataframe tbody tr th {\n",
              "        vertical-align: top;\n",
              "    }\n",
              "\n",
              "    .dataframe thead th {\n",
              "        text-align: right;\n",
              "    }\n",
              "</style>\n",
              "<table border=\"1\" class=\"dataframe\">\n",
              "  <thead>\n",
              "    <tr style=\"text-align: right;\">\n",
              "      <th></th>\n",
              "      <th>buying</th>\n",
              "      <th>maint</th>\n",
              "      <th>doors</th>\n",
              "      <th>persons</th>\n",
              "      <th>lug_boot</th>\n",
              "      <th>safety</th>\n",
              "      <th>class</th>\n",
              "    </tr>\n",
              "  </thead>\n",
              "  <tbody>\n",
              "    <tr>\n",
              "      <th>0</th>\n",
              "      <td>vhigh</td>\n",
              "      <td>vhigh</td>\n",
              "      <td>2</td>\n",
              "      <td>2</td>\n",
              "      <td>small</td>\n",
              "      <td>med</td>\n",
              "      <td>unacc</td>\n",
              "    </tr>\n",
              "    <tr>\n",
              "      <th>1</th>\n",
              "      <td>vhigh</td>\n",
              "      <td>vhigh</td>\n",
              "      <td>2</td>\n",
              "      <td>2</td>\n",
              "      <td>small</td>\n",
              "      <td>high</td>\n",
              "      <td>unacc</td>\n",
              "    </tr>\n",
              "    <tr>\n",
              "      <th>2</th>\n",
              "      <td>vhigh</td>\n",
              "      <td>vhigh</td>\n",
              "      <td>2</td>\n",
              "      <td>2</td>\n",
              "      <td>med</td>\n",
              "      <td>low</td>\n",
              "      <td>unacc</td>\n",
              "    </tr>\n",
              "    <tr>\n",
              "      <th>3</th>\n",
              "      <td>vhigh</td>\n",
              "      <td>vhigh</td>\n",
              "      <td>2</td>\n",
              "      <td>2</td>\n",
              "      <td>med</td>\n",
              "      <td>med</td>\n",
              "      <td>unacc</td>\n",
              "    </tr>\n",
              "    <tr>\n",
              "      <th>4</th>\n",
              "      <td>vhigh</td>\n",
              "      <td>vhigh</td>\n",
              "      <td>2</td>\n",
              "      <td>2</td>\n",
              "      <td>med</td>\n",
              "      <td>high</td>\n",
              "      <td>unacc</td>\n",
              "    </tr>\n",
              "  </tbody>\n",
              "</table>\n",
              "</div>\n",
              "    <div class=\"colab-df-buttons\">\n",
              "\n",
              "  <div class=\"colab-df-container\">\n",
              "    <button class=\"colab-df-convert\" onclick=\"convertToInteractive('df-4d7b24d0-f946-4ba8-96ba-1cb19d6e212f')\"\n",
              "            title=\"Convert this dataframe to an interactive table.\"\n",
              "            style=\"display:none;\">\n",
              "\n",
              "  <svg xmlns=\"http://www.w3.org/2000/svg\" height=\"24px\" viewBox=\"0 -960 960 960\">\n",
              "    <path d=\"M120-120v-720h720v720H120Zm60-500h600v-160H180v160Zm220 220h160v-160H400v160Zm0 220h160v-160H400v160ZM180-400h160v-160H180v160Zm440 0h160v-160H620v160ZM180-180h160v-160H180v160Zm440 0h160v-160H620v160Z\"/>\n",
              "  </svg>\n",
              "    </button>\n",
              "\n",
              "  <style>\n",
              "    .colab-df-container {\n",
              "      display:flex;\n",
              "      gap: 12px;\n",
              "    }\n",
              "\n",
              "    .colab-df-convert {\n",
              "      background-color: #E8F0FE;\n",
              "      border: none;\n",
              "      border-radius: 50%;\n",
              "      cursor: pointer;\n",
              "      display: none;\n",
              "      fill: #1967D2;\n",
              "      height: 32px;\n",
              "      padding: 0 0 0 0;\n",
              "      width: 32px;\n",
              "    }\n",
              "\n",
              "    .colab-df-convert:hover {\n",
              "      background-color: #E2EBFA;\n",
              "      box-shadow: 0px 1px 2px rgba(60, 64, 67, 0.3), 0px 1px 3px 1px rgba(60, 64, 67, 0.15);\n",
              "      fill: #174EA6;\n",
              "    }\n",
              "\n",
              "    .colab-df-buttons div {\n",
              "      margin-bottom: 4px;\n",
              "    }\n",
              "\n",
              "    [theme=dark] .colab-df-convert {\n",
              "      background-color: #3B4455;\n",
              "      fill: #D2E3FC;\n",
              "    }\n",
              "\n",
              "    [theme=dark] .colab-df-convert:hover {\n",
              "      background-color: #434B5C;\n",
              "      box-shadow: 0px 1px 3px 1px rgba(0, 0, 0, 0.15);\n",
              "      filter: drop-shadow(0px 1px 2px rgba(0, 0, 0, 0.3));\n",
              "      fill: #FFFFFF;\n",
              "    }\n",
              "  </style>\n",
              "\n",
              "    <script>\n",
              "      const buttonEl =\n",
              "        document.querySelector('#df-4d7b24d0-f946-4ba8-96ba-1cb19d6e212f button.colab-df-convert');\n",
              "      buttonEl.style.display =\n",
              "        google.colab.kernel.accessAllowed ? 'block' : 'none';\n",
              "\n",
              "      async function convertToInteractive(key) {\n",
              "        const element = document.querySelector('#df-4d7b24d0-f946-4ba8-96ba-1cb19d6e212f');\n",
              "        const dataTable =\n",
              "          await google.colab.kernel.invokeFunction('convertToInteractive',\n",
              "                                                    [key], {});\n",
              "        if (!dataTable) return;\n",
              "\n",
              "        const docLinkHtml = 'Like what you see? Visit the ' +\n",
              "          '<a target=\"_blank\" href=https://colab.research.google.com/notebooks/data_table.ipynb>data table notebook</a>'\n",
              "          + ' to learn more about interactive tables.';\n",
              "        element.innerHTML = '';\n",
              "        dataTable['output_type'] = 'display_data';\n",
              "        await google.colab.output.renderOutput(dataTable, element);\n",
              "        const docLink = document.createElement('div');\n",
              "        docLink.innerHTML = docLinkHtml;\n",
              "        element.appendChild(docLink);\n",
              "      }\n",
              "    </script>\n",
              "  </div>\n",
              "\n",
              "\n",
              "<div id=\"df-21f234ff-982e-49ec-a08a-40d03464bd4e\">\n",
              "  <button class=\"colab-df-quickchart\" onclick=\"quickchart('df-21f234ff-982e-49ec-a08a-40d03464bd4e')\"\n",
              "            title=\"Suggest charts\"\n",
              "            style=\"display:none;\">\n",
              "\n",
              "<svg xmlns=\"http://www.w3.org/2000/svg\" height=\"24px\"viewBox=\"0 0 24 24\"\n",
              "     width=\"24px\">\n",
              "    <g>\n",
              "        <path d=\"M19 3H5c-1.1 0-2 .9-2 2v14c0 1.1.9 2 2 2h14c1.1 0 2-.9 2-2V5c0-1.1-.9-2-2-2zM9 17H7v-7h2v7zm4 0h-2V7h2v10zm4 0h-2v-4h2v4z\"/>\n",
              "    </g>\n",
              "</svg>\n",
              "  </button>\n",
              "\n",
              "<style>\n",
              "  .colab-df-quickchart {\n",
              "      --bg-color: #E8F0FE;\n",
              "      --fill-color: #1967D2;\n",
              "      --hover-bg-color: #E2EBFA;\n",
              "      --hover-fill-color: #174EA6;\n",
              "      --disabled-fill-color: #AAA;\n",
              "      --disabled-bg-color: #DDD;\n",
              "  }\n",
              "\n",
              "  [theme=dark] .colab-df-quickchart {\n",
              "      --bg-color: #3B4455;\n",
              "      --fill-color: #D2E3FC;\n",
              "      --hover-bg-color: #434B5C;\n",
              "      --hover-fill-color: #FFFFFF;\n",
              "      --disabled-bg-color: #3B4455;\n",
              "      --disabled-fill-color: #666;\n",
              "  }\n",
              "\n",
              "  .colab-df-quickchart {\n",
              "    background-color: var(--bg-color);\n",
              "    border: none;\n",
              "    border-radius: 50%;\n",
              "    cursor: pointer;\n",
              "    display: none;\n",
              "    fill: var(--fill-color);\n",
              "    height: 32px;\n",
              "    padding: 0;\n",
              "    width: 32px;\n",
              "  }\n",
              "\n",
              "  .colab-df-quickchart:hover {\n",
              "    background-color: var(--hover-bg-color);\n",
              "    box-shadow: 0 1px 2px rgba(60, 64, 67, 0.3), 0 1px 3px 1px rgba(60, 64, 67, 0.15);\n",
              "    fill: var(--button-hover-fill-color);\n",
              "  }\n",
              "\n",
              "  .colab-df-quickchart-complete:disabled,\n",
              "  .colab-df-quickchart-complete:disabled:hover {\n",
              "    background-color: var(--disabled-bg-color);\n",
              "    fill: var(--disabled-fill-color);\n",
              "    box-shadow: none;\n",
              "  }\n",
              "\n",
              "  .colab-df-spinner {\n",
              "    border: 2px solid var(--fill-color);\n",
              "    border-color: transparent;\n",
              "    border-bottom-color: var(--fill-color);\n",
              "    animation:\n",
              "      spin 1s steps(1) infinite;\n",
              "  }\n",
              "\n",
              "  @keyframes spin {\n",
              "    0% {\n",
              "      border-color: transparent;\n",
              "      border-bottom-color: var(--fill-color);\n",
              "      border-left-color: var(--fill-color);\n",
              "    }\n",
              "    20% {\n",
              "      border-color: transparent;\n",
              "      border-left-color: var(--fill-color);\n",
              "      border-top-color: var(--fill-color);\n",
              "    }\n",
              "    30% {\n",
              "      border-color: transparent;\n",
              "      border-left-color: var(--fill-color);\n",
              "      border-top-color: var(--fill-color);\n",
              "      border-right-color: var(--fill-color);\n",
              "    }\n",
              "    40% {\n",
              "      border-color: transparent;\n",
              "      border-right-color: var(--fill-color);\n",
              "      border-top-color: var(--fill-color);\n",
              "    }\n",
              "    60% {\n",
              "      border-color: transparent;\n",
              "      border-right-color: var(--fill-color);\n",
              "    }\n",
              "    80% {\n",
              "      border-color: transparent;\n",
              "      border-right-color: var(--fill-color);\n",
              "      border-bottom-color: var(--fill-color);\n",
              "    }\n",
              "    90% {\n",
              "      border-color: transparent;\n",
              "      border-bottom-color: var(--fill-color);\n",
              "    }\n",
              "  }\n",
              "</style>\n",
              "\n",
              "  <script>\n",
              "    async function quickchart(key) {\n",
              "      const quickchartButtonEl =\n",
              "        document.querySelector('#' + key + ' button');\n",
              "      quickchartButtonEl.disabled = true;  // To prevent multiple clicks.\n",
              "      quickchartButtonEl.classList.add('colab-df-spinner');\n",
              "      try {\n",
              "        const charts = await google.colab.kernel.invokeFunction(\n",
              "            'suggestCharts', [key], {});\n",
              "      } catch (error) {\n",
              "        console.error('Error during call to suggestCharts:', error);\n",
              "      }\n",
              "      quickchartButtonEl.classList.remove('colab-df-spinner');\n",
              "      quickchartButtonEl.classList.add('colab-df-quickchart-complete');\n",
              "    }\n",
              "    (() => {\n",
              "      let quickchartButtonEl =\n",
              "        document.querySelector('#df-21f234ff-982e-49ec-a08a-40d03464bd4e button');\n",
              "      quickchartButtonEl.style.display =\n",
              "        google.colab.kernel.accessAllowed ? 'block' : 'none';\n",
              "    })();\n",
              "  </script>\n",
              "</div>\n",
              "    </div>\n",
              "  </div>\n"
            ]
          },
          "metadata": {},
          "execution_count": 300
        }
      ]
    },
    {
      "cell_type": "markdown",
      "source": [
        "## Frequency distribution of values in variables"
      ],
      "metadata": {
        "id": "jmsdFzTcnMT1"
      }
    },
    {
      "cell_type": "markdown",
      "source": [
        "We will check the frequency counts of categorical variables."
      ],
      "metadata": {
        "id": "hMoF8yXs0HX0"
      }
    },
    {
      "cell_type": "code",
      "source": [
        "for var in df.columns:\n",
        "    print(df[var].value_counts())"
      ],
      "metadata": {
        "colab": {
          "base_uri": "https://localhost:8080/"
        },
        "id": "pp5L9dlfnSgU",
        "outputId": "1b1b097d-3a94-4b96-8903-b8dcd8fa03ca"
      },
      "execution_count": null,
      "outputs": [
        {
          "output_type": "stream",
          "name": "stdout",
          "text": [
            "high     432\n",
            "med      432\n",
            "low      432\n",
            "vhigh    431\n",
            "Name: buying, dtype: int64\n",
            "high     432\n",
            "med      432\n",
            "low      432\n",
            "vhigh    431\n",
            "Name: maint, dtype: int64\n",
            "3        432\n",
            "4        432\n",
            "5more    432\n",
            "2        431\n",
            "Name: doors, dtype: int64\n",
            "4       576\n",
            "more    576\n",
            "2       575\n",
            "Name: persons, dtype: int64\n",
            "med      576\n",
            "big      576\n",
            "small    575\n",
            "Name: lug_boot, dtype: int64\n",
            "med     576\n",
            "high    576\n",
            "low     575\n",
            "Name: safety, dtype: int64\n",
            "unacc    1209\n",
            "acc       384\n",
            "good       69\n",
            "vgood      65\n",
            "Name: class, dtype: int64\n"
          ]
        }
      ]
    },
    {
      "cell_type": "markdown",
      "source": [
        "## Frequency distribution visualization"
      ],
      "metadata": {
        "id": "aswgcW6qmNsk"
      }
    },
    {
      "cell_type": "code",
      "source": [
        "import seaborn as sns\n",
        "import matplotlib.pyplot as plt\n",
        "\n",
        "# Assuming df is your DataFrame\n",
        "num_cols = df.shape[1]\n",
        "num_rows = (num_cols + 2) // 3  # Corrected calculation for the number of rows needed\n",
        "\n",
        "fig, axes = plt.subplots(nrows=num_rows, ncols=3, figsize=(12, num_rows * 4))\n",
        "\n",
        "for i, var in enumerate(df.columns):\n",
        "    row, col = divmod(i, 3)\n",
        "    sns.countplot(x=var, data=df, palette='viridis', ax=axes[row, col])\n",
        "    axes[row, col].set_title(f'Frequency Distribution of {var}')\n",
        "    axes[row, col].set_xlabel(var)\n",
        "    axes[row, col].set_ylabel('Frequency')\n",
        "\n",
        "# Remove empty subplots\n",
        "for i in range(num_cols, num_rows * 3):\n",
        "    fig.delaxes(axes.flatten()[i])\n",
        "\n",
        "plt.tight_layout()\n",
        "plt.show()\n"
      ],
      "metadata": {
        "colab": {
          "base_uri": "https://localhost:8080/",
          "height": 1000
        },
        "id": "ATIW33x_lO8K",
        "outputId": "0dc24251-5c0f-4df1-878a-4aab38cce709"
      },
      "execution_count": null,
      "outputs": [
        {
          "output_type": "display_data",
          "data": {
            "text/plain": [
              "<Figure size 1200x1200 with 7 Axes>"
            ],
            "image/png": "[encoded data removed]"
          },
          "metadata": {}
        }
      ]
    },
    {
      "cell_type": "markdown",
      "source": [
        "We can see that the doors and persons are categorical in nature. So, I will treat them as categorical variables."
      ],
      "metadata": {
        "id": "tlHCIlmXnUqa"
      }
    },
    {
      "cell_type": "markdown",
      "source": [
        "## Missing values in variables"
      ],
      "metadata": {
        "id": "0V0ib6_rnzZi"
      }
    },
    {
      "cell_type": "code",
      "source": [
        "# check missing values in variables\n",
        "df.isnull().sum()"
      ],
      "metadata": {
        "colab": {
          "base_uri": "https://localhost:8080/"
        },
        "id": "YdHj_hprn1Oq",
        "outputId": "5b31e137-01b7-40ff-fb55-61826097af44"
      },
      "execution_count": null,
      "outputs": [
        {
          "output_type": "execute_result",
          "data": {
            "text/plain": [
              "buying      0\n",
              "maint       0\n",
              "doors       0\n",
              "persons     0\n",
              "lug_boot    0\n",
              "safety      0\n",
              "class       0\n",
              "dtype: int64"
            ]
          },
          "metadata": {},
          "execution_count": 303
        }
      ]
    },
    {
      "cell_type": "markdown",
      "source": [
        "We can see that there are no missing values in the dataset. We have checked the frequency distribution of values previously. It also confirms that there are no missing values in the dataset.\n",
        "\n"
      ],
      "metadata": {
        "id": "zLttes6Zn60U"
      }
    },
    {
      "cell_type": "markdown",
      "source": [
        "## Explore class variable"
      ],
      "metadata": {
        "id": "tKZKke182Hzc"
      }
    },
    {
      "cell_type": "code",
      "source": [
        "df['class'].value_counts()"
      ],
      "metadata": {
        "colab": {
          "base_uri": "https://localhost:8080/"
        },
        "id": "n10BBoTt2NG4",
        "outputId": "f985ece5-fafe-4563-fd2e-40f30e07f3a0"
      },
      "execution_count": null,
      "outputs": [
        {
          "output_type": "execute_result",
          "data": {
            "text/plain": [
              "unacc    1209\n",
              "acc       384\n",
              "good       69\n",
              "vgood      65\n",
              "Name: class, dtype: int64"
            ]
          },
          "metadata": {},
          "execution_count": 304
        }
      ]
    },
    {
      "cell_type": "markdown",
      "source": [
        "## Declare feature vector and target variable"
      ],
      "metadata": {
        "id": "2SfbIyVfszOY"
      }
    },
    {
      "cell_type": "code",
      "source": [
        "X = df.drop(['class'], axis=1)\n",
        "y = df['class']\n"
      ],
      "metadata": {
        "id": "bCB6aRfZs1ci"
      },
      "execution_count": null,
      "outputs": []
    },
    {
      "cell_type": "markdown",
      "source": [
        "##Split data into separate training and test set"
      ],
      "metadata": {
        "id": "TnF7z1z_tN3E"
      }
    },
    {
      "cell_type": "code",
      "source": [
        "from sklearn.model_selection import train_test_split\n",
        "\n",
        "# split X and y into training and testing sets\n",
        "X_train, X_test, y_train, y_test = train_test_split(X, y, test_size = 0.33, random_state = 42)\n",
        "\n",
        "# check the shape of X_train and X_test\n",
        "X_train.shape, X_test.shape"
      ],
      "metadata": {
        "id": "uCO2yFvStRz0",
        "colab": {
          "base_uri": "https://localhost:8080/"
        },
        "outputId": "3eeaf52c-5d17-48f7-a2e8-f6525c22bc76"
      },
      "execution_count": null,
      "outputs": [
        {
          "output_type": "execute_result",
          "data": {
            "text/plain": [
              "((1157, 6), (570, 6))"
            ]
          },
          "metadata": {},
          "execution_count": 306
        }
      ]
    },
    {
      "cell_type": "markdown",
      "source": [
        "## Feature Engineering"
      ],
      "metadata": {
        "id": "z86FwD71toLM"
      }
    },
    {
      "cell_type": "markdown",
      "source": [
        "Feature Engineering is the process of transforming raw data into useful features that help us to understand our model better and increase its predictive power. I will carry out feature engineering on different types of variables."
      ],
      "metadata": {
        "id": "dUSDTosY2lUe"
      }
    },
    {
      "cell_type": "code",
      "source": [
        "# check data types in X_train\n",
        "X_train.dtypes"
      ],
      "metadata": {
        "colab": {
          "base_uri": "https://localhost:8080/"
        },
        "id": "sUBaXZp5tv_y",
        "outputId": "6536a5d5-b77d-4002-aca6-0e7c1716136c"
      },
      "execution_count": null,
      "outputs": [
        {
          "output_type": "execute_result",
          "data": {
            "text/plain": [
              "buying      object\n",
              "maint       object\n",
              "doors       object\n",
              "persons     object\n",
              "lug_boot    object\n",
              "safety      object\n",
              "dtype: object"
            ]
          },
          "metadata": {},
          "execution_count": 307
        }
      ]
    },
    {
      "cell_type": "markdown",
      "source": [
        "##Encode categorical variables\n"
      ],
      "metadata": {
        "id": "YRQVgyegt567"
      }
    },
    {
      "cell_type": "markdown",
      "source": [
        "Now, I will encode the categorical variables.\n",
        "\n"
      ],
      "metadata": {
        "id": "NYKxM0nA29iX"
      }
    },
    {
      "cell_type": "code",
      "source": [
        "X_train.head()"
      ],
      "metadata": {
        "colab": {
          "base_uri": "https://localhost:8080/",
          "height": 206
        },
        "id": "JwzUzRX6uACE",
        "outputId": "2ac8e8fd-f87e-4ebf-ec61-67ab6000cf94"
      },
      "execution_count": null,
      "outputs": [
        {
          "output_type": "execute_result",
          "data": {
            "text/plain": [
              "     buying  maint  doors persons lug_boot safety\n",
              "83    vhigh  vhigh  5more       2      med    low\n",
              "48    vhigh  vhigh      3    more      med    med\n",
              "468    high  vhigh      3       4    small    med\n",
              "155   vhigh   high      3    more      med    low\n",
              "1043    med   high      4    more    small    low"
            ],
            "text/html": [
              "\n",
              "  <div id=\"df-2fa8dc07-61dd-4c2e-b6c5-63ba3fec006d\" class=\"colab-df-container\">\n",
              "    <div>\n",
              "<style scoped>\n",
              "    .dataframe tbody tr th:only-of-type {\n",
              "        vertical-align: middle;\n",
              "    }\n",
              "\n",
              "    .dataframe tbody tr th {\n",
              "        vertical-align: top;\n",
              "    }\n",
              "\n",
              "    .dataframe thead th {\n",
              "        text-align: right;\n",
              "    }\n",
              "</style>\n",
              "<table border=\"1\" class=\"dataframe\">\n",
              "  <thead>\n",
              "    <tr style=\"text-align: right;\">\n",
              "      <th></th>\n",
              "      <th>buying</th>\n",
              "      <th>maint</th>\n",
              "      <th>doors</th>\n",
              "      <th>persons</th>\n",
              "      <th>lug_boot</th>\n",
              "      <th>safety</th>\n",
              "    </tr>\n",
              "  </thead>\n",
              "  <tbody>\n",
              "    <tr>\n",
              "      <th>83</th>\n",
              "      <td>vhigh</td>\n",
              "      <td>vhigh</td>\n",
              "      <td>5more</td>\n",
              "      <td>2</td>\n",
              "      <td>med</td>\n",
              "      <td>low</td>\n",
              "    </tr>\n",
              "    <tr>\n",
              "      <th>48</th>\n",
              "      <td>vhigh</td>\n",
              "      <td>vhigh</td>\n",
              "      <td>3</td>\n",
              "      <td>more</td>\n",
              "      <td>med</td>\n",
              "      <td>med</td>\n",
              "    </tr>\n",
              "    <tr>\n",
              "      <th>468</th>\n",
              "      <td>high</td>\n",
              "      <td>vhigh</td>\n",
              "      <td>3</td>\n",
              "      <td>4</td>\n",
              "      <td>small</td>\n",
              "      <td>med</td>\n",
              "    </tr>\n",
              "    <tr>\n",
              "      <th>155</th>\n",
              "      <td>vhigh</td>\n",
              "      <td>high</td>\n",
              "      <td>3</td>\n",
              "      <td>more</td>\n",
              "      <td>med</td>\n",
              "      <td>low</td>\n",
              "    </tr>\n",
              "    <tr>\n",
              "      <th>1043</th>\n",
              "      <td>med</td>\n",
              "      <td>high</td>\n",
              "      <td>4</td>\n",
              "      <td>more</td>\n",
              "      <td>small</td>\n",
              "      <td>low</td>\n",
              "    </tr>\n",
              "  </tbody>\n",
              "</table>\n",
              "</div>\n",
              "    <div class=\"colab-df-buttons\">\n",
              "\n",
              "  <div class=\"colab-df-container\">\n",
              "    <button class=\"colab-df-convert\" onclick=\"convertToInteractive('df-2fa8dc07-61dd-4c2e-b6c5-63ba3fec006d')\"\n",
              "            title=\"Convert this dataframe to an interactive table.\"\n",
              "            style=\"display:none;\">\n",
              "\n",
              "  <svg xmlns=\"http://www.w3.org/2000/svg\" height=\"24px\" viewBox=\"0 -960 960 960\">\n",
              "    <path d=\"M120-120v-720h720v720H120Zm60-500h600v-160H180v160Zm220 220h160v-160H400v160Zm0 220h160v-160H400v160ZM180-400h160v-160H180v160Zm440 0h160v-160H620v160ZM180-180h160v-160H180v160Zm440 0h160v-160H620v160Z\"/>\n",
              "  </svg>\n",
              "    </button>\n",
              "\n",
              "  <style>\n",
              "    .colab-df-container {\n",
              "      display:flex;\n",
              "      gap: 12px;\n",
              "    }\n",
              "\n",
              "    .colab-df-convert {\n",
              "      background-color: #E8F0FE;\n",
              "      border: none;\n",
              "      border-radius: 50%;\n",
              "      cursor: pointer;\n",
              "      display: none;\n",
              "      fill: #1967D2;\n",
              "      height: 32px;\n",
              "      padding: 0 0 0 0;\n",
              "      width: 32px;\n",
              "    }\n",
              "\n",
              "    .colab-df-convert:hover {\n",
              "      background-color: #E2EBFA;\n",
              "      box-shadow: 0px 1px 2px rgba(60, 64, 67, 0.3), 0px 1px 3px 1px rgba(60, 64, 67, 0.15);\n",
              "      fill: #174EA6;\n",
              "    }\n",
              "\n",
              "    .colab-df-buttons div {\n",
              "      margin-bottom: 4px;\n",
              "    }\n",
              "\n",
              "    [theme=dark] .colab-df-convert {\n",
              "      background-color: #3B4455;\n",
              "      fill: #D2E3FC;\n",
              "    }\n",
              "\n",
              "    [theme=dark] .colab-df-convert:hover {\n",
              "      background-color: #434B5C;\n",
              "      box-shadow: 0px 1px 3px 1px rgba(0, 0, 0, 0.15);\n",
              "      filter: drop-shadow(0px 1px 2px rgba(0, 0, 0, 0.3));\n",
              "      fill: #FFFFFF;\n",
              "    }\n",
              "  </style>\n",
              "\n",
              "    <script>\n",
              "      const buttonEl =\n",
              "        document.querySelector('#df-2fa8dc07-61dd-4c2e-b6c5-63ba3fec006d button.colab-df-convert');\n",
              "      buttonEl.style.display =\n",
              "        google.colab.kernel.accessAllowed ? 'block' : 'none';\n",
              "\n",
              "      async function convertToInteractive(key) {\n",
              "        const element = document.querySelector('#df-2fa8dc07-61dd-4c2e-b6c5-63ba3fec006d');\n",
              "        const dataTable =\n",
              "          await google.colab.kernel.invokeFunction('convertToInteractive',\n",
              "                                                    [key], {});\n",
              "        if (!dataTable) return;\n",
              "\n",
              "        const docLinkHtml = 'Like what you see? Visit the ' +\n",
              "          '<a target=\"_blank\" href=https://colab.research.google.com/notebooks/data_table.ipynb>data table notebook</a>'\n",
              "          + ' to learn more about interactive tables.';\n",
              "        element.innerHTML = '';\n",
              "        dataTable['output_type'] = 'display_data';\n",
              "        await google.colab.output.renderOutput(dataTable, element);\n",
              "        const docLink = document.createElement('div');\n",
              "        docLink.innerHTML = docLinkHtml;\n",
              "        element.appendChild(docLink);\n",
              "      }\n",
              "    </script>\n",
              "  </div>\n",
              "\n",
              "\n",
              "<div id=\"df-b4bcadea-1de7-4b8f-9f9b-9a7d54b2d713\">\n",
              "  <button class=\"colab-df-quickchart\" onclick=\"quickchart('df-b4bcadea-1de7-4b8f-9f9b-9a7d54b2d713')\"\n",
              "            title=\"Suggest charts\"\n",
              "            style=\"display:none;\">\n",
              "\n",
              "<svg xmlns=\"http://www.w3.org/2000/svg\" height=\"24px\"viewBox=\"0 0 24 24\"\n",
              "     width=\"24px\">\n",
              "    <g>\n",
              "        <path d=\"M19 3H5c-1.1 0-2 .9-2 2v14c0 1.1.9 2 2 2h14c1.1 0 2-.9 2-2V5c0-1.1-.9-2-2-2zM9 17H7v-7h2v7zm4 0h-2V7h2v10zm4 0h-2v-4h2v4z\"/>\n",
              "    </g>\n",
              "</svg>\n",
              "  </button>\n",
              "\n",
              "<style>\n",
              "  .colab-df-quickchart {\n",
              "      --bg-color: #E8F0FE;\n",
              "      --fill-color: #1967D2;\n",
              "      --hover-bg-color: #E2EBFA;\n",
              "      --hover-fill-color: #174EA6;\n",
              "      --disabled-fill-color: #AAA;\n",
              "      --disabled-bg-color: #DDD;\n",
              "  }\n",
              "\n",
              "  [theme=dark] .colab-df-quickchart {\n",
              "      --bg-color: #3B4455;\n",
              "      --fill-color: #D2E3FC;\n",
              "      --hover-bg-color: #434B5C;\n",
              "      --hover-fill-color: #FFFFFF;\n",
              "      --disabled-bg-color: #3B4455;\n",
              "      --disabled-fill-color: #666;\n",
              "  }\n",
              "\n",
              "  .colab-df-quickchart {\n",
              "    background-color: var(--bg-color);\n",
              "    border: none;\n",
              "    border-radius: 50%;\n",
              "    cursor: pointer;\n",
              "    display: none;\n",
              "    fill: var(--fill-color);\n",
              "    height: 32px;\n",
              "    padding: 0;\n",
              "    width: 32px;\n",
              "  }\n",
              "\n",
              "  .colab-df-quickchart:hover {\n",
              "    background-color: var(--hover-bg-color);\n",
              "    box-shadow: 0 1px 2px rgba(60, 64, 67, 0.3), 0 1px 3px 1px rgba(60, 64, 67, 0.15);\n",
              "    fill: var(--button-hover-fill-color);\n",
              "  }\n",
              "\n",
              "  .colab-df-quickchart-complete:disabled,\n",
              "  .colab-df-quickchart-complete:disabled:hover {\n",
              "    background-color: var(--disabled-bg-color);\n",
              "    fill: var(--disabled-fill-color);\n",
              "    box-shadow: none;\n",
              "  }\n",
              "\n",
              "  .colab-df-spinner {\n",
              "    border: 2px solid var(--fill-color);\n",
              "    border-color: transparent;\n",
              "    border-bottom-color: var(--fill-color);\n",
              "    animation:\n",
              "      spin 1s steps(1) infinite;\n",
              "  }\n",
              "\n",
              "  @keyframes spin {\n",
              "    0% {\n",
              "      border-color: transparent;\n",
              "      border-bottom-color: var(--fill-color);\n",
              "      border-left-color: var(--fill-color);\n",
              "    }\n",
              "    20% {\n",
              "      border-color: transparent;\n",
              "      border-left-color: var(--fill-color);\n",
              "      border-top-color: var(--fill-color);\n",
              "    }\n",
              "    30% {\n",
              "      border-color: transparent;\n",
              "      border-left-color: var(--fill-color);\n",
              "      border-top-color: var(--fill-color);\n",
              "      border-right-color: var(--fill-color);\n",
              "    }\n",
              "    40% {\n",
              "      border-color: transparent;\n",
              "      border-right-color: var(--fill-color);\n",
              "      border-top-color: var(--fill-color);\n",
              "    }\n",
              "    60% {\n",
              "      border-color: transparent;\n",
              "      border-right-color: var(--fill-color);\n",
              "    }\n",
              "    80% {\n",
              "      border-color: transparent;\n",
              "      border-right-color: var(--fill-color);\n",
              "      border-bottom-color: var(--fill-color);\n",
              "    }\n",
              "    90% {\n",
              "      border-color: transparent;\n",
              "      border-bottom-color: var(--fill-color);\n",
              "    }\n",
              "  }\n",
              "</style>\n",
              "\n",
              "  <script>\n",
              "    async function quickchart(key) {\n",
              "      const quickchartButtonEl =\n",
              "        document.querySelector('#' + key + ' button');\n",
              "      quickchartButtonEl.disabled = true;  // To prevent multiple clicks.\n",
              "      quickchartButtonEl.classList.add('colab-df-spinner');\n",
              "      try {\n",
              "        const charts = await google.colab.kernel.invokeFunction(\n",
              "            'suggestCharts', [key], {});\n",
              "      } catch (error) {\n",
              "        console.error('Error during call to suggestCharts:', error);\n",
              "      }\n",
              "      quickchartButtonEl.classList.remove('colab-df-spinner');\n",
              "      quickchartButtonEl.classList.add('colab-df-quickchart-complete');\n",
              "    }\n",
              "    (() => {\n",
              "      let quickchartButtonEl =\n",
              "        document.querySelector('#df-b4bcadea-1de7-4b8f-9f9b-9a7d54b2d713 button');\n",
              "      quickchartButtonEl.style.display =\n",
              "        google.colab.kernel.accessAllowed ? 'block' : 'none';\n",
              "    })();\n",
              "  </script>\n",
              "</div>\n",
              "    </div>\n",
              "  </div>\n"
            ]
          },
          "metadata": {},
          "execution_count": 308
        }
      ]
    },
    {
      "cell_type": "markdown",
      "source": [
        "We can see that all the variables are ordinal categorical data type."
      ],
      "metadata": {
        "id": "4kwEb7Ga3N-Q"
      }
    },
    {
      "cell_type": "code",
      "source": [
        "# import category encoders\n",
        "import category_encoders as ce\n",
        "\n",
        "# encode variables with ordinal encoding\n",
        "encoder = ce.OrdinalEncoder(cols=['buying', 'maint', 'doors', 'persons', 'lug_boot', 'safety'])\n",
        "\n",
        "\n",
        "X_train = encoder.fit_transform(X_train)\n",
        "X_test = encoder.transform(X_test)\n"
      ],
      "metadata": {
        "id": "47ZlPUCX3Pbm"
      },
      "execution_count": null,
      "outputs": []
    },
    {
      "cell_type": "code",
      "source": [
        "X_train.head()"
      ],
      "metadata": {
        "colab": {
          "base_uri": "https://localhost:8080/",
          "height": 206
        },
        "id": "X51I6Jdc64Pg",
        "outputId": "ac8b085e-82c7-44fc-dadd-13dc47c684e5"
      },
      "execution_count": null,
      "outputs": [
        {
          "output_type": "execute_result",
          "data": {
            "text/plain": [
              "      buying  maint  doors  persons  lug_boot  safety\n",
              "83         1      1      1        1         1       1\n",
              "48         1      1      2        2         1       2\n",
              "468        2      1      2        3         2       2\n",
              "155        1      2      2        2         1       1\n",
              "1043       3      2      3        2         2       1"
            ],
            "text/html": [
              "\n",
              "  <div id=\"df-1552003e-d235-410a-af89-58b661c29c14\" class=\"colab-df-container\">\n",
              "    <div>\n",
              "<style scoped>\n",
              "    .dataframe tbody tr th:only-of-type {\n",
              "        vertical-align: middle;\n",
              "    }\n",
              "\n",
              "    .dataframe tbody tr th {\n",
              "        vertical-align: top;\n",
              "    }\n",
              "\n",
              "    .dataframe thead th {\n",
              "        text-align: right;\n",
              "    }\n",
              "</style>\n",
              "<table border=\"1\" class=\"dataframe\">\n",
              "  <thead>\n",
              "    <tr style=\"text-align: right;\">\n",
              "      <th></th>\n",
              "      <th>buying</th>\n",
              "      <th>maint</th>\n",
              "      <th>doors</th>\n",
              "      <th>persons</th>\n",
              "      <th>lug_boot</th>\n",
              "      <th>safety</th>\n",
              "    </tr>\n",
              "  </thead>\n",
              "  <tbody>\n",
              "    <tr>\n",
              "      <th>83</th>\n",
              "      <td>1</td>\n",
              "      <td>1</td>\n",
              "      <td>1</td>\n",
              "      <td>1</td>\n",
              "      <td>1</td>\n",
              "      <td>1</td>\n",
              "    </tr>\n",
              "    <tr>\n",
              "      <th>48</th>\n",
              "      <td>1</td>\n",
              "      <td>1</td>\n",
              "      <td>2</td>\n",
              "      <td>2</td>\n",
              "      <td>1</td>\n",
              "      <td>2</td>\n",
              "    </tr>\n",
              "    <tr>\n",
              "      <th>468</th>\n",
              "      <td>2</td>\n",
              "      <td>1</td>\n",
              "      <td>2</td>\n",
              "      <td>3</td>\n",
              "      <td>2</td>\n",
              "      <td>2</td>\n",
              "    </tr>\n",
              "    <tr>\n",
              "      <th>155</th>\n",
              "      <td>1</td>\n",
              "      <td>2</td>\n",
              "      <td>2</td>\n",
              "      <td>2</td>\n",
              "      <td>1</td>\n",
              "      <td>1</td>\n",
              "    </tr>\n",
              "    <tr>\n",
              "      <th>1043</th>\n",
              "      <td>3</td>\n",
              "      <td>2</td>\n",
              "      <td>3</td>\n",
              "      <td>2</td>\n",
              "      <td>2</td>\n",
              "      <td>1</td>\n",
              "    </tr>\n",
              "  </tbody>\n",
              "</table>\n",
              "</div>\n",
              "    <div class=\"colab-df-buttons\">\n",
              "\n",
              "  <div class=\"colab-df-container\">\n",
              "    <button class=\"colab-df-convert\" onclick=\"convertToInteractive('df-1552003e-d235-410a-af89-58b661c29c14')\"\n",
              "            title=\"Convert this dataframe to an interactive table.\"\n",
              "            style=\"display:none;\">\n",
              "\n",
              "  <svg xmlns=\"http://www.w3.org/2000/svg\" height=\"24px\" viewBox=\"0 -960 960 960\">\n",
              "    <path d=\"M120-120v-720h720v720H120Zm60-500h600v-160H180v160Zm220 220h160v-160H400v160Zm0 220h160v-160H400v160ZM180-400h160v-160H180v160Zm440 0h160v-160H620v160ZM180-180h160v-160H180v160Zm440 0h160v-160H620v160Z\"/>\n",
              "  </svg>\n",
              "    </button>\n",
              "\n",
              "  <style>\n",
              "    .colab-df-container {\n",
              "      display:flex;\n",
              "      gap: 12px;\n",
              "    }\n",
              "\n",
              "    .colab-df-convert {\n",
              "      background-color: #E8F0FE;\n",
              "      border: none;\n",
              "      border-radius: 50%;\n",
              "      cursor: pointer;\n",
              "      display: none;\n",
              "      fill: #1967D2;\n",
              "      height: 32px;\n",
              "      padding: 0 0 0 0;\n",
              "      width: 32px;\n",
              "    }\n",
              "\n",
              "    .colab-df-convert:hover {\n",
              "      background-color: #E2EBFA;\n",
              "      box-shadow: 0px 1px 2px rgba(60, 64, 67, 0.3), 0px 1px 3px 1px rgba(60, 64, 67, 0.15);\n",
              "      fill: #174EA6;\n",
              "    }\n",
              "\n",
              "    .colab-df-buttons div {\n",
              "      margin-bottom: 4px;\n",
              "    }\n",
              "\n",
              "    [theme=dark] .colab-df-convert {\n",
              "      background-color: #3B4455;\n",
              "      fill: #D2E3FC;\n",
              "    }\n",
              "\n",
              "    [theme=dark] .colab-df-convert:hover {\n",
              "      background-color: #434B5C;\n",
              "      box-shadow: 0px 1px 3px 1px rgba(0, 0, 0, 0.15);\n",
              "      filter: drop-shadow(0px 1px 2px rgba(0, 0, 0, 0.3));\n",
              "      fill: #FFFFFF;\n",
              "    }\n",
              "  </style>\n",
              "\n",
              "    <script>\n",
              "      const buttonEl =\n",
              "        document.querySelector('#df-1552003e-d235-410a-af89-58b661c29c14 button.colab-df-convert');\n",
              "      buttonEl.style.display =\n",
              "        google.colab.kernel.accessAllowed ? 'block' : 'none';\n",
              "\n",
              "      async function convertToInteractive(key) {\n",
              "        const element = document.querySelector('#df-1552003e-d235-410a-af89-58b661c29c14');\n",
              "        const dataTable =\n",
              "          await google.colab.kernel.invokeFunction('convertToInteractive',\n",
              "                                                    [key], {});\n",
              "        if (!dataTable) return;\n",
              "\n",
              "        const docLinkHtml = 'Like what you see? Visit the ' +\n",
              "          '<a target=\"_blank\" href=https://colab.research.google.com/notebooks/data_table.ipynb>data table notebook</a>'\n",
              "          + ' to learn more about interactive tables.';\n",
              "        element.innerHTML = '';\n",
              "        dataTable['output_type'] = 'display_data';\n",
              "        await google.colab.output.renderOutput(dataTable, element);\n",
              "        const docLink = document.createElement('div');\n",
              "        docLink.innerHTML = docLinkHtml;\n",
              "        element.appendChild(docLink);\n",
              "      }\n",
              "    </script>\n",
              "  </div>\n",
              "\n",
              "\n",
              "<div id=\"df-e85cb2cb-1a7f-4d98-88f4-2e26de1e1ef1\">\n",
              "  <button class=\"colab-df-quickchart\" onclick=\"quickchart('df-e85cb2cb-1a7f-4d98-88f4-2e26de1e1ef1')\"\n",
              "            title=\"Suggest charts\"\n",
              "            style=\"display:none;\">\n",
              "\n",
              "<svg xmlns=\"http://www.w3.org/2000/svg\" height=\"24px\"viewBox=\"0 0 24 24\"\n",
              "     width=\"24px\">\n",
              "    <g>\n",
              "        <path d=\"M19 3H5c-1.1 0-2 .9-2 2v14c0 1.1.9 2 2 2h14c1.1 0 2-.9 2-2V5c0-1.1-.9-2-2-2zM9 17H7v-7h2v7zm4 0h-2V7h2v10zm4 0h-2v-4h2v4z\"/>\n",
              "    </g>\n",
              "</svg>\n",
              "  </button>\n",
              "\n",
              "<style>\n",
              "  .colab-df-quickchart {\n",
              "      --bg-color: #E8F0FE;\n",
              "      --fill-color: #1967D2;\n",
              "      --hover-bg-color: #E2EBFA;\n",
              "      --hover-fill-color: #174EA6;\n",
              "      --disabled-fill-color: #AAA;\n",
              "      --disabled-bg-color: #DDD;\n",
              "  }\n",
              "\n",
              "  [theme=dark] .colab-df-quickchart {\n",
              "      --bg-color: #3B4455;\n",
              "      --fill-color: #D2E3FC;\n",
              "      --hover-bg-color: #434B5C;\n",
              "      --hover-fill-color: #FFFFFF;\n",
              "      --disabled-bg-color: #3B4455;\n",
              "      --disabled-fill-color: #666;\n",
              "  }\n",
              "\n",
              "  .colab-df-quickchart {\n",
              "    background-color: var(--bg-color);\n",
              "    border: none;\n",
              "    border-radius: 50%;\n",
              "    cursor: pointer;\n",
              "    display: none;\n",
              "    fill: var(--fill-color);\n",
              "    height: 32px;\n",
              "    padding: 0;\n",
              "    width: 32px;\n",
              "  }\n",
              "\n",
              "  .colab-df-quickchart:hover {\n",
              "    background-color: var(--hover-bg-color);\n",
              "    box-shadow: 0 1px 2px rgba(60, 64, 67, 0.3), 0 1px 3px 1px rgba(60, 64, 67, 0.15);\n",
              "    fill: var(--button-hover-fill-color);\n",
              "  }\n",
              "\n",
              "  .colab-df-quickchart-complete:disabled,\n",
              "  .colab-df-quickchart-complete:disabled:hover {\n",
              "    background-color: var(--disabled-bg-color);\n",
              "    fill: var(--disabled-fill-color);\n",
              "    box-shadow: none;\n",
              "  }\n",
              "\n",
              "  .colab-df-spinner {\n",
              "    border: 2px solid var(--fill-color);\n",
              "    border-color: transparent;\n",
              "    border-bottom-color: var(--fill-color);\n",
              "    animation:\n",
              "      spin 1s steps(1) infinite;\n",
              "  }\n",
              "\n",
              "  @keyframes spin {\n",
              "    0% {\n",
              "      border-color: transparent;\n",
              "      border-bottom-color: var(--fill-color);\n",
              "      border-left-color: var(--fill-color);\n",
              "    }\n",
              "    20% {\n",
              "      border-color: transparent;\n",
              "      border-left-color: var(--fill-color);\n",
              "      border-top-color: var(--fill-color);\n",
              "    }\n",
              "    30% {\n",
              "      border-color: transparent;\n",
              "      border-left-color: var(--fill-color);\n",
              "      border-top-color: var(--fill-color);\n",
              "      border-right-color: var(--fill-color);\n",
              "    }\n",
              "    40% {\n",
              "      border-color: transparent;\n",
              "      border-right-color: var(--fill-color);\n",
              "      border-top-color: var(--fill-color);\n",
              "    }\n",
              "    60% {\n",
              "      border-color: transparent;\n",
              "      border-right-color: var(--fill-color);\n",
              "    }\n",
              "    80% {\n",
              "      border-color: transparent;\n",
              "      border-right-color: var(--fill-color);\n",
              "      border-bottom-color: var(--fill-color);\n",
              "    }\n",
              "    90% {\n",
              "      border-color: transparent;\n",
              "      border-bottom-color: var(--fill-color);\n",
              "    }\n",
              "  }\n",
              "</style>\n",
              "\n",
              "  <script>\n",
              "    async function quickchart(key) {\n",
              "      const quickchartButtonEl =\n",
              "        document.querySelector('#' + key + ' button');\n",
              "      quickchartButtonEl.disabled = true;  // To prevent multiple clicks.\n",
              "      quickchartButtonEl.classList.add('colab-df-spinner');\n",
              "      try {\n",
              "        const charts = await google.colab.kernel.invokeFunction(\n",
              "            'suggestCharts', [key], {});\n",
              "      } catch (error) {\n",
              "        console.error('Error during call to suggestCharts:', error);\n",
              "      }\n",
              "      quickchartButtonEl.classList.remove('colab-df-spinner');\n",
              "      quickchartButtonEl.classList.add('colab-df-quickchart-complete');\n",
              "    }\n",
              "    (() => {\n",
              "      let quickchartButtonEl =\n",
              "        document.querySelector('#df-e85cb2cb-1a7f-4d98-88f4-2e26de1e1ef1 button');\n",
              "      quickchartButtonEl.style.display =\n",
              "        google.colab.kernel.accessAllowed ? 'block' : 'none';\n",
              "    })();\n",
              "  </script>\n",
              "</div>\n",
              "    </div>\n",
              "  </div>\n"
            ]
          },
          "metadata": {},
          "execution_count": 310
        }
      ]
    },
    {
      "cell_type": "code",
      "source": [
        "X_test.head()"
      ],
      "metadata": {
        "colab": {
          "base_uri": "https://localhost:8080/",
          "height": 206
        },
        "id": "27dtHUOQ66AZ",
        "outputId": "9bb18a8e-9b98-4982-8650-a52d30404917"
      },
      "execution_count": null,
      "outputs": [
        {
          "output_type": "execute_result",
          "data": {
            "text/plain": [
              "      buying  maint  doors  persons  lug_boot  safety\n",
              "599        2      2      3        1         3       1\n",
              "932        3      1      3        3         3       1\n",
              "628        2      2      1        1         3       3\n",
              "1497       4      2      1        3         1       2\n",
              "1262       3      4      3        2         1       1"
            ],
            "text/html": [
              "\n",
              "  <div id=\"df-76e24550-1f6e-4ffc-a142-ea0c98151314\" class=\"colab-df-container\">\n",
              "    <div>\n",
              "<style scoped>\n",
              "    .dataframe tbody tr th:only-of-type {\n",
              "        vertical-align: middle;\n",
              "    }\n",
              "\n",
              "    .dataframe tbody tr th {\n",
              "        vertical-align: top;\n",
              "    }\n",
              "\n",
              "    .dataframe thead th {\n",
              "        text-align: right;\n",
              "    }\n",
              "</style>\n",
              "<table border=\"1\" class=\"dataframe\">\n",
              "  <thead>\n",
              "    <tr style=\"text-align: right;\">\n",
              "      <th></th>\n",
              "      <th>buying</th>\n",
              "      <th>maint</th>\n",
              "      <th>doors</th>\n",
              "      <th>persons</th>\n",
              "      <th>lug_boot</th>\n",
              "      <th>safety</th>\n",
              "    </tr>\n",
              "  </thead>\n",
              "  <tbody>\n",
              "    <tr>\n",
              "      <th>599</th>\n",
              "      <td>2</td>\n",
              "      <td>2</td>\n",
              "      <td>3</td>\n",
              "      <td>1</td>\n",
              "      <td>3</td>\n",
              "      <td>1</td>\n",
              "    </tr>\n",
              "    <tr>\n",
              "      <th>932</th>\n",
              "      <td>3</td>\n",
              "      <td>1</td>\n",
              "      <td>3</td>\n",
              "      <td>3</td>\n",
              "      <td>3</td>\n",
              "      <td>1</td>\n",
              "    </tr>\n",
              "    <tr>\n",
              "      <th>628</th>\n",
              "      <td>2</td>\n",
              "      <td>2</td>\n",
              "      <td>1</td>\n",
              "      <td>1</td>\n",
              "      <td>3</td>\n",
              "      <td>3</td>\n",
              "    </tr>\n",
              "    <tr>\n",
              "      <th>1497</th>\n",
              "      <td>4</td>\n",
              "      <td>2</td>\n",
              "      <td>1</td>\n",
              "      <td>3</td>\n",
              "      <td>1</td>\n",
              "      <td>2</td>\n",
              "    </tr>\n",
              "    <tr>\n",
              "      <th>1262</th>\n",
              "      <td>3</td>\n",
              "      <td>4</td>\n",
              "      <td>3</td>\n",
              "      <td>2</td>\n",
              "      <td>1</td>\n",
              "      <td>1</td>\n",
              "    </tr>\n",
              "  </tbody>\n",
              "</table>\n",
              "</div>\n",
              "    <div class=\"colab-df-buttons\">\n",
              "\n",
              "  <div class=\"colab-df-container\">\n",
              "    <button class=\"colab-df-convert\" onclick=\"convertToInteractive('df-76e24550-1f6e-4ffc-a142-ea0c98151314')\"\n",
              "            title=\"Convert this dataframe to an interactive table.\"\n",
              "            style=\"display:none;\">\n",
              "\n",
              "  <svg xmlns=\"http://www.w3.org/2000/svg\" height=\"24px\" viewBox=\"0 -960 960 960\">\n",
              "    <path d=\"M120-120v-720h720v720H120Zm60-500h600v-160H180v160Zm220 220h160v-160H400v160Zm0 220h160v-160H400v160ZM180-400h160v-160H180v160Zm440 0h160v-160H620v160ZM180-180h160v-160H180v160Zm440 0h160v-160H620v160Z\"/>\n",
              "  </svg>\n",
              "    </button>\n",
              "\n",
              "  <style>\n",
              "    .colab-df-container {\n",
              "      display:flex;\n",
              "      gap: 12px;\n",
              "    }\n",
              "\n",
              "    .colab-df-convert {\n",
              "      background-color: #E8F0FE;\n",
              "      border: none;\n",
              "      border-radius: 50%;\n",
              "      cursor: pointer;\n",
              "      display: none;\n",
              "      fill: #1967D2;\n",
              "      height: 32px;\n",
              "      padding: 0 0 0 0;\n",
              "      width: 32px;\n",
              "    }\n",
              "\n",
              "    .colab-df-convert:hover {\n",
              "      background-color: #E2EBFA;\n",
              "      box-shadow: 0px 1px 2px rgba(60, 64, 67, 0.3), 0px 1px 3px 1px rgba(60, 64, 67, 0.15);\n",
              "      fill: #174EA6;\n",
              "    }\n",
              "\n",
              "    .colab-df-buttons div {\n",
              "      margin-bottom: 4px;\n",
              "    }\n",
              "\n",
              "    [theme=dark] .colab-df-convert {\n",
              "      background-color: #3B4455;\n",
              "      fill: #D2E3FC;\n",
              "    }\n",
              "\n",
              "    [theme=dark] .colab-df-convert:hover {\n",
              "      background-color: #434B5C;\n",
              "      box-shadow: 0px 1px 3px 1px rgba(0, 0, 0, 0.15);\n",
              "      filter: drop-shadow(0px 1px 2px rgba(0, 0, 0, 0.3));\n",
              "      fill: #FFFFFF;\n",
              "    }\n",
              "  </style>\n",
              "\n",
              "    <script>\n",
              "      const buttonEl =\n",
              "        document.querySelector('#df-76e24550-1f6e-4ffc-a142-ea0c98151314 button.colab-df-convert');\n",
              "      buttonEl.style.display =\n",
              "        google.colab.kernel.accessAllowed ? 'block' : 'none';\n",
              "\n",
              "      async function convertToInteractive(key) {\n",
              "        const element = document.querySelector('#df-76e24550-1f6e-4ffc-a142-ea0c98151314');\n",
              "        const dataTable =\n",
              "          await google.colab.kernel.invokeFunction('convertToInteractive',\n",
              "                                                    [key], {});\n",
              "        if (!dataTable) return;\n",
              "\n",
              "        const docLinkHtml = 'Like what you see? Visit the ' +\n",
              "          '<a target=\"_blank\" href=https://colab.research.google.com/notebooks/data_table.ipynb>data table notebook</a>'\n",
              "          + ' to learn more about interactive tables.';\n",
              "        element.innerHTML = '';\n",
              "        dataTable['output_type'] = 'display_data';\n",
              "        await google.colab.output.renderOutput(dataTable, element);\n",
              "        const docLink = document.createElement('div');\n",
              "        docLink.innerHTML = docLinkHtml;\n",
              "        element.appendChild(docLink);\n",
              "      }\n",
              "    </script>\n",
              "  </div>\n",
              "\n",
              "\n",
              "<div id=\"df-1c6dd0e9-5ef8-4cca-b2e8-09a415f48ac4\">\n",
              "  <button class=\"colab-df-quickchart\" onclick=\"quickchart('df-1c6dd0e9-5ef8-4cca-b2e8-09a415f48ac4')\"\n",
              "            title=\"Suggest charts\"\n",
              "            style=\"display:none;\">\n",
              "\n",
              "<svg xmlns=\"http://www.w3.org/2000/svg\" height=\"24px\"viewBox=\"0 0 24 24\"\n",
              "     width=\"24px\">\n",
              "    <g>\n",
              "        <path d=\"M19 3H5c-1.1 0-2 .9-2 2v14c0 1.1.9 2 2 2h14c1.1 0 2-.9 2-2V5c0-1.1-.9-2-2-2zM9 17H7v-7h2v7zm4 0h-2V7h2v10zm4 0h-2v-4h2v4z\"/>\n",
              "    </g>\n",
              "</svg>\n",
              "  </button>\n",
              "\n",
              "<style>\n",
              "  .colab-df-quickchart {\n",
              "      --bg-color: #E8F0FE;\n",
              "      --fill-color: #1967D2;\n",
              "      --hover-bg-color: #E2EBFA;\n",
              "      --hover-fill-color: #174EA6;\n",
              "      --disabled-fill-color: #AAA;\n",
              "      --disabled-bg-color: #DDD;\n",
              "  }\n",
              "\n",
              "  [theme=dark] .colab-df-quickchart {\n",
              "      --bg-color: #3B4455;\n",
              "      --fill-color: #D2E3FC;\n",
              "      --hover-bg-color: #434B5C;\n",
              "      --hover-fill-color: #FFFFFF;\n",
              "      --disabled-bg-color: #3B4455;\n",
              "      --disabled-fill-color: #666;\n",
              "  }\n",
              "\n",
              "  .colab-df-quickchart {\n",
              "    background-color: var(--bg-color);\n",
              "    border: none;\n",
              "    border-radius: 50%;\n",
              "    cursor: pointer;\n",
              "    display: none;\n",
              "    fill: var(--fill-color);\n",
              "    height: 32px;\n",
              "    padding: 0;\n",
              "    width: 32px;\n",
              "  }\n",
              "\n",
              "  .colab-df-quickchart:hover {\n",
              "    background-color: var(--hover-bg-color);\n",
              "    box-shadow: 0 1px 2px rgba(60, 64, 67, 0.3), 0 1px 3px 1px rgba(60, 64, 67, 0.15);\n",
              "    fill: var(--button-hover-fill-color);\n",
              "  }\n",
              "\n",
              "  .colab-df-quickchart-complete:disabled,\n",
              "  .colab-df-quickchart-complete:disabled:hover {\n",
              "    background-color: var(--disabled-bg-color);\n",
              "    fill: var(--disabled-fill-color);\n",
              "    box-shadow: none;\n",
              "  }\n",
              "\n",
              "  .colab-df-spinner {\n",
              "    border: 2px solid var(--fill-color);\n",
              "    border-color: transparent;\n",
              "    border-bottom-color: var(--fill-color);\n",
              "    animation:\n",
              "      spin 1s steps(1) infinite;\n",
              "  }\n",
              "\n",
              "  @keyframes spin {\n",
              "    0% {\n",
              "      border-color: transparent;\n",
              "      border-bottom-color: var(--fill-color);\n",
              "      border-left-color: var(--fill-color);\n",
              "    }\n",
              "    20% {\n",
              "      border-color: transparent;\n",
              "      border-left-color: var(--fill-color);\n",
              "      border-top-color: var(--fill-color);\n",
              "    }\n",
              "    30% {\n",
              "      border-color: transparent;\n",
              "      border-left-color: var(--fill-color);\n",
              "      border-top-color: var(--fill-color);\n",
              "      border-right-color: var(--fill-color);\n",
              "    }\n",
              "    40% {\n",
              "      border-color: transparent;\n",
              "      border-right-color: var(--fill-color);\n",
              "      border-top-color: var(--fill-color);\n",
              "    }\n",
              "    60% {\n",
              "      border-color: transparent;\n",
              "      border-right-color: var(--fill-color);\n",
              "    }\n",
              "    80% {\n",
              "      border-color: transparent;\n",
              "      border-right-color: var(--fill-color);\n",
              "      border-bottom-color: var(--fill-color);\n",
              "    }\n",
              "    90% {\n",
              "      border-color: transparent;\n",
              "      border-bottom-color: var(--fill-color);\n",
              "    }\n",
              "  }\n",
              "</style>\n",
              "\n",
              "  <script>\n",
              "    async function quickchart(key) {\n",
              "      const quickchartButtonEl =\n",
              "        document.querySelector('#' + key + ' button');\n",
              "      quickchartButtonEl.disabled = true;  // To prevent multiple clicks.\n",
              "      quickchartButtonEl.classList.add('colab-df-spinner');\n",
              "      try {\n",
              "        const charts = await google.colab.kernel.invokeFunction(\n",
              "            'suggestCharts', [key], {});\n",
              "      } catch (error) {\n",
              "        console.error('Error during call to suggestCharts:', error);\n",
              "      }\n",
              "      quickchartButtonEl.classList.remove('colab-df-spinner');\n",
              "      quickchartButtonEl.classList.add('colab-df-quickchart-complete');\n",
              "    }\n",
              "    (() => {\n",
              "      let quickchartButtonEl =\n",
              "        document.querySelector('#df-1c6dd0e9-5ef8-4cca-b2e8-09a415f48ac4 button');\n",
              "      quickchartButtonEl.style.display =\n",
              "        google.colab.kernel.accessAllowed ? 'block' : 'none';\n",
              "    })();\n",
              "  </script>\n",
              "</div>\n",
              "    </div>\n",
              "  </div>\n"
            ]
          },
          "metadata": {},
          "execution_count": 311
        }
      ]
    },
    {
      "cell_type": "markdown",
      "source": [
        "We now have training and test set ready for model building.\n",
        "\n",
        "\n"
      ],
      "metadata": {
        "id": "IE1kSQ0ovRmT"
      }
    },
    {
      "cell_type": "markdown",
      "source": [
        "#**3. Choosing a Model: Decision Tree Classifier**"
      ],
      "metadata": {
        "id": "3fYpluY9wJ5_"
      }
    },
    {
      "cell_type": "markdown",
      "source": [
        "A Decision Tree algorithm is one of the most popular machine learning algorithms. It uses a tree like structure and their possible combinations to solve a particular problem. It belongs to the class of supervised learning algorithms where it can be used for both classification and regression purposes.\n",
        "\n",
        "A decision tree is a structure that includes a root node, branches, and leaf nodes. Each internal node denotes a test on an attribute, each branch denotes the outcome of a test, and each leaf node holds a class label. The topmost node in the tree is the root node.\n"
      ],
      "metadata": {
        "id": "Wdl_lJNbynPK"
      }
    },
    {
      "cell_type": "markdown",
      "source": [
        "#**4. Training the Model:**"
      ],
      "metadata": {
        "id": "CIjXuDU5wjiF"
      }
    },
    {
      "cell_type": "code",
      "source": [
        "# import DecisionTreeClassifier\n",
        "from sklearn.tree import DecisionTreeClassifier\n",
        "\n",
        "# instantiate the DecisionTreeClassifier model with criterion gini index\n",
        "clf_gini = DecisionTreeClassifier(criterion='gini', max_depth=3, random_state=0)\n",
        "\n",
        "# fit the model\n",
        "clf_gini.fit(X_train, y_train)\n"
      ],
      "metadata": {
        "colab": {
          "base_uri": "https://localhost:8080/",
          "height": 75
        },
        "id": "AYHuUCPdwm1S",
        "outputId": "68ad6c83-9a07-44c3-c5ff-bd760a7270fc"
      },
      "execution_count": null,
      "outputs": [
        {
          "output_type": "execute_result",
          "data": {
            "text/plain": [
              "DecisionTreeClassifier(max_depth=3, random_state=0)"
            ],
            "text/html": [
              "<style>#sk-container-id-21 {color: black;background-color: white;}#sk-container-id-21 pre{padding: 0;}#sk-container-id-21 div.sk-toggleable {background-color: white;}#sk-container-id-21 label.sk-toggleable__label {cursor: pointer;display: block;width: 100%;margin-bottom: 0;padding: 0.3em;box-sizing: border-box;text-align: center;}#sk-container-id-21 label.sk-toggleable__label-arrow:before {content: \"▸\";float: left;margin-right: 0.25em;color: #696969;}#sk-container-id-21 label.sk-toggleable__label-arrow:hover:before {color: black;}#sk-container-id-21 div.sk-estimator:hover label.sk-toggleable__label-arrow:before {color: black;}#sk-container-id-21 div.sk-toggleable__content {max-height: 0;max-width: 0;overflow: hidden;text-align: left;background-color: #f0f8ff;}#sk-container-id-21 div.sk-toggleable__content pre {margin: 0.2em;color: black;border-radius: 0.25em;background-color: #f0f8ff;}#sk-container-id-21 input.sk-toggleable__control:checked~div.sk-toggleable__content {max-height: 200px;max-width: 100%;overflow: auto;}#sk-container-id-21 input.sk-toggleable__control:checked~label.sk-toggleable__label-arrow:before {content: \"▾\";}#sk-container-id-21 div.sk-estimator input.sk-toggleable__control:checked~label.sk-toggleable__label {background-color: #d4ebff;}#sk-container-id-21 div.sk-label input.sk-toggleable__control:checked~label.sk-toggleable__label {background-color: #d4ebff;}#sk-container-id-21 input.sk-hidden--visually {border: 0;clip: rect(1px 1px 1px 1px);clip: rect(1px, 1px, 1px, 1px);height: 1px;margin: -1px;overflow: hidden;padding: 0;position: absolute;width: 1px;}#sk-container-id-21 div.sk-estimator {font-family: monospace;background-color: #f0f8ff;border: 1px dotted black;border-radius: 0.25em;box-sizing: border-box;margin-bottom: 0.5em;}#sk-container-id-21 div.sk-estimator:hover {background-color: #d4ebff;}#sk-container-id-21 div.sk-parallel-item::after {content: \"\";width: 100%;border-bottom: 1px solid gray;flex-grow: 1;}#sk-container-id-21 div.sk-label:hover label.sk-toggleable__label {background-color: #d4ebff;}#sk-container-id-21 div.sk-serial::before {content: \"\";position: absolute;border-left: 1px solid gray;box-sizing: border-box;top: 0;bottom: 0;left: 50%;z-index: 0;}#sk-container-id-21 div.sk-serial {display: flex;flex-direction: column;align-items: center;background-color: white;padding-right: 0.2em;padding-left: 0.2em;position: relative;}#sk-container-id-21 div.sk-item {position: relative;z-index: 1;}#sk-container-id-21 div.sk-parallel {display: flex;align-items: stretch;justify-content: center;background-color: white;position: relative;}#sk-container-id-21 div.sk-item::before, #sk-container-id-21 div.sk-parallel-item::before {content: \"\";position: absolute;border-left: 1px solid gray;box-sizing: border-box;top: 0;bottom: 0;left: 50%;z-index: -1;}#sk-container-id-21 div.sk-parallel-item {display: flex;flex-direction: column;z-index: 1;position: relative;background-color: white;}#sk-container-id-21 div.sk-parallel-item:first-child::after {align-self: flex-end;width: 50%;}#sk-container-id-21 div.sk-parallel-item:last-child::after {align-self: flex-start;width: 50%;}#sk-container-id-21 div.sk-parallel-item:only-child::after {width: 0;}#sk-container-id-21 div.sk-dashed-wrapped {border: 1px dashed gray;margin: 0 0.4em 0.5em 0.4em;box-sizing: border-box;padding-bottom: 0.4em;background-color: white;}#sk-container-id-21 div.sk-label label {font-family: monospace;font-weight: bold;display: inline-block;line-height: 1.2em;}#sk-container-id-21 div.sk-label-container {text-align: center;}#sk-container-id-21 div.sk-container {/* jupyter's `normalize.less` sets `[hidden] { display: none; }` but bootstrap.min.css set `[hidden] { display: none !important; }` so we also need the `!important` here to be able to override the default hidden behavior on the sphinx rendered scikit-learn.org. See: https://github.com/scikit-learn/scikit-learn/issues/21755 */display: inline-block !important;position: relative;}#sk-container-id-21 div.sk-text-repr-fallback {display: none;}</style><div id=\"sk-container-id-21\" class=\"sk-top-container\"><div class=\"sk-text-repr-fallback\"><pre>DecisionTreeClassifier(max_depth=3, random_state=0)</pre><b>In a Jupyter environment, please rerun this cell to show the HTML representation or trust the notebook. <br />On GitHub, the HTML representation is unable to render, please try loading this page with nbviewer.org.</b></div><div class=\"sk-container\" hidden><div class=\"sk-item\"><div class=\"sk-estimator sk-toggleable\"><input class=\"sk-toggleable__control sk-hidden--visually\" id=\"sk-estimator-id-21\" type=\"checkbox\" checked><label for=\"sk-estimator-id-21\" class=\"sk-toggleable__label sk-toggleable__label-arrow\">DecisionTreeClassifier</label><div class=\"sk-toggleable__content\"><pre>DecisionTreeClassifier(max_depth=3, random_state=0)</pre></div></div></div></div></div>"
            ]
          },
          "metadata": {},
          "execution_count": 312
        }
      ]
    },
    {
      "cell_type": "markdown",
      "source": [
        "#**5. Evaluating the Model:**"
      ],
      "metadata": {
        "id": "VbjdthjzyH62"
      }
    },
    {
      "cell_type": "markdown",
      "source": [
        "## Predict the Test set results with criterion gini index"
      ],
      "metadata": {
        "id": "ZU9GQ1Qu814s"
      }
    },
    {
      "cell_type": "code",
      "source": [
        "y_pred_gini = clf_gini.predict(X_test)"
      ],
      "metadata": {
        "id": "Y-BeOKU382pb"
      },
      "execution_count": null,
      "outputs": []
    },
    {
      "cell_type": "markdown",
      "source": [
        "## Check accuracy score with criterion gini index"
      ],
      "metadata": {
        "id": "9PLbBYn888Ep"
      }
    },
    {
      "cell_type": "code",
      "source": [
        "from sklearn.metrics import accuracy_score\n",
        "\n",
        "print('Model accuracy score with criterion gini index: {0:0.4f}'. format(accuracy_score(y_test, y_pred_gini)))"
      ],
      "metadata": {
        "colab": {
          "base_uri": "https://localhost:8080/"
        },
        "id": "A35T0Z7i89mF",
        "outputId": "7788dcde-5471-4f2e-8cfd-e5931e3cb482"
      },
      "execution_count": null,
      "outputs": [
        {
          "output_type": "stream",
          "name": "stdout",
          "text": [
            "Model accuracy score with criterion gini index: 0.8053\n"
          ]
        }
      ]
    },
    {
      "cell_type": "markdown",
      "source": [
        "##Compare the train-set and test-set accuracy"
      ],
      "metadata": {
        "id": "4jFvMoVK9NZe"
      }
    },
    {
      "cell_type": "markdown",
      "source": [
        "Now, I will compare the train-set and test-set accuracy to check for overfitting.\n",
        "\n"
      ],
      "metadata": {
        "id": "YbSuqPjH9RkW"
      }
    },
    {
      "cell_type": "code",
      "source": [
        "y_pred_train_gini = clf_gini.predict(X_train)\n",
        "\n",
        "print('Training-set accuracy score: {0:0.4f}'. format(accuracy_score(y_train, y_pred_train_gini)))"
      ],
      "metadata": {
        "colab": {
          "base_uri": "https://localhost:8080/"
        },
        "id": "a9sy9-ST9WWb",
        "outputId": "93ad8682-42df-485b-c75e-dbaeac45f128"
      },
      "execution_count": null,
      "outputs": [
        {
          "output_type": "stream",
          "name": "stdout",
          "text": [
            "Training-set accuracy score: 0.7848\n"
          ]
        }
      ]
    },
    {
      "cell_type": "markdown",
      "source": [
        "## Check for overfitting and underfitting"
      ],
      "metadata": {
        "id": "xPYxQDF0xX0g"
      }
    },
    {
      "cell_type": "code",
      "source": [
        "# print the scores on training and test set\n",
        "print('Training set score: {:.4f}'.format(clf_gini.score(X_train, y_train)))\n",
        "print('Test set score: {:.4f}'.format(clf_gini.score(X_test, y_test)))"
      ],
      "metadata": {
        "id": "RpEdXghlxann",
        "colab": {
          "base_uri": "https://localhost:8080/"
        },
        "outputId": "bf51e8fc-6c03-4eec-e1c8-82c7d868de20"
      },
      "execution_count": null,
      "outputs": [
        {
          "output_type": "stream",
          "name": "stdout",
          "text": [
            "Training set score: 0.7848\n",
            "Test set score: 0.8053\n"
          ]
        }
      ]
    },
    {
      "cell_type": "markdown",
      "source": [
        "Here, the training-set accuracy score is 0.7848 while the test-set accuracy to be 0.8053. These two values are quite comparable. So, there is no sign of overfitting."
      ],
      "metadata": {
        "id": "EH3IGDubxdBn"
      }
    },
    {
      "cell_type": "markdown",
      "source": [
        "## Visualize decision-trees"
      ],
      "metadata": {
        "id": "D_bWslp3-tgW"
      }
    },
    {
      "cell_type": "code",
      "source": [
        "plt.figure(figsize=(12,8))\n",
        "\n",
        "from sklearn import tree\n",
        "\n",
        "tree.plot_tree(clf_gini.fit(X_train, y_train))"
      ],
      "metadata": {
        "colab": {
          "base_uri": "https://localhost:8080/",
          "height": 775
        },
        "id": "GK5GqLre-vLg",
        "outputId": "ff26af72-2a32-4e20-e74f-2f24840c2942"
      },
      "execution_count": null,
      "outputs": [
        {
          "output_type": "execute_result",
          "data": {
            "text/plain": [
              "[Text(0.3333333333333333, 0.875, 'x[5] <= 1.5\\ngini = 0.457\\nsamples = 1157\\nvalue = [257, 51, 810, 39]'),\n",
              " Text(0.16666666666666666, 0.625, 'gini = 0.0\\nsamples = 391\\nvalue = [0, 0, 391, 0]'),\n",
              " Text(0.5, 0.625, 'x[3] <= 1.5\\ngini = 0.581\\nsamples = 766\\nvalue = [257, 51, 419, 39]'),\n",
              " Text(0.3333333333333333, 0.375, 'gini = 0.0\\nsamples = 242\\nvalue = [0, 0, 242, 0]'),\n",
              " Text(0.6666666666666666, 0.375, 'x[0] <= 2.5\\ngini = 0.63\\nsamples = 524\\nvalue = [257, 51, 177, 39]'),\n",
              " Text(0.5, 0.125, 'gini = 0.498\\nsamples = 266\\nvalue = [124, 0, 142, 0]'),\n",
              " Text(0.8333333333333334, 0.125, 'gini = 0.654\\nsamples = 258\\nvalue = [133, 51, 35, 39]')]"
            ]
          },
          "metadata": {},
          "execution_count": 317
        },
        {
          "output_type": "display_data",
          "data": {
            "text/plain": [
              "<Figure size 1200x800 with 1 Axes>"
            ],
            "image/png": "[encoded data removed]"
          },
          "metadata": {}
        }
      ]
    },
    {
      "cell_type": "markdown",
      "source": [
        "## Visualize decision-trees with graphviz"
      ],
      "metadata": {
        "id": "J3_WFPRa_Cxh"
      }
    },
    {
      "cell_type": "code",
      "source": [
        "import graphviz\n",
        "dot_data = tree.export_graphviz(clf_gini, out_file=None,\n",
        "                              feature_names=X_train.columns,\n",
        "                              class_names=y_train,\n",
        "                              filled=True, rounded=True,\n",
        "                              special_characters=True)\n",
        "\n",
        "graph = graphviz.Source(dot_data)\n",
        "\n",
        "graph"
      ],
      "metadata": {
        "colab": {
          "base_uri": "https://localhost:8080/",
          "height": 599
        },
        "id": "66KI32yY_GCs",
        "outputId": "cf56308f-b861-4753-e61b-9c0180ebf6b8"
      },
      "execution_count": null,
      "outputs": [
        {
          "output_type": "execute_result",
          "data": {
            "image/svg+xml": "<?xml version=\"1.0\" encoding=\"UTF-8\" standalone=\"no\"?>\n<!DOCTYPE svg PUBLIC \"-//W3C//DTD SVG 1.1//EN\"\n \"http://www.w3.org/Graphics/SVG/1.1/DTD/svg11.dtd\">\n<!-- Generated by graphviz version 2.43.0 (0)\n -->\n<!-- Title: Tree Pages: 1 -->\n<svg width=\"506pt\" height=\"433pt\"\n viewBox=\"0.00 0.00 506.00 433.00\" xmlns=\"http://www.w3.org/2000/svg\" xmlns:xlink=\"http://www.w3.org/1999/xlink\">\n<g id=\"graph0\" class=\"graph\" transform=\"scale(1 1) rotate(0) translate(4 429)\">\n<title>Tree</title>\n<polygon fill=\"white\" stroke=\"transparent\" points=\"-4,4 -4,-429 502,-429 502,4 -4,4\"/>\n<!-- 0 -->\n<g id=\"node1\" class=\"node\">\n<title>0</title>\n<path fill=\"#85c3ef\" stroke=\"black\" d=\"M229,-425C229,-425 83,-425 83,-425 77,-425 71,-419 71,-413 71,-413 71,-354 71,-354 71,-348 77,-342 83,-342 83,-342 229,-342 229,-342 235,-342 241,-348 241,-354 241,-354 241,-413 241,-413 241,-419 235,-425 229,-425\"/>\n<text text-anchor=\"start\" x=\"121\" y=\"-409.8\" font-family=\"Helvetica,sans-Serif\" font-size=\"14.00\">safety ≤ 1.5</text>\n<text text-anchor=\"start\" x=\"120.5\" y=\"-394.8\" font-family=\"Helvetica,sans-Serif\" font-size=\"14.00\">gini = 0.457</text>\n<text text-anchor=\"start\" x=\"107.5\" y=\"-379.8\" font-family=\"Helvetica,sans-Serif\" font-size=\"14.00\">samples = 1157</text>\n<text text-anchor=\"start\" x=\"79\" y=\"-364.8\" font-family=\"Helvetica,sans-Serif\" font-size=\"14.00\">value = [257, 51, 810, 39]</text>\n<text text-anchor=\"start\" x=\"114.5\" y=\"-349.8\" font-family=\"Helvetica,sans-Serif\" font-size=\"14.00\">class = unacc</text>\n</g>\n<!-- 1 -->\n<g id=\"node2\" class=\"node\">\n<title>1</title>\n<path fill=\"#399de5\" stroke=\"black\" d=\"M128,-298.5C128,-298.5 12,-298.5 12,-298.5 6,-298.5 0,-292.5 0,-286.5 0,-286.5 0,-242.5 0,-242.5 0,-236.5 6,-230.5 12,-230.5 12,-230.5 128,-230.5 128,-230.5 134,-230.5 140,-236.5 140,-242.5 140,-242.5 140,-286.5 140,-286.5 140,-292.5 134,-298.5 128,-298.5\"/>\n<text text-anchor=\"start\" x=\"42\" y=\"-283.3\" font-family=\"Helvetica,sans-Serif\" font-size=\"14.00\">gini = 0.0</text>\n<text text-anchor=\"start\" x=\"25\" y=\"-268.3\" font-family=\"Helvetica,sans-Serif\" font-size=\"14.00\">samples = 391</text>\n<text text-anchor=\"start\" x=\"8\" y=\"-253.3\" font-family=\"Helvetica,sans-Serif\" font-size=\"14.00\">value = [0, 0, 391, 0]</text>\n<text text-anchor=\"start\" x=\"28.5\" y=\"-238.3\" font-family=\"Helvetica,sans-Serif\" font-size=\"14.00\">class = unacc</text>\n</g>\n<!-- 0&#45;&gt;1 -->\n<g id=\"edge1\" class=\"edge\">\n<title>0&#45;&gt;1</title>\n<path fill=\"none\" stroke=\"black\" d=\"M126.16,-341.91C117.81,-330.54 108.72,-318.18 100.34,-306.77\"/>\n<polygon fill=\"black\" stroke=\"black\" points=\"103.12,-304.65 94.38,-298.67 97.48,-308.8 103.12,-304.65\"/>\n<text text-anchor=\"middle\" x=\"90.61\" y=\"-319.68\" font-family=\"Helvetica,sans-Serif\" font-size=\"14.00\">True</text>\n</g>\n<!-- 2 -->\n<g id=\"node3\" class=\"node\">\n<title>2</title>\n<path fill=\"#c0e0f7\" stroke=\"black\" d=\"M316,-306C316,-306 170,-306 170,-306 164,-306 158,-300 158,-294 158,-294 158,-235 158,-235 158,-229 164,-223 170,-223 170,-223 316,-223 316,-223 322,-223 328,-229 328,-235 328,-235 328,-294 328,-294 328,-300 322,-306 316,-306\"/>\n<text text-anchor=\"start\" x=\"202\" y=\"-290.8\" font-family=\"Helvetica,sans-Serif\" font-size=\"14.00\">persons ≤ 1.5</text>\n<text text-anchor=\"start\" x=\"207.5\" y=\"-275.8\" font-family=\"Helvetica,sans-Serif\" font-size=\"14.00\">gini = 0.581</text>\n<text text-anchor=\"start\" x=\"198\" y=\"-260.8\" font-family=\"Helvetica,sans-Serif\" font-size=\"14.00\">samples = 766</text>\n<text text-anchor=\"start\" x=\"166\" y=\"-245.8\" font-family=\"Helvetica,sans-Serif\" font-size=\"14.00\">value = [257, 51, 419, 39]</text>\n<text text-anchor=\"start\" x=\"201.5\" y=\"-230.8\" font-family=\"Helvetica,sans-Serif\" font-size=\"14.00\">class = unacc</text>\n</g>\n<!-- 0&#45;&gt;2 -->\n<g id=\"edge2\" class=\"edge\">\n<title>0&#45;&gt;2</title>\n<path fill=\"none\" stroke=\"black\" d=\"M186.18,-341.91C192.86,-332.92 200.01,-323.32 206.9,-314.05\"/>\n<polygon fill=\"black\" stroke=\"black\" points=\"209.71,-316.13 212.87,-306.02 204.09,-311.96 209.71,-316.13\"/>\n<text text-anchor=\"middle\" x=\"216.51\" y=\"-327.05\" font-family=\"Helvetica,sans-Serif\" font-size=\"14.00\">False</text>\n</g>\n<!-- 3 -->\n<g id=\"node4\" class=\"node\">\n<title>3</title>\n<path fill=\"#399de5\" stroke=\"black\" d=\"M214,-179.5C214,-179.5 98,-179.5 98,-179.5 92,-179.5 86,-173.5 86,-167.5 86,-167.5 86,-123.5 86,-123.5 86,-117.5 92,-111.5 98,-111.5 98,-111.5 214,-111.5 214,-111.5 220,-111.5 226,-117.5 226,-123.5 226,-123.5 226,-167.5 226,-167.5 226,-173.5 220,-179.5 214,-179.5\"/>\n<text text-anchor=\"start\" x=\"128\" y=\"-164.3\" font-family=\"Helvetica,sans-Serif\" font-size=\"14.00\">gini = 0.0</text>\n<text text-anchor=\"start\" x=\"111\" y=\"-149.3\" font-family=\"Helvetica,sans-Serif\" font-size=\"14.00\">samples = 242</text>\n<text text-anchor=\"start\" x=\"94\" y=\"-134.3\" font-family=\"Helvetica,sans-Serif\" font-size=\"14.00\">value = [0, 0, 242, 0]</text>\n<text text-anchor=\"start\" x=\"114.5\" y=\"-119.3\" font-family=\"Helvetica,sans-Serif\" font-size=\"14.00\">class = unacc</text>\n</g>\n<!-- 2&#45;&gt;3 -->\n<g id=\"edge3\" class=\"edge\">\n<title>2&#45;&gt;3</title>\n<path fill=\"none\" stroke=\"black\" d=\"M212.82,-222.91C204.36,-211.54 195.17,-199.18 186.69,-187.77\"/>\n<polygon fill=\"black\" stroke=\"black\" points=\"189.44,-185.6 180.66,-179.67 183.82,-189.78 189.44,-185.6\"/>\n</g>\n<!-- 4 -->\n<g id=\"node5\" class=\"node\">\n<title>4</title>\n<path fill=\"#f9e2d1\" stroke=\"black\" d=\"M402,-187C402,-187 256,-187 256,-187 250,-187 244,-181 244,-175 244,-175 244,-116 244,-116 244,-110 250,-104 256,-104 256,-104 402,-104 402,-104 408,-104 414,-110 414,-116 414,-116 414,-175 414,-175 414,-181 408,-187 402,-187\"/>\n<text text-anchor=\"start\" x=\"292\" y=\"-171.8\" font-family=\"Helvetica,sans-Serif\" font-size=\"14.00\">buying ≤ 2.5</text>\n<text text-anchor=\"start\" x=\"297\" y=\"-156.8\" font-family=\"Helvetica,sans-Serif\" font-size=\"14.00\">gini = 0.63</text>\n<text text-anchor=\"start\" x=\"284\" y=\"-141.8\" font-family=\"Helvetica,sans-Serif\" font-size=\"14.00\">samples = 524</text>\n<text text-anchor=\"start\" x=\"252\" y=\"-126.8\" font-family=\"Helvetica,sans-Serif\" font-size=\"14.00\">value = [257, 51, 177, 39]</text>\n<text text-anchor=\"start\" x=\"287.5\" y=\"-111.8\" font-family=\"Helvetica,sans-Serif\" font-size=\"14.00\">class = unacc</text>\n</g>\n<!-- 2&#45;&gt;4 -->\n<g id=\"edge4\" class=\"edge\">\n<title>2&#45;&gt;4</title>\n<path fill=\"none\" stroke=\"black\" d=\"M272.84,-222.91C279.37,-214.01 286.36,-204.51 293.11,-195.33\"/>\n<polygon fill=\"black\" stroke=\"black\" points=\"296.11,-197.15 299.22,-187.02 290.47,-193.01 296.11,-197.15\"/>\n</g>\n<!-- 5 -->\n<g id=\"node6\" class=\"node\">\n<title>5</title>\n<path fill=\"#e6f3fc\" stroke=\"black\" d=\"M305.5,-68C305.5,-68 174.5,-68 174.5,-68 168.5,-68 162.5,-62 162.5,-56 162.5,-56 162.5,-12 162.5,-12 162.5,-6 168.5,0 174.5,0 174.5,0 305.5,0 305.5,0 311.5,0 317.5,-6 317.5,-12 317.5,-12 317.5,-56 317.5,-56 317.5,-62 311.5,-68 305.5,-68\"/>\n<text text-anchor=\"start\" x=\"204.5\" y=\"-52.8\" font-family=\"Helvetica,sans-Serif\" font-size=\"14.00\">gini = 0.498</text>\n<text text-anchor=\"start\" x=\"195\" y=\"-37.8\" font-family=\"Helvetica,sans-Serif\" font-size=\"14.00\">samples = 266</text>\n<text text-anchor=\"start\" x=\"170.5\" y=\"-22.8\" font-family=\"Helvetica,sans-Serif\" font-size=\"14.00\">value = [124, 0, 142, 0]</text>\n<text text-anchor=\"start\" x=\"198.5\" y=\"-7.8\" font-family=\"Helvetica,sans-Serif\" font-size=\"14.00\">class = unacc</text>\n</g>\n<!-- 4&#45;&gt;5 -->\n<g id=\"edge5\" class=\"edge\">\n<title>4&#45;&gt;5</title>\n<path fill=\"none\" stroke=\"black\" d=\"M295.86,-103.73C288.52,-94.7 280.74,-85.12 273.39,-76.08\"/>\n<polygon fill=\"black\" stroke=\"black\" points=\"276.09,-73.85 267.07,-68.3 270.66,-78.27 276.09,-73.85\"/>\n</g>\n<!-- 6 -->\n<g id=\"node7\" class=\"node\">\n<title>6</title>\n<path fill=\"#f5cdb1\" stroke=\"black\" d=\"M486,-68C486,-68 348,-68 348,-68 342,-68 336,-62 336,-56 336,-56 336,-12 336,-12 336,-6 342,0 348,0 348,0 486,0 486,0 492,0 498,-6 498,-12 498,-12 498,-56 498,-56 498,-62 492,-68 486,-68\"/>\n<text text-anchor=\"start\" x=\"381.5\" y=\"-52.8\" font-family=\"Helvetica,sans-Serif\" font-size=\"14.00\">gini = 0.654</text>\n<text text-anchor=\"start\" x=\"372\" y=\"-37.8\" font-family=\"Helvetica,sans-Serif\" font-size=\"14.00\">samples = 258</text>\n<text text-anchor=\"start\" x=\"344\" y=\"-22.8\" font-family=\"Helvetica,sans-Serif\" font-size=\"14.00\">value = [133, 51, 35, 39]</text>\n<text text-anchor=\"start\" x=\"375.5\" y=\"-7.8\" font-family=\"Helvetica,sans-Serif\" font-size=\"14.00\">class = unacc</text>\n</g>\n<!-- 4&#45;&gt;6 -->\n<g id=\"edge6\" class=\"edge\">\n<title>4&#45;&gt;6</title>\n<path fill=\"none\" stroke=\"black\" d=\"M361.77,-103.73C368.95,-94.79 376.56,-85.32 383.76,-76.36\"/>\n<polygon fill=\"black\" stroke=\"black\" points=\"386.7,-78.29 390.24,-68.3 381.25,-73.9 386.7,-78.29\"/>\n</g>\n</g>\n</svg>\n",
            "text/plain": [
              "<graphviz.sources.Source at 0x7a012d8817e0>"
            ]
          },
          "metadata": {},
          "execution_count": 318
        }
      ]
    },
    {
      "cell_type": "markdown",
      "source": [
        "#**6. Parameter Tuning:**"
      ],
      "metadata": {
        "id": "NiOEgC2azdZ3"
      }
    },
    {
      "cell_type": "markdown",
      "source": [
        "We initially employed a Decision Tree Classifier using the Gini index as the criterion. Now, in the pursuit of optimizing our model's accuracy, we are making a strategic shift towards using the entropy criterion. This change aims to investigate whether utilizing entropy, an alternative measure of impurity, can potentially enhance the predictive performance of our Decision Tree Classifier"
      ],
      "metadata": {
        "id": "v5bvVK5Zzr4_"
      }
    },
    {
      "cell_type": "code",
      "source": [
        "# instantiate the DecisionTreeClassifier model with criterion entropy\n",
        "\n",
        "clf_en = DecisionTreeClassifier(criterion='entropy', max_depth=3, random_state=0)\n",
        "\n",
        "\n",
        "# fit the model\n",
        "clf_en.fit(X_train, y_train)"
      ],
      "metadata": {
        "colab": {
          "base_uri": "https://localhost:8080/",
          "height": 75
        },
        "id": "_PdwJyFXzxDW",
        "outputId": "eff1ca33-1c6f-4cad-80cd-9bce2f25a4f9"
      },
      "execution_count": null,
      "outputs": [
        {
          "output_type": "execute_result",
          "data": {
            "text/plain": [
              "DecisionTreeClassifier(criterion='entropy', max_depth=3, random_state=0)"
            ],
            "text/html": [
              "<style>#sk-container-id-22 {color: black;background-color: white;}#sk-container-id-22 pre{padding: 0;}#sk-container-id-22 div.sk-toggleable {background-color: white;}#sk-container-id-22 label.sk-toggleable__label {cursor: pointer;display: block;width: 100%;margin-bottom: 0;padding: 0.3em;box-sizing: border-box;text-align: center;}#sk-container-id-22 label.sk-toggleable__label-arrow:before {content: \"▸\";float: left;margin-right: 0.25em;color: #696969;}#sk-container-id-22 label.sk-toggleable__label-arrow:hover:before {color: black;}#sk-container-id-22 div.sk-estimator:hover label.sk-toggleable__label-arrow:before {color: black;}#sk-container-id-22 div.sk-toggleable__content {max-height: 0;max-width: 0;overflow: hidden;text-align: left;background-color: #f0f8ff;}#sk-container-id-22 div.sk-toggleable__content pre {margin: 0.2em;color: black;border-radius: 0.25em;background-color: #f0f8ff;}#sk-container-id-22 input.sk-toggleable__control:checked~div.sk-toggleable__content {max-height: 200px;max-width: 100%;overflow: auto;}#sk-container-id-22 input.sk-toggleable__control:checked~label.sk-toggleable__label-arrow:before {content: \"▾\";}#sk-container-id-22 div.sk-estimator input.sk-toggleable__control:checked~label.sk-toggleable__label {background-color: #d4ebff;}#sk-container-id-22 div.sk-label input.sk-toggleable__control:checked~label.sk-toggleable__label {background-color: #d4ebff;}#sk-container-id-22 input.sk-hidden--visually {border: 0;clip: rect(1px 1px 1px 1px);clip: rect(1px, 1px, 1px, 1px);height: 1px;margin: -1px;overflow: hidden;padding: 0;position: absolute;width: 1px;}#sk-container-id-22 div.sk-estimator {font-family: monospace;background-color: #f0f8ff;border: 1px dotted black;border-radius: 0.25em;box-sizing: border-box;margin-bottom: 0.5em;}#sk-container-id-22 div.sk-estimator:hover {background-color: #d4ebff;}#sk-container-id-22 div.sk-parallel-item::after {content: \"\";width: 100%;border-bottom: 1px solid gray;flex-grow: 1;}#sk-container-id-22 div.sk-label:hover label.sk-toggleable__label {background-color: #d4ebff;}#sk-container-id-22 div.sk-serial::before {content: \"\";position: absolute;border-left: 1px solid gray;box-sizing: border-box;top: 0;bottom: 0;left: 50%;z-index: 0;}#sk-container-id-22 div.sk-serial {display: flex;flex-direction: column;align-items: center;background-color: white;padding-right: 0.2em;padding-left: 0.2em;position: relative;}#sk-container-id-22 div.sk-item {position: relative;z-index: 1;}#sk-container-id-22 div.sk-parallel {display: flex;align-items: stretch;justify-content: center;background-color: white;position: relative;}#sk-container-id-22 div.sk-item::before, #sk-container-id-22 div.sk-parallel-item::before {content: \"\";position: absolute;border-left: 1px solid gray;box-sizing: border-box;top: 0;bottom: 0;left: 50%;z-index: -1;}#sk-container-id-22 div.sk-parallel-item {display: flex;flex-direction: column;z-index: 1;position: relative;background-color: white;}#sk-container-id-22 div.sk-parallel-item:first-child::after {align-self: flex-end;width: 50%;}#sk-container-id-22 div.sk-parallel-item:last-child::after {align-self: flex-start;width: 50%;}#sk-container-id-22 div.sk-parallel-item:only-child::after {width: 0;}#sk-container-id-22 div.sk-dashed-wrapped {border: 1px dashed gray;margin: 0 0.4em 0.5em 0.4em;box-sizing: border-box;padding-bottom: 0.4em;background-color: white;}#sk-container-id-22 div.sk-label label {font-family: monospace;font-weight: bold;display: inline-block;line-height: 1.2em;}#sk-container-id-22 div.sk-label-container {text-align: center;}#sk-container-id-22 div.sk-container {/* jupyter's `normalize.less` sets `[hidden] { display: none; }` but bootstrap.min.css set `[hidden] { display: none !important; }` so we also need the `!important` here to be able to override the default hidden behavior on the sphinx rendered scikit-learn.org. See: https://github.com/scikit-learn/scikit-learn/issues/21755 */display: inline-block !important;position: relative;}#sk-container-id-22 div.sk-text-repr-fallback {display: none;}</style><div id=\"sk-container-id-22\" class=\"sk-top-container\"><div class=\"sk-text-repr-fallback\"><pre>DecisionTreeClassifier(criterion=&#x27;entropy&#x27;, max_depth=3, random_state=0)</pre><b>In a Jupyter environment, please rerun this cell to show the HTML representation or trust the notebook. <br />On GitHub, the HTML representation is unable to render, please try loading this page with nbviewer.org.</b></div><div class=\"sk-container\" hidden><div class=\"sk-item\"><div class=\"sk-estimator sk-toggleable\"><input class=\"sk-toggleable__control sk-hidden--visually\" id=\"sk-estimator-id-22\" type=\"checkbox\" checked><label for=\"sk-estimator-id-22\" class=\"sk-toggleable__label sk-toggleable__label-arrow\">DecisionTreeClassifier</label><div class=\"sk-toggleable__content\"><pre>DecisionTreeClassifier(criterion=&#x27;entropy&#x27;, max_depth=3, random_state=0)</pre></div></div></div></div></div>"
            ]
          },
          "metadata": {},
          "execution_count": 319
        }
      ]
    },
    {
      "cell_type": "markdown",
      "source": [
        "## Predict the Test set results with criterion entropy"
      ],
      "metadata": {
        "id": "upnUEDlm_tzt"
      }
    },
    {
      "cell_type": "code",
      "source": [
        "y_pred_en = clf_en.predict(X_test)"
      ],
      "metadata": {
        "id": "jfKdBP4J_u6c"
      },
      "execution_count": null,
      "outputs": []
    },
    {
      "cell_type": "markdown",
      "source": [
        "## Check accuracy score with criterion entropy"
      ],
      "metadata": {
        "id": "Byvgq6fc_0jl"
      }
    },
    {
      "cell_type": "code",
      "source": [
        "from sklearn.metrics import accuracy_score\n",
        "\n",
        "print('Model accuracy score with criterion entropy: {0:0.4f}'. format(accuracy_score(y_test, y_pred_en)))"
      ],
      "metadata": {
        "colab": {
          "base_uri": "https://localhost:8080/"
        },
        "id": "dEkn84NB_2If",
        "outputId": "dc382514-15a7-4548-bc08-84dee2b1029f"
      },
      "execution_count": null,
      "outputs": [
        {
          "output_type": "stream",
          "name": "stdout",
          "text": [
            "Model accuracy score with criterion entropy: 0.8053\n"
          ]
        }
      ]
    },
    {
      "cell_type": "markdown",
      "source": [
        "## Compare the train-set and test-set accuracy\n"
      ],
      "metadata": {
        "id": "JlCMu1DHAOEE"
      }
    },
    {
      "cell_type": "markdown",
      "source": [
        "Now, I will compare the train-set and test-set accuracy to check for overfitting.\n",
        "\n"
      ],
      "metadata": {
        "id": "KgF2DCa6ARxj"
      }
    },
    {
      "cell_type": "code",
      "source": [
        "y_pred_train_en = clf_en.predict(X_train)\n",
        "print('Training-set accuracy score: {0:0.4f}'. format(accuracy_score(y_train, y_pred_train_en)))\n"
      ],
      "metadata": {
        "colab": {
          "base_uri": "https://localhost:8080/"
        },
        "id": "5dLnLpJpAVf7",
        "outputId": "84e857e7-b68c-4391-cfb5-1575736515b2"
      },
      "execution_count": null,
      "outputs": [
        {
          "output_type": "stream",
          "name": "stdout",
          "text": [
            "Training-set accuracy score: 0.7848\n"
          ]
        }
      ]
    },
    {
      "cell_type": "markdown",
      "source": [
        "## Check for overfitting and underfitting\n"
      ],
      "metadata": {
        "id": "J-qT2Fw7AbfA"
      }
    },
    {
      "cell_type": "code",
      "source": [
        "# print the scores on training and test set\n",
        "\n",
        "print('Training set score: {:.4f}'.format(clf_en.score(X_train, y_train)))\n",
        "print('Test set score: {:.4f}'.format(clf_en.score(X_test, y_test)))"
      ],
      "metadata": {
        "colab": {
          "base_uri": "https://localhost:8080/"
        },
        "id": "t-k8kA8wAe0W",
        "outputId": "3f01bb3f-0afe-4cb7-b766-769556c9d784"
      },
      "execution_count": null,
      "outputs": [
        {
          "output_type": "stream",
          "name": "stdout",
          "text": [
            "Training set score: 0.7848\n",
            "Test set score: 0.8053\n"
          ]
        }
      ]
    },
    {
      "cell_type": "markdown",
      "source": [
        "We can see that the training-set score and test-set score is same as above. The training-set accuracy score is 0.7848 while the test-set accuracy to be 0.8053. These two values are quite comparable. So, there is no sign of overfitting."
      ],
      "metadata": {
        "id": "ZtMzxbWbAm0t"
      }
    },
    {
      "cell_type": "markdown",
      "source": [
        "## Visualize decision-trees"
      ],
      "metadata": {
        "id": "0GFuKPsuAnyf"
      }
    },
    {
      "cell_type": "code",
      "source": [
        "plt.figure(figsize=(12,8))\n",
        "\n",
        "from sklearn import tree\n",
        "\n",
        "tree.plot_tree(clf_en.fit(X_train, y_train))"
      ],
      "metadata": {
        "colab": {
          "base_uri": "https://localhost:8080/",
          "height": 775
        },
        "id": "-w8p5cdgAsy5",
        "outputId": "c12a1326-787d-4d2e-dec2-a85848d9ff22"
      },
      "execution_count": null,
      "outputs": [
        {
          "output_type": "execute_result",
          "data": {
            "text/plain": [
              "[Text(0.3333333333333333, 0.875, 'x[5] <= 1.5\\nentropy = 1.206\\nsamples = 1157\\nvalue = [257, 51, 810, 39]'),\n",
              " Text(0.16666666666666666, 0.625, 'entropy = 0.0\\nsamples = 391\\nvalue = [0, 0, 391, 0]'),\n",
              " Text(0.5, 0.625, 'x[3] <= 1.5\\nentropy = 1.484\\nsamples = 766\\nvalue = [257, 51, 419, 39]'),\n",
              " Text(0.3333333333333333, 0.375, 'entropy = 0.0\\nsamples = 242\\nvalue = [0, 0, 242, 0]'),\n",
              " Text(0.6666666666666666, 0.375, 'x[0] <= 2.5\\nentropy = 1.639\\nsamples = 524\\nvalue = [257, 51, 177, 39]'),\n",
              " Text(0.5, 0.125, 'entropy = 0.997\\nsamples = 266\\nvalue = [124, 0, 142, 0]'),\n",
              " Text(0.8333333333333334, 0.125, 'entropy = 1.758\\nsamples = 258\\nvalue = [133, 51, 35, 39]')]"
            ]
          },
          "metadata": {},
          "execution_count": 324
        },
        {
          "output_type": "display_data",
          "data": {
            "text/plain": [
              "<Figure size 1200x800 with 1 Axes>"
            ],
            "image/png": "[encoded data removed]"
          },
          "metadata": {}
        }
      ]
    },
    {
      "cell_type": "markdown",
      "source": [
        "## Visualize decision-trees with graphviz"
      ],
      "metadata": {
        "id": "0USXxFVYAwpv"
      }
    },
    {
      "cell_type": "code",
      "source": [
        "import graphviz\n",
        "dot_data = tree.export_graphviz(clf_en, out_file=None,\n",
        "                              feature_names=X_train.columns,\n",
        "                              class_names=y_train,\n",
        "                              filled=True, rounded=True,\n",
        "                              special_characters=True)\n",
        "\n",
        "graph = graphviz.Source(dot_data)\n",
        "\n",
        "graph"
      ],
      "metadata": {
        "colab": {
          "base_uri": "https://localhost:8080/",
          "height": 599
        },
        "id": "H8_e6GhnA0fv",
        "outputId": "f5c80c58-68df-4b0d-b894-f7a2395b5888"
      },
      "execution_count": null,
      "outputs": [
        {
          "output_type": "execute_result",
          "data": {
            "image/svg+xml": "<?xml version=\"1.0\" encoding=\"UTF-8\" standalone=\"no\"?>\n<!DOCTYPE svg PUBLIC \"-//W3C//DTD SVG 1.1//EN\"\n \"http://www.w3.org/Graphics/SVG/1.1/DTD/svg11.dtd\">\n<!-- Generated by graphviz version 2.43.0 (0)\n -->\n<!-- Title: Tree Pages: 1 -->\n<svg width=\"506pt\" height=\"433pt\"\n viewBox=\"0.00 0.00 506.00 433.00\" xmlns=\"http://www.w3.org/2000/svg\" xmlns:xlink=\"http://www.w3.org/1999/xlink\">\n<g id=\"graph0\" class=\"graph\" transform=\"scale(1 1) rotate(0) translate(4 429)\">\n<title>Tree</title>\n<polygon fill=\"white\" stroke=\"transparent\" points=\"-4,4 -4,-429 502,-429 502,4 -4,4\"/>\n<!-- 0 -->\n<g id=\"node1\" class=\"node\">\n<title>0</title>\n<path fill=\"#85c3ef\" stroke=\"black\" d=\"M229,-425C229,-425 83,-425 83,-425 77,-425 71,-419 71,-413 71,-413 71,-354 71,-354 71,-348 77,-342 83,-342 83,-342 229,-342 229,-342 235,-342 241,-348 241,-354 241,-354 241,-413 241,-413 241,-419 235,-425 229,-425\"/>\n<text text-anchor=\"start\" x=\"121\" y=\"-409.8\" font-family=\"Helvetica,sans-Serif\" font-size=\"14.00\">safety ≤ 1.5</text>\n<text text-anchor=\"start\" x=\"108.5\" y=\"-394.8\" font-family=\"Helvetica,sans-Serif\" font-size=\"14.00\">entropy = 1.206</text>\n<text text-anchor=\"start\" x=\"107.5\" y=\"-379.8\" font-family=\"Helvetica,sans-Serif\" font-size=\"14.00\">samples = 1157</text>\n<text text-anchor=\"start\" x=\"79\" y=\"-364.8\" font-family=\"Helvetica,sans-Serif\" font-size=\"14.00\">value = [257, 51, 810, 39]</text>\n<text text-anchor=\"start\" x=\"114.5\" y=\"-349.8\" font-family=\"Helvetica,sans-Serif\" font-size=\"14.00\">class = unacc</text>\n</g>\n<!-- 1 -->\n<g id=\"node2\" class=\"node\">\n<title>1</title>\n<path fill=\"#399de5\" stroke=\"black\" d=\"M128,-298.5C128,-298.5 12,-298.5 12,-298.5 6,-298.5 0,-292.5 0,-286.5 0,-286.5 0,-242.5 0,-242.5 0,-236.5 6,-230.5 12,-230.5 12,-230.5 128,-230.5 128,-230.5 134,-230.5 140,-236.5 140,-242.5 140,-242.5 140,-286.5 140,-286.5 140,-292.5 134,-298.5 128,-298.5\"/>\n<text text-anchor=\"start\" x=\"30\" y=\"-283.3\" font-family=\"Helvetica,sans-Serif\" font-size=\"14.00\">entropy = 0.0</text>\n<text text-anchor=\"start\" x=\"25\" y=\"-268.3\" font-family=\"Helvetica,sans-Serif\" font-size=\"14.00\">samples = 391</text>\n<text text-anchor=\"start\" x=\"8\" y=\"-253.3\" font-family=\"Helvetica,sans-Serif\" font-size=\"14.00\">value = [0, 0, 391, 0]</text>\n<text text-anchor=\"start\" x=\"28.5\" y=\"-238.3\" font-family=\"Helvetica,sans-Serif\" font-size=\"14.00\">class = unacc</text>\n</g>\n<!-- 0&#45;&gt;1 -->\n<g id=\"edge1\" class=\"edge\">\n<title>0&#45;&gt;1</title>\n<path fill=\"none\" stroke=\"black\" d=\"M126.16,-341.91C117.81,-330.54 108.72,-318.18 100.34,-306.77\"/>\n<polygon fill=\"black\" stroke=\"black\" points=\"103.12,-304.65 94.38,-298.67 97.48,-308.8 103.12,-304.65\"/>\n<text text-anchor=\"middle\" x=\"90.61\" y=\"-319.68\" font-family=\"Helvetica,sans-Serif\" font-size=\"14.00\">True</text>\n</g>\n<!-- 2 -->\n<g id=\"node3\" class=\"node\">\n<title>2</title>\n<path fill=\"#c0e0f7\" stroke=\"black\" d=\"M316,-306C316,-306 170,-306 170,-306 164,-306 158,-300 158,-294 158,-294 158,-235 158,-235 158,-229 164,-223 170,-223 170,-223 316,-223 316,-223 322,-223 328,-229 328,-235 328,-235 328,-294 328,-294 328,-300 322,-306 316,-306\"/>\n<text text-anchor=\"start\" x=\"202\" y=\"-290.8\" font-family=\"Helvetica,sans-Serif\" font-size=\"14.00\">persons ≤ 1.5</text>\n<text text-anchor=\"start\" x=\"195.5\" y=\"-275.8\" font-family=\"Helvetica,sans-Serif\" font-size=\"14.00\">entropy = 1.484</text>\n<text text-anchor=\"start\" x=\"198\" y=\"-260.8\" font-family=\"Helvetica,sans-Serif\" font-size=\"14.00\">samples = 766</text>\n<text text-anchor=\"start\" x=\"166\" y=\"-245.8\" font-family=\"Helvetica,sans-Serif\" font-size=\"14.00\">value = [257, 51, 419, 39]</text>\n<text text-anchor=\"start\" x=\"201.5\" y=\"-230.8\" font-family=\"Helvetica,sans-Serif\" font-size=\"14.00\">class = unacc</text>\n</g>\n<!-- 0&#45;&gt;2 -->\n<g id=\"edge2\" class=\"edge\">\n<title>0&#45;&gt;2</title>\n<path fill=\"none\" stroke=\"black\" d=\"M186.18,-341.91C192.86,-332.92 200.01,-323.32 206.9,-314.05\"/>\n<polygon fill=\"black\" stroke=\"black\" points=\"209.71,-316.13 212.87,-306.02 204.09,-311.96 209.71,-316.13\"/>\n<text text-anchor=\"middle\" x=\"216.51\" y=\"-327.05\" font-family=\"Helvetica,sans-Serif\" font-size=\"14.00\">False</text>\n</g>\n<!-- 3 -->\n<g id=\"node4\" class=\"node\">\n<title>3</title>\n<path fill=\"#399de5\" stroke=\"black\" d=\"M214,-179.5C214,-179.5 98,-179.5 98,-179.5 92,-179.5 86,-173.5 86,-167.5 86,-167.5 86,-123.5 86,-123.5 86,-117.5 92,-111.5 98,-111.5 98,-111.5 214,-111.5 214,-111.5 220,-111.5 226,-117.5 226,-123.5 226,-123.5 226,-167.5 226,-167.5 226,-173.5 220,-179.5 214,-179.5\"/>\n<text text-anchor=\"start\" x=\"116\" y=\"-164.3\" font-family=\"Helvetica,sans-Serif\" font-size=\"14.00\">entropy = 0.0</text>\n<text text-anchor=\"start\" x=\"111\" y=\"-149.3\" font-family=\"Helvetica,sans-Serif\" font-size=\"14.00\">samples = 242</text>\n<text text-anchor=\"start\" x=\"94\" y=\"-134.3\" font-family=\"Helvetica,sans-Serif\" font-size=\"14.00\">value = [0, 0, 242, 0]</text>\n<text text-anchor=\"start\" x=\"114.5\" y=\"-119.3\" font-family=\"Helvetica,sans-Serif\" font-size=\"14.00\">class = unacc</text>\n</g>\n<!-- 2&#45;&gt;3 -->\n<g id=\"edge3\" class=\"edge\">\n<title>2&#45;&gt;3</title>\n<path fill=\"none\" stroke=\"black\" d=\"M212.82,-222.91C204.36,-211.54 195.17,-199.18 186.69,-187.77\"/>\n<polygon fill=\"black\" stroke=\"black\" points=\"189.44,-185.6 180.66,-179.67 183.82,-189.78 189.44,-185.6\"/>\n</g>\n<!-- 4 -->\n<g id=\"node5\" class=\"node\">\n<title>4</title>\n<path fill=\"#f9e2d1\" stroke=\"black\" d=\"M402,-187C402,-187 256,-187 256,-187 250,-187 244,-181 244,-175 244,-175 244,-116 244,-116 244,-110 250,-104 256,-104 256,-104 402,-104 402,-104 408,-104 414,-110 414,-116 414,-116 414,-175 414,-175 414,-181 408,-187 402,-187\"/>\n<text text-anchor=\"start\" x=\"292\" y=\"-171.8\" font-family=\"Helvetica,sans-Serif\" font-size=\"14.00\">buying ≤ 2.5</text>\n<text text-anchor=\"start\" x=\"281.5\" y=\"-156.8\" font-family=\"Helvetica,sans-Serif\" font-size=\"14.00\">entropy = 1.639</text>\n<text text-anchor=\"start\" x=\"284\" y=\"-141.8\" font-family=\"Helvetica,sans-Serif\" font-size=\"14.00\">samples = 524</text>\n<text text-anchor=\"start\" x=\"252\" y=\"-126.8\" font-family=\"Helvetica,sans-Serif\" font-size=\"14.00\">value = [257, 51, 177, 39]</text>\n<text text-anchor=\"start\" x=\"287.5\" y=\"-111.8\" font-family=\"Helvetica,sans-Serif\" font-size=\"14.00\">class = unacc</text>\n</g>\n<!-- 2&#45;&gt;4 -->\n<g id=\"edge4\" class=\"edge\">\n<title>2&#45;&gt;4</title>\n<path fill=\"none\" stroke=\"black\" d=\"M272.84,-222.91C279.37,-214.01 286.36,-204.51 293.11,-195.33\"/>\n<polygon fill=\"black\" stroke=\"black\" points=\"296.11,-197.15 299.22,-187.02 290.47,-193.01 296.11,-197.15\"/>\n</g>\n<!-- 5 -->\n<g id=\"node6\" class=\"node\">\n<title>5</title>\n<path fill=\"#e6f3fc\" stroke=\"black\" d=\"M305.5,-68C305.5,-68 174.5,-68 174.5,-68 168.5,-68 162.5,-62 162.5,-56 162.5,-56 162.5,-12 162.5,-12 162.5,-6 168.5,0 174.5,0 174.5,0 305.5,0 305.5,0 311.5,0 317.5,-6 317.5,-12 317.5,-12 317.5,-56 317.5,-56 317.5,-62 311.5,-68 305.5,-68\"/>\n<text text-anchor=\"start\" x=\"192.5\" y=\"-52.8\" font-family=\"Helvetica,sans-Serif\" font-size=\"14.00\">entropy = 0.997</text>\n<text text-anchor=\"start\" x=\"195\" y=\"-37.8\" font-family=\"Helvetica,sans-Serif\" font-size=\"14.00\">samples = 266</text>\n<text text-anchor=\"start\" x=\"170.5\" y=\"-22.8\" font-family=\"Helvetica,sans-Serif\" font-size=\"14.00\">value = [124, 0, 142, 0]</text>\n<text text-anchor=\"start\" x=\"198.5\" y=\"-7.8\" font-family=\"Helvetica,sans-Serif\" font-size=\"14.00\">class = unacc</text>\n</g>\n<!-- 4&#45;&gt;5 -->\n<g id=\"edge5\" class=\"edge\">\n<title>4&#45;&gt;5</title>\n<path fill=\"none\" stroke=\"black\" d=\"M295.86,-103.73C288.52,-94.7 280.74,-85.12 273.39,-76.08\"/>\n<polygon fill=\"black\" stroke=\"black\" points=\"276.09,-73.85 267.07,-68.3 270.66,-78.27 276.09,-73.85\"/>\n</g>\n<!-- 6 -->\n<g id=\"node7\" class=\"node\">\n<title>6</title>\n<path fill=\"#f5cdb1\" stroke=\"black\" d=\"M486,-68C486,-68 348,-68 348,-68 342,-68 336,-62 336,-56 336,-56 336,-12 336,-12 336,-6 342,0 348,0 348,0 486,0 486,0 492,0 498,-6 498,-12 498,-12 498,-56 498,-56 498,-62 492,-68 486,-68\"/>\n<text text-anchor=\"start\" x=\"369.5\" y=\"-52.8\" font-family=\"Helvetica,sans-Serif\" font-size=\"14.00\">entropy = 1.758</text>\n<text text-anchor=\"start\" x=\"372\" y=\"-37.8\" font-family=\"Helvetica,sans-Serif\" font-size=\"14.00\">samples = 258</text>\n<text text-anchor=\"start\" x=\"344\" y=\"-22.8\" font-family=\"Helvetica,sans-Serif\" font-size=\"14.00\">value = [133, 51, 35, 39]</text>\n<text text-anchor=\"start\" x=\"375.5\" y=\"-7.8\" font-family=\"Helvetica,sans-Serif\" font-size=\"14.00\">class = unacc</text>\n</g>\n<!-- 4&#45;&gt;6 -->\n<g id=\"edge6\" class=\"edge\">\n<title>4&#45;&gt;6</title>\n<path fill=\"none\" stroke=\"black\" d=\"M361.77,-103.73C368.95,-94.79 376.56,-85.32 383.76,-76.36\"/>\n<polygon fill=\"black\" stroke=\"black\" points=\"386.7,-78.29 390.24,-68.3 381.25,-73.9 386.7,-78.29\"/>\n</g>\n</g>\n</svg>\n",
            "text/plain": [
              "<graphviz.sources.Source at 0x7a012d8e8fd0>"
            ]
          },
          "metadata": {},
          "execution_count": 325
        }
      ]
    },
    {
      "cell_type": "markdown",
      "source": [
        "## Confusion matrix"
      ],
      "metadata": {
        "id": "KTHui7xE5uiQ"
      }
    },
    {
      "cell_type": "markdown",
      "source": [
        "Now, based on the above analysis we can conclude that our classification model accuracy is very good. Our model is doing a very good job in terms of predicting the class labels.\n",
        "\n",
        "But, it does not give the underlying distribution of values. Also, it does not tell anything about the type of errors our classifer is making.\n",
        "\n",
        "We have another tool called Confusion matrix that comes to our rescue."
      ],
      "metadata": {
        "id": "UXmflEJj5zgK"
      }
    },
    {
      "cell_type": "code",
      "source": [
        "# Print the Confusion Matrix and slice it into four pieces\n",
        "\n",
        "from sklearn.metrics import confusion_matrix\n",
        "\n",
        "cm = confusion_matrix(y_test, y_pred_en)\n",
        "\n",
        "print('Confusion matrix\\n\\n', cm)"
      ],
      "metadata": {
        "colab": {
          "base_uri": "https://localhost:8080/"
        },
        "id": "2ak9JymC5-Ke",
        "outputId": "932234b5-0659-4a39-f750-fbdda6557f9a"
      },
      "execution_count": null,
      "outputs": [
        {
          "output_type": "stream",
          "name": "stdout",
          "text": [
            "Confusion matrix\n",
            "\n",
            " [[ 71   0  56   0]\n",
            " [ 18   0   0   0]\n",
            " [ 11   0 388   0]\n",
            " [ 26   0   0   0]]\n"
          ]
        }
      ]
    },
    {
      "cell_type": "markdown",
      "source": [
        "##Confusion matrix visualization"
      ],
      "metadata": {
        "id": "1Uy-64jFmy4P"
      }
    },
    {
      "cell_type": "code",
      "source": [
        "import seaborn as sns\n",
        "import matplotlib.pyplot as plt\n",
        "from sklearn.metrics import confusion_matrix\n",
        "\n",
        "# Assuming cm is the confusion matrix obtained using sklearn\n",
        "cm = confusion_matrix(y_test, y_pred_en)\n",
        "\n",
        "# Create a smaller heatmap for the confusion matrix\n",
        "plt.figure(figsize=(6, 4))\n",
        "sns.heatmap(cm, annot=True, fmt='d', cmap='Blues', cbar=False,\n",
        "            xticklabels=df['class'].unique(), yticklabels=df['class'].unique())\n",
        "plt.title('Confusion Matrix - Decision Tree (Entropy)')\n",
        "plt.xlabel('Predicted')\n",
        "plt.ylabel('Actual')\n",
        "plt.show()\n"
      ],
      "metadata": {
        "colab": {
          "base_uri": "https://localhost:8080/",
          "height": 410
        },
        "id": "jMKusSCHmqr2",
        "outputId": "8f4edb9f-6a9a-4a27-b261-c293cf5c1367"
      },
      "execution_count": null,
      "outputs": [
        {
          "output_type": "display_data",
          "data": {
            "text/plain": [
              "<Figure size 600x400 with 1 Axes>"
            ],
            "image/png": "[encoded data removed]"
          },
          "metadata": {}
        }
      ]
    },
    {
      "cell_type": "markdown",
      "source": [
        "## Classification Report"
      ],
      "metadata": {
        "id": "4gYDJqVn6gbe"
      }
    },
    {
      "cell_type": "markdown",
      "source": [
        "Classification report is another way to evaluate the classification model performance. It displays the precision, recall, f1 and support scores for the model."
      ],
      "metadata": {
        "id": "wUYW6Wj76jcd"
      }
    },
    {
      "cell_type": "code",
      "source": [
        "from sklearn.metrics import classification_report\n",
        "\n",
        "print(classification_report(y_test, y_pred_en))"
      ],
      "metadata": {
        "colab": {
          "base_uri": "https://localhost:8080/"
        },
        "id": "HdQegcRp6lKh",
        "outputId": "9caa66d1-bae9-49df-9079-f41a7841cb00"
      },
      "execution_count": null,
      "outputs": [
        {
          "output_type": "stream",
          "name": "stdout",
          "text": [
            "              precision    recall  f1-score   support\n",
            "\n",
            "         acc       0.56      0.56      0.56       127\n",
            "        good       0.00      0.00      0.00        18\n",
            "       unacc       0.87      0.97      0.92       399\n",
            "       vgood       0.00      0.00      0.00        26\n",
            "\n",
            "    accuracy                           0.81       570\n",
            "   macro avg       0.36      0.38      0.37       570\n",
            "weighted avg       0.74      0.81      0.77       570\n",
            "\n"
          ]
        },
        {
          "output_type": "stream",
          "name": "stderr",
          "text": [
            "/usr/local/lib/python3.10/dist-packages/sklearn/metrics/_classification.py:1344: UndefinedMetricWarning: Precision and F-score are ill-defined and being set to 0.0 in labels with no predicted samples. Use `zero_division` parameter to control this behavior.\n",
            "  _warn_prf(average, modifier, msg_start, len(result))\n",
            "/usr/local/lib/python3.10/dist-packages/sklearn/metrics/_classification.py:1344: UndefinedMetricWarning: Precision and F-score are ill-defined and being set to 0.0 in labels with no predicted samples. Use `zero_division` parameter to control this behavior.\n",
            "  _warn_prf(average, modifier, msg_start, len(result))\n",
            "/usr/local/lib/python3.10/dist-packages/sklearn/metrics/_classification.py:1344: UndefinedMetricWarning: Precision and F-score are ill-defined and being set to 0.0 in labels with no predicted samples. Use `zero_division` parameter to control this behavior.\n",
            "  _warn_prf(average, modifier, msg_start, len(result))\n"
          ]
        }
      ]
    },
    {
      "cell_type": "markdown",
      "source": [
        "## Classification Report Visualization"
      ],
      "metadata": {
        "id": "i-wILTYonGf4"
      }
    },
    {
      "cell_type": "code",
      "source": [
        "from sklearn.metrics import classification_report\n",
        "import matplotlib.pyplot as plt\n",
        "import pandas as pd\n",
        "\n",
        "# Assuming y_test and y_pred_en are your true and predicted labels\n",
        "classification_rep = classification_report(y_test, y_pred_en, output_dict=True)\n",
        "classification_df = pd.DataFrame(classification_rep).transpose()\n",
        "\n",
        "# Plot precision, recall, and F1-score\n",
        "plt.figure(figsize=(8, 6))\n",
        "classification_df[['precision', 'recall', 'f1-score']].plot(kind='barh', cmap='viridis')\n",
        "plt.title('Precision, Recall, and F1-Score - Decision Tree (Entropy)')\n",
        "plt.xlabel('Score')\n",
        "plt.ylabel('Class')\n",
        "plt.legend(loc='lower right')\n",
        "plt.show()\n"
      ],
      "metadata": {
        "colab": {
          "base_uri": "https://localhost:8080/",
          "height": 614
        },
        "id": "wNt2pF20m8Y5",
        "outputId": "631eca6a-d9f4-48e1-cbe9-dea507b08efb"
      },
      "execution_count": null,
      "outputs": [
        {
          "output_type": "stream",
          "name": "stderr",
          "text": [
            "/usr/local/lib/python3.10/dist-packages/sklearn/metrics/_classification.py:1344: UndefinedMetricWarning: Precision and F-score are ill-defined and being set to 0.0 in labels with no predicted samples. Use `zero_division` parameter to control this behavior.\n",
            "  _warn_prf(average, modifier, msg_start, len(result))\n",
            "/usr/local/lib/python3.10/dist-packages/sklearn/metrics/_classification.py:1344: UndefinedMetricWarning: Precision and F-score are ill-defined and being set to 0.0 in labels with no predicted samples. Use `zero_division` parameter to control this behavior.\n",
            "  _warn_prf(average, modifier, msg_start, len(result))\n",
            "/usr/local/lib/python3.10/dist-packages/sklearn/metrics/_classification.py:1344: UndefinedMetricWarning: Precision and F-score are ill-defined and being set to 0.0 in labels with no predicted samples. Use `zero_division` parameter to control this behavior.\n",
            "  _warn_prf(average, modifier, msg_start, len(result))\n"
          ]
        },
        {
          "output_type": "display_data",
          "data": {
            "text/plain": [
              "<Figure size 800x600 with 0 Axes>"
            ]
          },
          "metadata": {}
        },
        {
          "output_type": "display_data",
          "data": {
            "text/plain": [
              "<Figure size 640x480 with 1 Axes>"
            ],
            "image/png": "[encoded data removed]"
          },
          "metadata": {}
        }
      ]
    },
    {
      "cell_type": "markdown",
      "source": [
        "#**7. Making Predictions**"
      ],
      "metadata": {
        "id": "W4zdCHC97VJL"
      }
    },
    {
      "cell_type": "code",
      "source": [
        "# Expected output is unacc\n",
        "y_pred = clf_en.predict(X_test)[0]\n",
        "y_pred"
      ],
      "metadata": {
        "colab": {
          "base_uri": "https://localhost:8080/",
          "height": 35
        },
        "id": "kerQTzla7d3C",
        "outputId": "a36310dc-e4dc-4ecf-8a89-f95de68541d4"
      },
      "execution_count": null,
      "outputs": [
        {
          "output_type": "execute_result",
          "data": {
            "text/plain": [
              "'unacc'"
            ],
            "application/vnd.google.colaboratory.intrinsic+json": {
              "type": "string"
            }
          },
          "metadata": {},
          "execution_count": 330
        }
      ]
    },
    {
      "cell_type": "code",
      "source": [
        "# Expected output is acc\n",
        "y_pred = clf_en.predict(X_test)[234]\n",
        "y_pred"
      ],
      "metadata": {
        "colab": {
          "base_uri": "https://localhost:8080/",
          "height": 35
        },
        "id": "h-lhU7Xj72SK",
        "outputId": "c746f8df-11da-4957-d450-1999d6e29cc5"
      },
      "execution_count": null,
      "outputs": [
        {
          "output_type": "execute_result",
          "data": {
            "text/plain": [
              "'acc'"
            ],
            "application/vnd.google.colaboratory.intrinsic+json": {
              "type": "string"
            }
          },
          "metadata": {},
          "execution_count": 331
        }
      ]
    },
    {
      "cell_type": "markdown",
      "source": [
        "Both predictions were accurate"
      ],
      "metadata": {
        "id": "i1CKdX0H78ks"
      }
    },
    {
      "cell_type": "markdown",
      "source": [
        "#**8. Conclusion**"
      ],
      "metadata": {
        "id": "PZIRkbzH8HYc"
      }
    },
    {
      "cell_type": "markdown",
      "source": [
        "I build a Decision-Tree Classifier model to predict the safety of the car. I build two models, one with criterion gini index and another one with criterion entropy. The model yields a very good performance as indicated by the model accuracy in both the cases which was found to be 0.8053.\n",
        "\n",
        "In the model with criterion gini index, the training-set accuracy score is 0.7848 while the test-set accuracy to be 0.8053. These two values are quite comparable. So, there is no sign of overfitting.\n",
        "\n",
        "Similarly, in the model with criterion entropy, the training-set accuracy score is 0.7848 while the test-set accuracy to be 0.8053.We get the same values as in the case with criterion gini. So, there is no sign of overfitting.\n",
        "In both the cases, the training-set and test-set accuracy score is the same. It may happen because of small dataset.\n",
        "\n",
        "The confusion matrix and classification report yields very good model performance."
      ],
      "metadata": {
        "id": "udGihtqX8VT1"
      }
    },
    {
      "cell_type": "markdown",
      "source": [
        "##After completing the Decision Tree Classifier (DTC) analysis, let's now implement the Random Forest Classifier (RFC) with enhanced feature engineering and a more structured approach. This step aims to leverage the collective strength of multiple decision trees within the Random Forest, anticipating improved accuracy and predictive capabilities for our car evaluation model.\n"
      ],
      "metadata": {
        "id": "At516c1lMmcz"
      }
    },
    {
      "cell_type": "markdown",
      "source": [
        "##**3. Choosing a Model: Random Forest Classifier**"
      ],
      "metadata": {
        "id": "fB2wQkQeM5os"
      }
    },
    {
      "cell_type": "markdown",
      "source": [
        "Random forest is a supervised learning algorithm. It has two variations – one is used for classification problems and other is used for regression problems. It is one of the most flexible and easy to use algorithm. It creates decision trees on the given data samples, gets prediction from each tree and selects the best solution by means of voting. It is also a pretty good indicator of feature importance.\n",
        "\n",
        "Random forest algorithm combines multiple decision-trees, resulting in a forest of trees, hence the name Random Forest. In the random forest classifier, the higher the number of trees in the forest results in higher accuracy."
      ],
      "metadata": {
        "id": "ZO33kpLNNnP8"
      }
    },
    {
      "cell_type": "markdown",
      "source": [
        "##**4. Training The Model**"
      ],
      "metadata": {
        "id": "ZHWwDEZzN5YX"
      }
    },
    {
      "cell_type": "code",
      "source": [
        "# import Random Forest classifier\n",
        "from sklearn.ensemble import RandomForestClassifier\n",
        "\n",
        "# instantiate the classifier\n",
        "rfc = RandomForestClassifier(n_estimators=10, random_state=0 )\n",
        "\n",
        "# fit the model\n",
        "rfc.fit(X_train, y_train)"
      ],
      "metadata": {
        "colab": {
          "base_uri": "https://localhost:8080/",
          "height": 75
        },
        "id": "OpKPPOuuOB7A",
        "outputId": "42827e55-516b-41eb-a8ad-f33afcdecd91"
      },
      "execution_count": null,
      "outputs": [
        {
          "output_type": "execute_result",
          "data": {
            "text/plain": [
              "RandomForestClassifier(n_estimators=10, random_state=0)"
            ],
            "text/html": [
              "<style>#sk-container-id-23 {color: black;background-color: white;}#sk-container-id-23 pre{padding: 0;}#sk-container-id-23 div.sk-toggleable {background-color: white;}#sk-container-id-23 label.sk-toggleable__label {cursor: pointer;display: block;width: 100%;margin-bottom: 0;padding: 0.3em;box-sizing: border-box;text-align: center;}#sk-container-id-23 label.sk-toggleable__label-arrow:before {content: \"▸\";float: left;margin-right: 0.25em;color: #696969;}#sk-container-id-23 label.sk-toggleable__label-arrow:hover:before {color: black;}#sk-container-id-23 div.sk-estimator:hover label.sk-toggleable__label-arrow:before {color: black;}#sk-container-id-23 div.sk-toggleable__content {max-height: 0;max-width: 0;overflow: hidden;text-align: left;background-color: #f0f8ff;}#sk-container-id-23 div.sk-toggleable__content pre {margin: 0.2em;color: black;border-radius: 0.25em;background-color: #f0f8ff;}#sk-container-id-23 input.sk-toggleable__control:checked~div.sk-toggleable__content {max-height: 200px;max-width: 100%;overflow: auto;}#sk-container-id-23 input.sk-toggleable__control:checked~label.sk-toggleable__label-arrow:before {content: \"▾\";}#sk-container-id-23 div.sk-estimator input.sk-toggleable__control:checked~label.sk-toggleable__label {background-color: #d4ebff;}#sk-container-id-23 div.sk-label input.sk-toggleable__control:checked~label.sk-toggleable__label {background-color: #d4ebff;}#sk-container-id-23 input.sk-hidden--visually {border: 0;clip: rect(1px 1px 1px 1px);clip: rect(1px, 1px, 1px, 1px);height: 1px;margin: -1px;overflow: hidden;padding: 0;position: absolute;width: 1px;}#sk-container-id-23 div.sk-estimator {font-family: monospace;background-color: #f0f8ff;border: 1px dotted black;border-radius: 0.25em;box-sizing: border-box;margin-bottom: 0.5em;}#sk-container-id-23 div.sk-estimator:hover {background-color: #d4ebff;}#sk-container-id-23 div.sk-parallel-item::after {content: \"\";width: 100%;border-bottom: 1px solid gray;flex-grow: 1;}#sk-container-id-23 div.sk-label:hover label.sk-toggleable__label {background-color: #d4ebff;}#sk-container-id-23 div.sk-serial::before {content: \"\";position: absolute;border-left: 1px solid gray;box-sizing: border-box;top: 0;bottom: 0;left: 50%;z-index: 0;}#sk-container-id-23 div.sk-serial {display: flex;flex-direction: column;align-items: center;background-color: white;padding-right: 0.2em;padding-left: 0.2em;position: relative;}#sk-container-id-23 div.sk-item {position: relative;z-index: 1;}#sk-container-id-23 div.sk-parallel {display: flex;align-items: stretch;justify-content: center;background-color: white;position: relative;}#sk-container-id-23 div.sk-item::before, #sk-container-id-23 div.sk-parallel-item::before {content: \"\";position: absolute;border-left: 1px solid gray;box-sizing: border-box;top: 0;bottom: 0;left: 50%;z-index: -1;}#sk-container-id-23 div.sk-parallel-item {display: flex;flex-direction: column;z-index: 1;position: relative;background-color: white;}#sk-container-id-23 div.sk-parallel-item:first-child::after {align-self: flex-end;width: 50%;}#sk-container-id-23 div.sk-parallel-item:last-child::after {align-self: flex-start;width: 50%;}#sk-container-id-23 div.sk-parallel-item:only-child::after {width: 0;}#sk-container-id-23 div.sk-dashed-wrapped {border: 1px dashed gray;margin: 0 0.4em 0.5em 0.4em;box-sizing: border-box;padding-bottom: 0.4em;background-color: white;}#sk-container-id-23 div.sk-label label {font-family: monospace;font-weight: bold;display: inline-block;line-height: 1.2em;}#sk-container-id-23 div.sk-label-container {text-align: center;}#sk-container-id-23 div.sk-container {/* jupyter's `normalize.less` sets `[hidden] { display: none; }` but bootstrap.min.css set `[hidden] { display: none !important; }` so we also need the `!important` here to be able to override the default hidden behavior on the sphinx rendered scikit-learn.org. See: https://github.com/scikit-learn/scikit-learn/issues/21755 */display: inline-block !important;position: relative;}#sk-container-id-23 div.sk-text-repr-fallback {display: none;}</style><div id=\"sk-container-id-23\" class=\"sk-top-container\"><div class=\"sk-text-repr-fallback\"><pre>RandomForestClassifier(n_estimators=10, random_state=0)</pre><b>In a Jupyter environment, please rerun this cell to show the HTML representation or trust the notebook. <br />On GitHub, the HTML representation is unable to render, please try loading this page with nbviewer.org.</b></div><div class=\"sk-container\" hidden><div class=\"sk-item\"><div class=\"sk-estimator sk-toggleable\"><input class=\"sk-toggleable__control sk-hidden--visually\" id=\"sk-estimator-id-23\" type=\"checkbox\" checked><label for=\"sk-estimator-id-23\" class=\"sk-toggleable__label sk-toggleable__label-arrow\">RandomForestClassifier</label><div class=\"sk-toggleable__content\"><pre>RandomForestClassifier(n_estimators=10, random_state=0)</pre></div></div></div></div></div>"
            ]
          },
          "metadata": {},
          "execution_count": 332
        }
      ]
    },
    {
      "cell_type": "markdown",
      "source": [
        "#**5. Evaluating the Model:**"
      ],
      "metadata": {
        "id": "YoLKW01dQIG5"
      }
    },
    {
      "cell_type": "markdown",
      "source": [
        "## Predict the Test set results"
      ],
      "metadata": {
        "id": "eRe6SaZuQOXT"
      }
    },
    {
      "cell_type": "code",
      "source": [
        "# Predict the Test set results\n",
        "y_pred = rfc.predict(X_test)"
      ],
      "metadata": {
        "id": "O0D8F-qxQR06"
      },
      "execution_count": null,
      "outputs": []
    },
    {
      "cell_type": "markdown",
      "source": [
        "## Check accuracy score"
      ],
      "metadata": {
        "id": "2baRKDDMQmq4"
      }
    },
    {
      "cell_type": "code",
      "source": [
        "# Check accuracy score\n",
        "from sklearn.metrics import accuracy_score\n",
        "\n",
        "print('Model accuracy score with 10 decision-trees : {0:0.4f}'. format(accuracy_score(y_test, y_pred)))"
      ],
      "metadata": {
        "colab": {
          "base_uri": "https://localhost:8080/"
        },
        "id": "Bw5PaHbYQuAu",
        "outputId": "994f3efb-e3fc-456e-e7d0-bb4bf43943e4"
      },
      "execution_count": null,
      "outputs": [
        {
          "output_type": "stream",
          "name": "stdout",
          "text": [
            "Model accuracy score with 10 decision-trees : 0.9474\n"
          ]
        }
      ]
    },
    {
      "cell_type": "markdown",
      "source": [
        "## Visualize a tree from the random forest with graphviz"
      ],
      "metadata": {
        "id": "fKAqvFtJjt4A"
      }
    },
    {
      "cell_type": "code",
      "source": [
        "from sklearn.tree import export_graphviz\n",
        "import graphviz\n",
        "\n",
        "tree_index = 0\n",
        "\n",
        "# Get the tree from the Random Forest\n",
        "tree_to_visualize = rfc.estimators_[tree_index]\n",
        "\n",
        "# Export the tree to graphviz format with max_depth set to 3\n",
        "dot_data = export_graphviz(tree_to_visualize, out_file=None,\n",
        "                           feature_names=X_train.columns,\n",
        "                           class_names=df['class'].unique(),\n",
        "                           filled=True, rounded=True,\n",
        "                           special_characters=True,\n",
        "                           max_depth=3)  # Set max_depth to limit the depth of the visualization\n",
        "\n",
        "# Create a graph from the graphviz format\n",
        "graph = graphviz.Source(dot_data)\n",
        "\n",
        "# Render the graph\n",
        "graph.render(filename=f'tree_{tree_index}_small', format='png', cleanup=True)\n",
        "\n",
        "# Display the graph\n",
        "graph\n"
      ],
      "metadata": {
        "colab": {
          "base_uri": "https://localhost:8080/",
          "height": 715
        },
        "id": "IM8yinZxf2i-",
        "outputId": "e5d0cc29-b53e-491c-cc9f-1f9aa435178e"
      },
      "execution_count": null,
      "outputs": [
        {
          "output_type": "execute_result",
          "data": {
            "image/svg+xml": "<?xml version=\"1.0\" encoding=\"UTF-8\" standalone=\"no\"?>\n<!DOCTYPE svg PUBLIC \"-//W3C//DTD SVG 1.1//EN\"\n \"http://www.w3.org/Graphics/SVG/1.1/DTD/svg11.dtd\">\n<!-- Generated by graphviz version 2.43.0 (0)\n -->\n<!-- Title: Tree Pages: 1 -->\n<svg width=\"745pt\" height=\"520pt\"\n viewBox=\"0.00 0.00 744.50 520.00\" xmlns=\"http://www.w3.org/2000/svg\" xmlns:xlink=\"http://www.w3.org/1999/xlink\">\n<g id=\"graph0\" class=\"graph\" transform=\"scale(1 1) rotate(0) translate(4 516)\">\n<title>Tree</title>\n<polygon fill=\"white\" stroke=\"transparent\" points=\"-4,4 -4,-516 740.5,-516 740.5,4 -4,4\"/>\n<!-- 0 -->\n<g id=\"node1\" class=\"node\">\n<title>0</title>\n<path fill=\"#84c2ef\" stroke=\"black\" d=\"M395,-512C395,-512 249,-512 249,-512 243,-512 237,-506 237,-500 237,-500 237,-441 237,-441 237,-435 243,-429 249,-429 249,-429 395,-429 395,-429 401,-429 407,-435 407,-441 407,-441 407,-500 407,-500 407,-506 401,-512 395,-512\"/>\n<text text-anchor=\"start\" x=\"285\" y=\"-496.8\" font-family=\"Helvetica,sans-Serif\" font-size=\"14.00\">buying ≤ 2.5</text>\n<text text-anchor=\"start\" x=\"286.5\" y=\"-481.8\" font-family=\"Helvetica,sans-Serif\" font-size=\"14.00\">gini = 0.458</text>\n<text text-anchor=\"start\" x=\"277\" y=\"-466.8\" font-family=\"Helvetica,sans-Serif\" font-size=\"14.00\">samples = 721</text>\n<text text-anchor=\"start\" x=\"245\" y=\"-451.8\" font-family=\"Helvetica,sans-Serif\" font-size=\"14.00\">value = [244, 60, 813, 40]</text>\n<text text-anchor=\"start\" x=\"280\" y=\"-436.8\" font-family=\"Helvetica,sans-Serif\" font-size=\"14.00\">class = vgood</text>\n</g>\n<!-- 1 -->\n<g id=\"node2\" class=\"node\">\n<title>1</title>\n<path fill=\"#72b9ed\" stroke=\"black\" d=\"M297.5,-393C297.5,-393 166.5,-393 166.5,-393 160.5,-393 154.5,-387 154.5,-381 154.5,-381 154.5,-322 154.5,-322 154.5,-316 160.5,-310 166.5,-310 166.5,-310 297.5,-310 297.5,-310 303.5,-310 309.5,-316 309.5,-322 309.5,-322 309.5,-381 309.5,-381 309.5,-387 303.5,-393 297.5,-393\"/>\n<text text-anchor=\"start\" x=\"197\" y=\"-377.8\" font-family=\"Helvetica,sans-Serif\" font-size=\"14.00\">safety ≤ 1.5</text>\n<text text-anchor=\"start\" x=\"196.5\" y=\"-362.8\" font-family=\"Helvetica,sans-Serif\" font-size=\"14.00\">gini = 0.348</text>\n<text text-anchor=\"start\" x=\"187\" y=\"-347.8\" font-family=\"Helvetica,sans-Serif\" font-size=\"14.00\">samples = 354</text>\n<text text-anchor=\"start\" x=\"162.5\" y=\"-332.8\" font-family=\"Helvetica,sans-Serif\" font-size=\"14.00\">value = [127, 0, 440, 0]</text>\n<text text-anchor=\"start\" x=\"190\" y=\"-317.8\" font-family=\"Helvetica,sans-Serif\" font-size=\"14.00\">class = vgood</text>\n</g>\n<!-- 0&#45;&gt;1 -->\n<g id=\"edge1\" class=\"edge\">\n<title>0&#45;&gt;1</title>\n<path fill=\"none\" stroke=\"black\" d=\"M290.77,-428.91C283.86,-419.92 276.47,-410.32 269.35,-401.05\"/>\n<polygon fill=\"black\" stroke=\"black\" points=\"272.04,-398.81 263.17,-393.02 266.49,-403.08 272.04,-398.81\"/>\n<text text-anchor=\"middle\" x=\"259.94\" y=\"-414.11\" font-family=\"Helvetica,sans-Serif\" font-size=\"14.00\">True</text>\n</g>\n<!-- 160 -->\n<g id=\"node11\" class=\"node\">\n<title>160</title>\n<path fill=\"#94caf1\" stroke=\"black\" d=\"M486,-393C486,-393 340,-393 340,-393 334,-393 328,-387 328,-381 328,-381 328,-322 328,-322 328,-316 334,-310 340,-310 340,-310 486,-310 486,-310 492,-310 498,-316 498,-322 498,-322 498,-381 498,-381 498,-387 492,-393 486,-393\"/>\n<text text-anchor=\"start\" x=\"372\" y=\"-377.8\" font-family=\"Helvetica,sans-Serif\" font-size=\"14.00\">persons ≤ 1.5</text>\n<text text-anchor=\"start\" x=\"377.5\" y=\"-362.8\" font-family=\"Helvetica,sans-Serif\" font-size=\"14.00\">gini = 0.546</text>\n<text text-anchor=\"start\" x=\"368\" y=\"-347.8\" font-family=\"Helvetica,sans-Serif\" font-size=\"14.00\">samples = 367</text>\n<text text-anchor=\"start\" x=\"336\" y=\"-332.8\" font-family=\"Helvetica,sans-Serif\" font-size=\"14.00\">value = [117, 60, 373, 40]</text>\n<text text-anchor=\"start\" x=\"371\" y=\"-317.8\" font-family=\"Helvetica,sans-Serif\" font-size=\"14.00\">class = vgood</text>\n</g>\n<!-- 0&#45;&gt;160 -->\n<g id=\"edge10\" class=\"edge\">\n<title>0&#45;&gt;160</title>\n<path fill=\"none\" stroke=\"black\" d=\"M353.57,-428.91C360.56,-419.92 368.03,-410.32 375.24,-401.05\"/>\n<polygon fill=\"black\" stroke=\"black\" points=\"378.11,-403.06 381.48,-393.02 372.58,-398.77 378.11,-403.06\"/>\n<text text-anchor=\"middle\" x=\"384.58\" y=\"-414.13\" font-family=\"Helvetica,sans-Serif\" font-size=\"14.00\">False</text>\n</g>\n<!-- 2 -->\n<g id=\"node3\" class=\"node\">\n<title>2</title>\n<path fill=\"#399de5\" stroke=\"black\" d=\"M128,-266.5C128,-266.5 12,-266.5 12,-266.5 6,-266.5 0,-260.5 0,-254.5 0,-254.5 0,-210.5 0,-210.5 0,-204.5 6,-198.5 12,-198.5 12,-198.5 128,-198.5 128,-198.5 134,-198.5 140,-204.5 140,-210.5 140,-210.5 140,-254.5 140,-254.5 140,-260.5 134,-266.5 128,-266.5\"/>\n<text text-anchor=\"start\" x=\"42\" y=\"-251.3\" font-family=\"Helvetica,sans-Serif\" font-size=\"14.00\">gini = 0.0</text>\n<text text-anchor=\"start\" x=\"25\" y=\"-236.3\" font-family=\"Helvetica,sans-Serif\" font-size=\"14.00\">samples = 122</text>\n<text text-anchor=\"start\" x=\"8\" y=\"-221.3\" font-family=\"Helvetica,sans-Serif\" font-size=\"14.00\">value = [0, 0, 188, 0]</text>\n<text text-anchor=\"start\" x=\"28\" y=\"-206.3\" font-family=\"Helvetica,sans-Serif\" font-size=\"14.00\">class = vgood</text>\n</g>\n<!-- 1&#45;&gt;2 -->\n<g id=\"edge2\" class=\"edge\">\n<title>1&#45;&gt;2</title>\n<path fill=\"none\" stroke=\"black\" d=\"M175.79,-309.91C159.14,-297.88 140.94,-284.73 124.4,-272.79\"/>\n<polygon fill=\"black\" stroke=\"black\" points=\"126.08,-269.68 115.92,-266.67 121.98,-275.36 126.08,-269.68\"/>\n</g>\n<!-- 3 -->\n<g id=\"node4\" class=\"node\">\n<title>3</title>\n<path fill=\"#9dcef2\" stroke=\"black\" d=\"M301.5,-274C301.5,-274 170.5,-274 170.5,-274 164.5,-274 158.5,-268 158.5,-262 158.5,-262 158.5,-203 158.5,-203 158.5,-197 164.5,-191 170.5,-191 170.5,-191 301.5,-191 301.5,-191 307.5,-191 313.5,-197 313.5,-203 313.5,-203 313.5,-262 313.5,-262 313.5,-268 307.5,-274 301.5,-274\"/>\n<text text-anchor=\"start\" x=\"202\" y=\"-258.8\" font-family=\"Helvetica,sans-Serif\" font-size=\"14.00\">maint ≤ 2.5</text>\n<text text-anchor=\"start\" x=\"200.5\" y=\"-243.8\" font-family=\"Helvetica,sans-Serif\" font-size=\"14.00\">gini = 0.446</text>\n<text text-anchor=\"start\" x=\"191\" y=\"-228.8\" font-family=\"Helvetica,sans-Serif\" font-size=\"14.00\">samples = 232</text>\n<text text-anchor=\"start\" x=\"166.5\" y=\"-213.8\" font-family=\"Helvetica,sans-Serif\" font-size=\"14.00\">value = [127, 0, 252, 0]</text>\n<text text-anchor=\"start\" x=\"194\" y=\"-198.8\" font-family=\"Helvetica,sans-Serif\" font-size=\"14.00\">class = vgood</text>\n</g>\n<!-- 1&#45;&gt;3 -->\n<g id=\"edge3\" class=\"edge\">\n<title>1&#45;&gt;3</title>\n<path fill=\"none\" stroke=\"black\" d=\"M233.39,-309.91C233.67,-301.56 233.98,-292.67 234.27,-284.02\"/>\n<polygon fill=\"black\" stroke=\"black\" points=\"237.77,-284.13 234.61,-274.02 230.77,-283.9 237.77,-284.13\"/>\n</g>\n<!-- 4 -->\n<g id=\"node5\" class=\"node\">\n<title>4</title>\n<path fill=\"#50a8e8\" stroke=\"black\" d=\"M221.5,-155C221.5,-155 98.5,-155 98.5,-155 92.5,-155 86.5,-149 86.5,-143 86.5,-143 86.5,-84 86.5,-84 86.5,-78 92.5,-72 98.5,-72 98.5,-72 221.5,-72 221.5,-72 227.5,-72 233.5,-78 233.5,-84 233.5,-84 233.5,-143 233.5,-143 233.5,-149 227.5,-155 221.5,-155\"/>\n<text text-anchor=\"start\" x=\"117\" y=\"-139.8\" font-family=\"Helvetica,sans-Serif\" font-size=\"14.00\">lug_boot ≤ 2.5</text>\n<text text-anchor=\"start\" x=\"124.5\" y=\"-124.8\" font-family=\"Helvetica,sans-Serif\" font-size=\"14.00\">gini = 0.185</text>\n<text text-anchor=\"start\" x=\"115\" y=\"-109.8\" font-family=\"Helvetica,sans-Serif\" font-size=\"14.00\">samples = 111</text>\n<text text-anchor=\"start\" x=\"94.5\" y=\"-94.8\" font-family=\"Helvetica,sans-Serif\" font-size=\"14.00\">value = [19, 0, 165, 0]</text>\n<text text-anchor=\"start\" x=\"118\" y=\"-79.8\" font-family=\"Helvetica,sans-Serif\" font-size=\"14.00\">class = vgood</text>\n</g>\n<!-- 3&#45;&gt;4 -->\n<g id=\"edge4\" class=\"edge\">\n<title>3&#45;&gt;4</title>\n<path fill=\"none\" stroke=\"black\" d=\"M209.63,-190.91C203.91,-182.1 197.81,-172.7 191.9,-163.61\"/>\n<polygon fill=\"black\" stroke=\"black\" points=\"194.7,-161.5 186.32,-155.02 188.83,-165.31 194.7,-161.5\"/>\n</g>\n<!-- 49 -->\n<g id=\"node8\" class=\"node\">\n<title>49</title>\n<path fill=\"#fae7d9\" stroke=\"black\" d=\"M386.5,-155C386.5,-155 263.5,-155 263.5,-155 257.5,-155 251.5,-149 251.5,-143 251.5,-143 251.5,-84 251.5,-84 251.5,-78 257.5,-72 263.5,-72 263.5,-72 386.5,-72 386.5,-72 392.5,-72 398.5,-78 398.5,-84 398.5,-84 398.5,-143 398.5,-143 398.5,-149 392.5,-155 386.5,-155\"/>\n<text text-anchor=\"start\" x=\"291\" y=\"-139.8\" font-family=\"Helvetica,sans-Serif\" font-size=\"14.00\">maint ≤ 3.5</text>\n<text text-anchor=\"start\" x=\"289.5\" y=\"-124.8\" font-family=\"Helvetica,sans-Serif\" font-size=\"14.00\">gini = 0.494</text>\n<text text-anchor=\"start\" x=\"280\" y=\"-109.8\" font-family=\"Helvetica,sans-Serif\" font-size=\"14.00\">samples = 121</text>\n<text text-anchor=\"start\" x=\"259.5\" y=\"-94.8\" font-family=\"Helvetica,sans-Serif\" font-size=\"14.00\">value = [108, 0, 87, 0]</text>\n<text text-anchor=\"start\" x=\"283.5\" y=\"-79.8\" font-family=\"Helvetica,sans-Serif\" font-size=\"14.00\">class = unacc</text>\n</g>\n<!-- 3&#45;&gt;49 -->\n<g id=\"edge7\" class=\"edge\">\n<title>3&#45;&gt;49</title>\n<path fill=\"none\" stroke=\"black\" d=\"M266.88,-190.91C273.71,-181.92 281.02,-172.32 288.07,-163.05\"/>\n<polygon fill=\"black\" stroke=\"black\" points=\"290.91,-165.1 294.18,-155.02 285.34,-160.86 290.91,-165.1\"/>\n</g>\n<!-- 5 -->\n<g id=\"node6\" class=\"node\">\n<title>5</title>\n<path fill=\"#c0c0c0\" stroke=\"black\" d=\"M170,-36C170,-36 140,-36 140,-36 134,-36 128,-30 128,-24 128,-24 128,-12 128,-12 128,-6 134,0 140,0 140,0 170,0 170,0 176,0 182,-6 182,-12 182,-12 182,-24 182,-24 182,-30 176,-36 170,-36\"/>\n<text text-anchor=\"middle\" x=\"155\" y=\"-14.3\" font-family=\"Helvetica,sans-Serif\" font-size=\"14.00\">(...)</text>\n</g>\n<!-- 4&#45;&gt;5 -->\n<g id=\"edge5\" class=\"edge\">\n<title>4&#45;&gt;5</title>\n<path fill=\"none\" stroke=\"black\" d=\"M157.82,-71.76C157.37,-63.24 156.9,-54.44 156.47,-46.53\"/>\n<polygon fill=\"black\" stroke=\"black\" points=\"159.96,-46.2 155.93,-36.41 152.97,-46.58 159.96,-46.2\"/>\n</g>\n<!-- 28 -->\n<g id=\"node7\" class=\"node\">\n<title>28</title>\n<path fill=\"#c0c0c0\" stroke=\"black\" d=\"M242,-36C242,-36 212,-36 212,-36 206,-36 200,-30 200,-24 200,-24 200,-12 200,-12 200,-6 206,0 212,0 212,0 242,0 242,0 248,0 254,-6 254,-12 254,-12 254,-24 254,-24 254,-30 248,-36 242,-36\"/>\n<text text-anchor=\"middle\" x=\"227\" y=\"-14.3\" font-family=\"Helvetica,sans-Serif\" font-size=\"14.00\">(...)</text>\n</g>\n<!-- 4&#45;&gt;28 -->\n<g id=\"edge6\" class=\"edge\">\n<title>4&#45;&gt;28</title>\n<path fill=\"none\" stroke=\"black\" d=\"M189.19,-71.76C195.79,-62.56 202.61,-53.04 208.61,-44.66\"/>\n<polygon fill=\"black\" stroke=\"black\" points=\"211.55,-46.57 214.53,-36.41 205.86,-42.49 211.55,-46.57\"/>\n</g>\n<!-- 50 -->\n<g id=\"node9\" class=\"node\">\n<title>50</title>\n<path fill=\"#c0c0c0\" stroke=\"black\" d=\"M327,-36C327,-36 297,-36 297,-36 291,-36 285,-30 285,-24 285,-24 285,-12 285,-12 285,-6 291,0 297,0 297,0 327,0 327,0 333,0 339,-6 339,-12 339,-12 339,-24 339,-24 339,-30 333,-36 327,-36\"/>\n<text text-anchor=\"middle\" x=\"312\" y=\"-14.3\" font-family=\"Helvetica,sans-Serif\" font-size=\"14.00\">(...)</text>\n</g>\n<!-- 49&#45;&gt;50 -->\n<g id=\"edge8\" class=\"edge\">\n<title>49&#45;&gt;50</title>\n<path fill=\"none\" stroke=\"black\" d=\"M319.34,-71.76C318.15,-63.24 316.93,-54.44 315.83,-46.53\"/>\n<polygon fill=\"black\" stroke=\"black\" points=\"319.26,-45.83 314.42,-36.41 312.33,-46.79 319.26,-45.83\"/>\n</g>\n<!-- 101 -->\n<g id=\"node10\" class=\"node\">\n<title>101</title>\n<path fill=\"#c0c0c0\" stroke=\"black\" d=\"M399,-36C399,-36 369,-36 369,-36 363,-36 357,-30 357,-24 357,-24 357,-12 357,-12 357,-6 363,0 369,0 369,0 399,0 399,0 405,0 411,-6 411,-12 411,-12 411,-24 411,-24 411,-30 405,-36 399,-36\"/>\n<text text-anchor=\"middle\" x=\"384\" y=\"-14.3\" font-family=\"Helvetica,sans-Serif\" font-size=\"14.00\">(...)</text>\n</g>\n<!-- 49&#45;&gt;101 -->\n<g id=\"edge9\" class=\"edge\">\n<title>49&#45;&gt;101</title>\n<path fill=\"none\" stroke=\"black\" d=\"M350.71,-71.76C356.45,-62.65 362.4,-53.24 367.64,-44.92\"/>\n<polygon fill=\"black\" stroke=\"black\" points=\"370.64,-46.73 373.02,-36.41 364.72,-42.99 370.64,-46.73\"/>\n</g>\n<!-- 161 -->\n<g id=\"node12\" class=\"node\">\n<title>161</title>\n<path fill=\"#399de5\" stroke=\"black\" d=\"M467,-266.5C467,-266.5 351,-266.5 351,-266.5 345,-266.5 339,-260.5 339,-254.5 339,-254.5 339,-210.5 339,-210.5 339,-204.5 345,-198.5 351,-198.5 351,-198.5 467,-198.5 467,-198.5 473,-198.5 479,-204.5 479,-210.5 479,-210.5 479,-254.5 479,-254.5 479,-260.5 473,-266.5 467,-266.5\"/>\n<text text-anchor=\"start\" x=\"381\" y=\"-251.3\" font-family=\"Helvetica,sans-Serif\" font-size=\"14.00\">gini = 0.0</text>\n<text text-anchor=\"start\" x=\"364\" y=\"-236.3\" font-family=\"Helvetica,sans-Serif\" font-size=\"14.00\">samples = 128</text>\n<text text-anchor=\"start\" x=\"347\" y=\"-221.3\" font-family=\"Helvetica,sans-Serif\" font-size=\"14.00\">value = [0, 0, 214, 0]</text>\n<text text-anchor=\"start\" x=\"367\" y=\"-206.3\" font-family=\"Helvetica,sans-Serif\" font-size=\"14.00\">class = vgood</text>\n</g>\n<!-- 160&#45;&gt;161 -->\n<g id=\"edge11\" class=\"edge\">\n<title>160&#45;&gt;161</title>\n<path fill=\"none\" stroke=\"black\" d=\"M411.61,-309.91C411.25,-299.2 410.85,-287.62 410.48,-276.78\"/>\n<polygon fill=\"black\" stroke=\"black\" points=\"413.97,-276.54 410.13,-266.67 406.98,-276.78 413.97,-276.54\"/>\n</g>\n<!-- 162 -->\n<g id=\"node13\" class=\"node\">\n<title>162</title>\n<path fill=\"#dfeffb\" stroke=\"black\" d=\"M655,-274C655,-274 509,-274 509,-274 503,-274 497,-268 497,-262 497,-262 497,-203 497,-203 497,-197 503,-191 509,-191 509,-191 655,-191 655,-191 661,-191 667,-197 667,-203 667,-203 667,-262 667,-262 667,-268 661,-274 655,-274\"/>\n<text text-anchor=\"start\" x=\"548\" y=\"-258.8\" font-family=\"Helvetica,sans-Serif\" font-size=\"14.00\">maint ≤ 2.5</text>\n<text text-anchor=\"start\" x=\"546.5\" y=\"-243.8\" font-family=\"Helvetica,sans-Serif\" font-size=\"14.00\">gini = 0.688</text>\n<text text-anchor=\"start\" x=\"537\" y=\"-228.8\" font-family=\"Helvetica,sans-Serif\" font-size=\"14.00\">samples = 239</text>\n<text text-anchor=\"start\" x=\"505\" y=\"-213.8\" font-family=\"Helvetica,sans-Serif\" font-size=\"14.00\">value = [117, 60, 159, 40]</text>\n<text text-anchor=\"start\" x=\"540\" y=\"-198.8\" font-family=\"Helvetica,sans-Serif\" font-size=\"14.00\">class = vgood</text>\n</g>\n<!-- 160&#45;&gt;162 -->\n<g id=\"edge12\" class=\"edge\">\n<title>160&#45;&gt;162</title>\n<path fill=\"none\" stroke=\"black\" d=\"M471.63,-309.91C485.66,-300.2 500.74,-289.76 515.11,-279.81\"/>\n<polygon fill=\"black\" stroke=\"black\" points=\"517.24,-282.59 523.47,-274.02 513.26,-276.84 517.24,-282.59\"/>\n</g>\n<!-- 163 -->\n<g id=\"node14\" class=\"node\">\n<title>163</title>\n<path fill=\"#e8f4fc\" stroke=\"black\" d=\"M551,-155C551,-155 435,-155 435,-155 429,-155 423,-149 423,-143 423,-143 423,-84 423,-84 423,-78 429,-72 435,-72 435,-72 551,-72 551,-72 557,-72 563,-78 563,-84 563,-84 563,-143 563,-143 563,-149 557,-155 551,-155\"/>\n<text text-anchor=\"start\" x=\"459\" y=\"-139.8\" font-family=\"Helvetica,sans-Serif\" font-size=\"14.00\">doors ≤ 3.5</text>\n<text text-anchor=\"start\" x=\"461\" y=\"-124.8\" font-family=\"Helvetica,sans-Serif\" font-size=\"14.00\">gini = 0.52</text>\n<text text-anchor=\"start\" x=\"448\" y=\"-109.8\" font-family=\"Helvetica,sans-Serif\" font-size=\"14.00\">samples = 115</text>\n<text text-anchor=\"start\" x=\"431\" y=\"-94.8\" font-family=\"Helvetica,sans-Serif\" font-size=\"14.00\">value = [81, 0, 92, 4]</text>\n<text text-anchor=\"start\" x=\"451\" y=\"-79.8\" font-family=\"Helvetica,sans-Serif\" font-size=\"14.00\">class = vgood</text>\n</g>\n<!-- 162&#45;&gt;163 -->\n<g id=\"edge13\" class=\"edge\">\n<title>162&#45;&gt;163</title>\n<path fill=\"none\" stroke=\"black\" d=\"M551.12,-190.91C544.29,-181.92 536.98,-172.32 529.93,-163.05\"/>\n<polygon fill=\"black\" stroke=\"black\" points=\"532.66,-160.86 523.82,-155.02 527.09,-165.1 532.66,-160.86\"/>\n</g>\n<!-- 246 -->\n<g id=\"node17\" class=\"node\">\n<title>246</title>\n<path fill=\"#f5fafe\" stroke=\"black\" d=\"M724.5,-155C724.5,-155 593.5,-155 593.5,-155 587.5,-155 581.5,-149 581.5,-143 581.5,-143 581.5,-84 581.5,-84 581.5,-78 587.5,-72 593.5,-72 593.5,-72 724.5,-72 724.5,-72 730.5,-72 736.5,-78 736.5,-84 736.5,-84 736.5,-143 736.5,-143 736.5,-149 730.5,-155 724.5,-155\"/>\n<text text-anchor=\"start\" x=\"622\" y=\"-139.8\" font-family=\"Helvetica,sans-Serif\" font-size=\"14.00\">buying ≤ 3.5</text>\n<text text-anchor=\"start\" x=\"627\" y=\"-124.8\" font-family=\"Helvetica,sans-Serif\" font-size=\"14.00\">gini = 0.73</text>\n<text text-anchor=\"start\" x=\"614\" y=\"-109.8\" font-family=\"Helvetica,sans-Serif\" font-size=\"14.00\">samples = 124</text>\n<text text-anchor=\"start\" x=\"589.5\" y=\"-94.8\" font-family=\"Helvetica,sans-Serif\" font-size=\"14.00\">value = [36, 60, 67, 36]</text>\n<text text-anchor=\"start\" x=\"617\" y=\"-79.8\" font-family=\"Helvetica,sans-Serif\" font-size=\"14.00\">class = vgood</text>\n</g>\n<!-- 162&#45;&gt;246 -->\n<g id=\"edge16\" class=\"edge\">\n<title>162&#45;&gt;246</title>\n<path fill=\"none\" stroke=\"black\" d=\"M608.71,-190.91C614.51,-182.1 620.7,-172.7 626.68,-163.61\"/>\n<polygon fill=\"black\" stroke=\"black\" points=\"629.76,-165.3 632.33,-155.02 623.91,-161.45 629.76,-165.3\"/>\n</g>\n<!-- 164 -->\n<g id=\"node15\" class=\"node\">\n<title>164</title>\n<path fill=\"#c0c0c0\" stroke=\"black\" d=\"M486,-36C486,-36 456,-36 456,-36 450,-36 444,-30 444,-24 444,-24 444,-12 444,-12 444,-6 450,0 456,0 456,0 486,0 486,0 492,0 498,-6 498,-12 498,-12 498,-24 498,-24 498,-30 492,-36 486,-36\"/>\n<text text-anchor=\"middle\" x=\"471\" y=\"-14.3\" font-family=\"Helvetica,sans-Serif\" font-size=\"14.00\">(...)</text>\n</g>\n<!-- 163&#45;&gt;164 -->\n<g id=\"edge14\" class=\"edge\">\n<title>163&#45;&gt;164</title>\n<path fill=\"none\" stroke=\"black\" d=\"M483.41,-71.76C481.39,-63.14 479.29,-54.24 477.41,-46.26\"/>\n<polygon fill=\"black\" stroke=\"black\" points=\"480.79,-45.34 475.1,-36.41 473.98,-46.94 480.79,-45.34\"/>\n</g>\n<!-- 219 -->\n<g id=\"node16\" class=\"node\">\n<title>219</title>\n<path fill=\"#c0c0c0\" stroke=\"black\" d=\"M558,-36C558,-36 528,-36 528,-36 522,-36 516,-30 516,-24 516,-24 516,-12 516,-12 516,-6 522,0 528,0 528,0 558,0 558,0 564,0 570,-6 570,-12 570,-12 570,-24 570,-24 570,-30 564,-36 558,-36\"/>\n<text text-anchor=\"middle\" x=\"543\" y=\"-14.3\" font-family=\"Helvetica,sans-Serif\" font-size=\"14.00\">(...)</text>\n</g>\n<!-- 163&#45;&gt;219 -->\n<g id=\"edge15\" class=\"edge\">\n<title>163&#45;&gt;219</title>\n<path fill=\"none\" stroke=\"black\" d=\"M514.79,-71.76C519.55,-62.85 524.48,-53.64 528.85,-45.46\"/>\n<polygon fill=\"black\" stroke=\"black\" points=\"532.06,-46.87 533.69,-36.41 525.89,-43.57 532.06,-46.87\"/>\n</g>\n<!-- 247 -->\n<g id=\"node18\" class=\"node\">\n<title>247</title>\n<path fill=\"#c0c0c0\" stroke=\"black\" d=\"M649,-36C649,-36 619,-36 619,-36 613,-36 607,-30 607,-24 607,-24 607,-12 607,-12 607,-6 613,0 619,0 619,0 649,0 649,0 655,0 661,-6 661,-12 661,-12 661,-24 661,-24 661,-30 655,-36 649,-36\"/>\n<text text-anchor=\"middle\" x=\"634\" y=\"-14.3\" font-family=\"Helvetica,sans-Serif\" font-size=\"14.00\">(...)</text>\n</g>\n<!-- 246&#45;&gt;247 -->\n<g id=\"edge17\" class=\"edge\">\n<title>246&#45;&gt;247</title>\n<path fill=\"none\" stroke=\"black\" d=\"M648.11,-71.76C645.8,-63.14 643.42,-54.24 641.29,-46.26\"/>\n<polygon fill=\"black\" stroke=\"black\" points=\"644.62,-45.16 638.65,-36.41 637.86,-46.97 644.62,-45.16\"/>\n</g>\n<!-- 294 -->\n<g id=\"node19\" class=\"node\">\n<title>294</title>\n<path fill=\"#c0c0c0\" stroke=\"black\" d=\"M721,-36C721,-36 691,-36 691,-36 685,-36 679,-30 679,-24 679,-24 679,-12 679,-12 679,-6 685,0 691,0 691,0 721,0 721,0 727,0 733,-6 733,-12 733,-12 733,-24 733,-24 733,-30 727,-36 721,-36\"/>\n<text text-anchor=\"middle\" x=\"706\" y=\"-14.3\" font-family=\"Helvetica,sans-Serif\" font-size=\"14.00\">(...)</text>\n</g>\n<!-- 246&#45;&gt;294 -->\n<g id=\"edge18\" class=\"edge\">\n<title>246&#45;&gt;294</title>\n<path fill=\"none\" stroke=\"black\" d=\"M679.48,-71.76C683.96,-62.85 688.59,-53.64 692.7,-45.46\"/>\n<polygon fill=\"black\" stroke=\"black\" points=\"695.89,-46.91 697.25,-36.41 689.63,-43.77 695.89,-46.91\"/>\n</g>\n</g>\n</svg>\n",
            "text/plain": [
              "<graphviz.sources.Source at 0x7a012d669c00>"
            ]
          },
          "metadata": {},
          "execution_count": 335
        }
      ]
    },
    {
      "cell_type": "markdown",
      "source": [
        "#**6. Parameter Tuning:**"
      ],
      "metadata": {
        "id": "PkhLzJchRiB4"
      }
    },
    {
      "cell_type": "markdown",
      "source": [
        "Here, I have build the Random Forest Classifier model with default parameter of n_estimators = 10. So, I have used 10 decision-trees to build the model. Now, I will increase the number of decision-trees and see its effect on accuracy."
      ],
      "metadata": {
        "id": "oSVyW-ZcR_be"
      }
    },
    {
      "cell_type": "markdown",
      "source": [
        "## Train the Model\n"
      ],
      "metadata": {
        "id": "m_NH5MQKSJej"
      }
    },
    {
      "cell_type": "code",
      "source": [
        "# instantiate the classifier with n_estimators = 100\n",
        "rfc_100 = RandomForestClassifier(n_estimators=100, random_state=0)\n",
        "\n",
        "# fit the model to the training set\n",
        "rfc_100.fit(X_train, y_train)"
      ],
      "metadata": {
        "colab": {
          "base_uri": "https://localhost:8080/",
          "height": 75
        },
        "id": "6fmVndTwSYB5",
        "outputId": "e10a2450-0bcb-4c2f-a7b6-3264ef0f7ace"
      },
      "execution_count": null,
      "outputs": [
        {
          "output_type": "execute_result",
          "data": {
            "text/plain": [
              "RandomForestClassifier(random_state=0)"
            ],
            "text/html": [
              "<style>#sk-container-id-24 {color: black;background-color: white;}#sk-container-id-24 pre{padding: 0;}#sk-container-id-24 div.sk-toggleable {background-color: white;}#sk-container-id-24 label.sk-toggleable__label {cursor: pointer;display: block;width: 100%;margin-bottom: 0;padding: 0.3em;box-sizing: border-box;text-align: center;}#sk-container-id-24 label.sk-toggleable__label-arrow:before {content: \"▸\";float: left;margin-right: 0.25em;color: #696969;}#sk-container-id-24 label.sk-toggleable__label-arrow:hover:before {color: black;}#sk-container-id-24 div.sk-estimator:hover label.sk-toggleable__label-arrow:before {color: black;}#sk-container-id-24 div.sk-toggleable__content {max-height: 0;max-width: 0;overflow: hidden;text-align: left;background-color: #f0f8ff;}#sk-container-id-24 div.sk-toggleable__content pre {margin: 0.2em;color: black;border-radius: 0.25em;background-color: #f0f8ff;}#sk-container-id-24 input.sk-toggleable__control:checked~div.sk-toggleable__content {max-height: 200px;max-width: 100%;overflow: auto;}#sk-container-id-24 input.sk-toggleable__control:checked~label.sk-toggleable__label-arrow:before {content: \"▾\";}#sk-container-id-24 div.sk-estimator input.sk-toggleable__control:checked~label.sk-toggleable__label {background-color: #d4ebff;}#sk-container-id-24 div.sk-label input.sk-toggleable__control:checked~label.sk-toggleable__label {background-color: #d4ebff;}#sk-container-id-24 input.sk-hidden--visually {border: 0;clip: rect(1px 1px 1px 1px);clip: rect(1px, 1px, 1px, 1px);height: 1px;margin: -1px;overflow: hidden;padding: 0;position: absolute;width: 1px;}#sk-container-id-24 div.sk-estimator {font-family: monospace;background-color: #f0f8ff;border: 1px dotted black;border-radius: 0.25em;box-sizing: border-box;margin-bottom: 0.5em;}#sk-container-id-24 div.sk-estimator:hover {background-color: #d4ebff;}#sk-container-id-24 div.sk-parallel-item::after {content: \"\";width: 100%;border-bottom: 1px solid gray;flex-grow: 1;}#sk-container-id-24 div.sk-label:hover label.sk-toggleable__label {background-color: #d4ebff;}#sk-container-id-24 div.sk-serial::before {content: \"\";position: absolute;border-left: 1px solid gray;box-sizing: border-box;top: 0;bottom: 0;left: 50%;z-index: 0;}#sk-container-id-24 div.sk-serial {display: flex;flex-direction: column;align-items: center;background-color: white;padding-right: 0.2em;padding-left: 0.2em;position: relative;}#sk-container-id-24 div.sk-item {position: relative;z-index: 1;}#sk-container-id-24 div.sk-parallel {display: flex;align-items: stretch;justify-content: center;background-color: white;position: relative;}#sk-container-id-24 div.sk-item::before, #sk-container-id-24 div.sk-parallel-item::before {content: \"\";position: absolute;border-left: 1px solid gray;box-sizing: border-box;top: 0;bottom: 0;left: 50%;z-index: -1;}#sk-container-id-24 div.sk-parallel-item {display: flex;flex-direction: column;z-index: 1;position: relative;background-color: white;}#sk-container-id-24 div.sk-parallel-item:first-child::after {align-self: flex-end;width: 50%;}#sk-container-id-24 div.sk-parallel-item:last-child::after {align-self: flex-start;width: 50%;}#sk-container-id-24 div.sk-parallel-item:only-child::after {width: 0;}#sk-container-id-24 div.sk-dashed-wrapped {border: 1px dashed gray;margin: 0 0.4em 0.5em 0.4em;box-sizing: border-box;padding-bottom: 0.4em;background-color: white;}#sk-container-id-24 div.sk-label label {font-family: monospace;font-weight: bold;display: inline-block;line-height: 1.2em;}#sk-container-id-24 div.sk-label-container {text-align: center;}#sk-container-id-24 div.sk-container {/* jupyter's `normalize.less` sets `[hidden] { display: none; }` but bootstrap.min.css set `[hidden] { display: none !important; }` so we also need the `!important` here to be able to override the default hidden behavior on the sphinx rendered scikit-learn.org. See: https://github.com/scikit-learn/scikit-learn/issues/21755 */display: inline-block !important;position: relative;}#sk-container-id-24 div.sk-text-repr-fallback {display: none;}</style><div id=\"sk-container-id-24\" class=\"sk-top-container\"><div class=\"sk-text-repr-fallback\"><pre>RandomForestClassifier(random_state=0)</pre><b>In a Jupyter environment, please rerun this cell to show the HTML representation or trust the notebook. <br />On GitHub, the HTML representation is unable to render, please try loading this page with nbviewer.org.</b></div><div class=\"sk-container\" hidden><div class=\"sk-item\"><div class=\"sk-estimator sk-toggleable\"><input class=\"sk-toggleable__control sk-hidden--visually\" id=\"sk-estimator-id-24\" type=\"checkbox\" checked><label for=\"sk-estimator-id-24\" class=\"sk-toggleable__label sk-toggleable__label-arrow\">RandomForestClassifier</label><div class=\"sk-toggleable__content\"><pre>RandomForestClassifier(random_state=0)</pre></div></div></div></div></div>"
            ]
          },
          "metadata": {},
          "execution_count": 336
        }
      ]
    },
    {
      "cell_type": "markdown",
      "source": [
        "## Predict the Test set results"
      ],
      "metadata": {
        "id": "L7cxCAFJSe2S"
      }
    },
    {
      "cell_type": "code",
      "source": [
        "# Predict on the test set results\n",
        "y_pred_100 = rfc_100.predict(X_test)"
      ],
      "metadata": {
        "id": "U8-JNBy5StLj"
      },
      "execution_count": null,
      "outputs": []
    },
    {
      "cell_type": "markdown",
      "source": [
        "## Check accuracy score"
      ],
      "metadata": {
        "id": "XZnae2LbSx7w"
      }
    },
    {
      "cell_type": "code",
      "source": [
        "# Check accuracy score\n",
        "print('Model accuracy score with 100 decision-trees : {0:0.4f}'. format(accuracy_score(y_test, y_pred_100)))"
      ],
      "metadata": {
        "colab": {
          "base_uri": "https://localhost:8080/"
        },
        "id": "kDwRCzf-S0FY",
        "outputId": "5f71edff-5384-4a45-d176-c723a3112e79"
      },
      "execution_count": null,
      "outputs": [
        {
          "output_type": "stream",
          "name": "stdout",
          "text": [
            "Model accuracy score with 100 decision-trees : 0.9649\n"
          ]
        }
      ]
    },
    {
      "cell_type": "markdown",
      "source": [
        "The model accuracy score with 10 decision-trees is 0.9474 but the same with 100 decision-trees is 0.9649. So, as expected accuracy increases with number of decision-trees in the model."
      ],
      "metadata": {
        "id": "BkcxhVnYS3sN"
      }
    },
    {
      "cell_type": "markdown",
      "source": [
        "## Visualize a tree from the random forest with graphviz"
      ],
      "metadata": {
        "id": "-mgQjbO7j8mw"
      }
    },
    {
      "cell_type": "code",
      "source": [
        "from sklearn.tree import export_graphviz\n",
        "import graphviz\n",
        "\n",
        "tree_index = 1\n",
        "\n",
        "# Get the tree from the Random Forest\n",
        "tree_to_visualize = rfc_100.estimators_[tree_index]\n",
        "\n",
        "# Export the tree to graphviz format with max_depth set to 3\n",
        "dot_data = export_graphviz(tree_to_visualize, out_file=None,\n",
        "                           feature_names=X_train.columns,\n",
        "                           class_names=df['class'].unique(),\n",
        "                           filled=True, rounded=True,\n",
        "                           special_characters=True,\n",
        "                           max_depth=3)  # Set max_depth to limit the depth of the visualization\n",
        "\n",
        "# Create a graph from the graphviz format\n",
        "graph = graphviz.Source(dot_data)\n",
        "\n",
        "# Render the graph\n",
        "graph.render(filename=f'tree_{tree_index}_small', format='png', cleanup=True)\n",
        "\n",
        "# Display the graph\n",
        "graph"
      ],
      "metadata": {
        "colab": {
          "base_uri": "https://localhost:8080/",
          "height": 715
        },
        "id": "KzNSLqbikF4b",
        "outputId": "5598924a-922b-42f3-d8e2-40b2729a591f"
      },
      "execution_count": null,
      "outputs": [
        {
          "output_type": "execute_result",
          "data": {
            "image/svg+xml": "<?xml version=\"1.0\" encoding=\"UTF-8\" standalone=\"no\"?>\n<!DOCTYPE svg PUBLIC \"-//W3C//DTD SVG 1.1//EN\"\n \"http://www.w3.org/Graphics/SVG/1.1/DTD/svg11.dtd\">\n<!-- Generated by graphviz version 2.43.0 (0)\n -->\n<!-- Title: Tree Pages: 1 -->\n<svg width=\"664pt\" height=\"520pt\"\n viewBox=\"0.00 0.00 663.50 520.00\" xmlns=\"http://www.w3.org/2000/svg\" xmlns:xlink=\"http://www.w3.org/1999/xlink\">\n<g id=\"graph0\" class=\"graph\" transform=\"scale(1 1) rotate(0) translate(4 516)\">\n<title>Tree</title>\n<polygon fill=\"white\" stroke=\"transparent\" points=\"-4,4 -4,-516 659.5,-516 659.5,4 -4,4\"/>\n<!-- 0 -->\n<g id=\"node1\" class=\"node\">\n<title>0</title>\n<path fill=\"#89c4ef\" stroke=\"black\" d=\"M309.5,-512C309.5,-512 163.5,-512 163.5,-512 157.5,-512 151.5,-506 151.5,-500 151.5,-500 151.5,-441 151.5,-441 151.5,-435 157.5,-429 163.5,-429 163.5,-429 309.5,-429 309.5,-429 315.5,-429 321.5,-435 321.5,-441 321.5,-441 321.5,-500 321.5,-500 321.5,-506 315.5,-512 309.5,-512\"/>\n<text text-anchor=\"start\" x=\"195.5\" y=\"-496.8\" font-family=\"Helvetica,sans-Serif\" font-size=\"14.00\">persons ≤ 1.5</text>\n<text text-anchor=\"start\" x=\"201\" y=\"-481.8\" font-family=\"Helvetica,sans-Serif\" font-size=\"14.00\">gini = 0.466</text>\n<text text-anchor=\"start\" x=\"191.5\" y=\"-466.8\" font-family=\"Helvetica,sans-Serif\" font-size=\"14.00\">samples = 710</text>\n<text text-anchor=\"start\" x=\"159.5\" y=\"-451.8\" font-family=\"Helvetica,sans-Serif\" font-size=\"14.00\">value = [268, 46, 799, 44]</text>\n<text text-anchor=\"start\" x=\"194.5\" y=\"-436.8\" font-family=\"Helvetica,sans-Serif\" font-size=\"14.00\">class = vgood</text>\n</g>\n<!-- 1 -->\n<g id=\"node2\" class=\"node\">\n<title>1</title>\n<path fill=\"#399de5\" stroke=\"black\" d=\"M208.5,-385.5C208.5,-385.5 92.5,-385.5 92.5,-385.5 86.5,-385.5 80.5,-379.5 80.5,-373.5 80.5,-373.5 80.5,-329.5 80.5,-329.5 80.5,-323.5 86.5,-317.5 92.5,-317.5 92.5,-317.5 208.5,-317.5 208.5,-317.5 214.5,-317.5 220.5,-323.5 220.5,-329.5 220.5,-329.5 220.5,-373.5 220.5,-373.5 220.5,-379.5 214.5,-385.5 208.5,-385.5\"/>\n<text text-anchor=\"start\" x=\"122.5\" y=\"-370.3\" font-family=\"Helvetica,sans-Serif\" font-size=\"14.00\">gini = 0.0</text>\n<text text-anchor=\"start\" x=\"105.5\" y=\"-355.3\" font-family=\"Helvetica,sans-Serif\" font-size=\"14.00\">samples = 221</text>\n<text text-anchor=\"start\" x=\"88.5\" y=\"-340.3\" font-family=\"Helvetica,sans-Serif\" font-size=\"14.00\">value = [0, 0, 359, 0]</text>\n<text text-anchor=\"start\" x=\"108.5\" y=\"-325.3\" font-family=\"Helvetica,sans-Serif\" font-size=\"14.00\">class = vgood</text>\n</g>\n<!-- 0&#45;&gt;1 -->\n<g id=\"edge1\" class=\"edge\">\n<title>0&#45;&gt;1</title>\n<path fill=\"none\" stroke=\"black\" d=\"M206.66,-428.91C198.31,-417.54 189.22,-405.18 180.84,-393.77\"/>\n<polygon fill=\"black\" stroke=\"black\" points=\"183.62,-391.65 174.88,-385.67 177.98,-395.8 183.62,-391.65\"/>\n<text text-anchor=\"middle\" x=\"171.11\" y=\"-406.68\" font-family=\"Helvetica,sans-Serif\" font-size=\"14.00\">True</text>\n</g>\n<!-- 2 -->\n<g id=\"node3\" class=\"node\">\n<title>2</title>\n<path fill=\"#bfdff7\" stroke=\"black\" d=\"M396.5,-393C396.5,-393 250.5,-393 250.5,-393 244.5,-393 238.5,-387 238.5,-381 238.5,-381 238.5,-322 238.5,-322 238.5,-316 244.5,-310 250.5,-310 250.5,-310 396.5,-310 396.5,-310 402.5,-310 408.5,-316 408.5,-322 408.5,-322 408.5,-381 408.5,-381 408.5,-387 402.5,-393 396.5,-393\"/>\n<text text-anchor=\"start\" x=\"289.5\" y=\"-377.8\" font-family=\"Helvetica,sans-Serif\" font-size=\"14.00\">maint ≤ 2.5</text>\n<text text-anchor=\"start\" x=\"288\" y=\"-362.8\" font-family=\"Helvetica,sans-Serif\" font-size=\"14.00\">gini = 0.577</text>\n<text text-anchor=\"start\" x=\"278.5\" y=\"-347.8\" font-family=\"Helvetica,sans-Serif\" font-size=\"14.00\">samples = 489</text>\n<text text-anchor=\"start\" x=\"246.5\" y=\"-332.8\" font-family=\"Helvetica,sans-Serif\" font-size=\"14.00\">value = [268, 46, 440, 44]</text>\n<text text-anchor=\"start\" x=\"281.5\" y=\"-317.8\" font-family=\"Helvetica,sans-Serif\" font-size=\"14.00\">class = vgood</text>\n</g>\n<!-- 0&#45;&gt;2 -->\n<g id=\"edge2\" class=\"edge\">\n<title>0&#45;&gt;2</title>\n<path fill=\"none\" stroke=\"black\" d=\"M266.68,-428.91C273.36,-419.92 280.51,-410.32 287.4,-401.05\"/>\n<polygon fill=\"black\" stroke=\"black\" points=\"290.21,-403.13 293.37,-393.02 284.59,-398.96 290.21,-403.13\"/>\n<text text-anchor=\"middle\" x=\"297.01\" y=\"-414.05\" font-family=\"Helvetica,sans-Serif\" font-size=\"14.00\">False</text>\n</g>\n<!-- 3 -->\n<g id=\"node4\" class=\"node\">\n<title>3</title>\n<path fill=\"#8ec7f0\" stroke=\"black\" d=\"M299,-274C299,-274 168,-274 168,-274 162,-274 156,-268 156,-262 156,-262 156,-203 156,-203 156,-197 162,-191 168,-191 168,-191 299,-191 299,-191 305,-191 311,-197 311,-203 311,-203 311,-262 311,-262 311,-268 305,-274 299,-274\"/>\n<text text-anchor=\"start\" x=\"199.5\" y=\"-258.8\" font-family=\"Helvetica,sans-Serif\" font-size=\"14.00\">doors ≤ 3.5</text>\n<text text-anchor=\"start\" x=\"198\" y=\"-243.8\" font-family=\"Helvetica,sans-Serif\" font-size=\"14.00\">gini = 0.438</text>\n<text text-anchor=\"start\" x=\"188.5\" y=\"-228.8\" font-family=\"Helvetica,sans-Serif\" font-size=\"14.00\">samples = 232</text>\n<text text-anchor=\"start\" x=\"164\" y=\"-213.8\" font-family=\"Helvetica,sans-Serif\" font-size=\"14.00\">value = [110, 0, 266, 8]</text>\n<text text-anchor=\"start\" x=\"191.5\" y=\"-198.8\" font-family=\"Helvetica,sans-Serif\" font-size=\"14.00\">class = vgood</text>\n</g>\n<!-- 2&#45;&gt;3 -->\n<g id=\"edge3\" class=\"edge\">\n<title>2&#45;&gt;3</title>\n<path fill=\"none\" stroke=\"black\" d=\"M292.27,-309.91C285.36,-300.92 277.97,-291.32 270.85,-282.05\"/>\n<polygon fill=\"black\" stroke=\"black\" points=\"273.54,-279.81 264.67,-274.02 267.99,-284.08 273.54,-279.81\"/>\n</g>\n<!-- 124 -->\n<g id=\"node11\" class=\"node\">\n<title>124</title>\n<path fill=\"#f3f9fd\" stroke=\"black\" d=\"M487.5,-274C487.5,-274 341.5,-274 341.5,-274 335.5,-274 329.5,-268 329.5,-262 329.5,-262 329.5,-203 329.5,-203 329.5,-197 335.5,-191 341.5,-191 341.5,-191 487.5,-191 487.5,-191 493.5,-191 499.5,-197 499.5,-203 499.5,-203 499.5,-262 499.5,-262 499.5,-268 493.5,-274 487.5,-274\"/>\n<text text-anchor=\"start\" x=\"380.5\" y=\"-258.8\" font-family=\"Helvetica,sans-Serif\" font-size=\"14.00\">doors ≤ 3.5</text>\n<text text-anchor=\"start\" x=\"379\" y=\"-243.8\" font-family=\"Helvetica,sans-Serif\" font-size=\"14.00\">gini = 0.658</text>\n<text text-anchor=\"start\" x=\"369.5\" y=\"-228.8\" font-family=\"Helvetica,sans-Serif\" font-size=\"14.00\">samples = 257</text>\n<text text-anchor=\"start\" x=\"337.5\" y=\"-213.8\" font-family=\"Helvetica,sans-Serif\" font-size=\"14.00\">value = [158, 46, 174, 36]</text>\n<text text-anchor=\"start\" x=\"372.5\" y=\"-198.8\" font-family=\"Helvetica,sans-Serif\" font-size=\"14.00\">class = vgood</text>\n</g>\n<!-- 2&#45;&gt;124 -->\n<g id=\"edge10\" class=\"edge\">\n<title>2&#45;&gt;124</title>\n<path fill=\"none\" stroke=\"black\" d=\"M355.07,-309.91C362.06,-300.92 369.53,-291.32 376.74,-282.05\"/>\n<polygon fill=\"black\" stroke=\"black\" points=\"379.61,-284.06 382.98,-274.02 374.08,-279.77 379.61,-284.06\"/>\n</g>\n<!-- 4 -->\n<g id=\"node5\" class=\"node\">\n<title>4</title>\n<path fill=\"#a0d0f2\" stroke=\"black\" d=\"M135,-155C135,-155 12,-155 12,-155 6,-155 0,-149 0,-143 0,-143 0,-84 0,-84 0,-78 6,-72 12,-72 12,-72 135,-72 135,-72 141,-72 147,-78 147,-84 147,-84 147,-143 147,-143 147,-149 141,-155 135,-155\"/>\n<text text-anchor=\"start\" x=\"39.5\" y=\"-139.8\" font-family=\"Helvetica,sans-Serif\" font-size=\"14.00\">maint ≤ 1.5</text>\n<text text-anchor=\"start\" x=\"38\" y=\"-124.8\" font-family=\"Helvetica,sans-Serif\" font-size=\"14.00\">gini = 0.474</text>\n<text text-anchor=\"start\" x=\"28.5\" y=\"-109.8\" font-family=\"Helvetica,sans-Serif\" font-size=\"14.00\">samples = 171</text>\n<text text-anchor=\"start\" x=\"8\" y=\"-94.8\" font-family=\"Helvetica,sans-Serif\" font-size=\"14.00\">value = [91, 0, 183, 8]</text>\n<text text-anchor=\"start\" x=\"31.5\" y=\"-79.8\" font-family=\"Helvetica,sans-Serif\" font-size=\"14.00\">class = vgood</text>\n</g>\n<!-- 3&#45;&gt;4 -->\n<g id=\"edge4\" class=\"edge\">\n<title>3&#45;&gt;4</title>\n<path fill=\"none\" stroke=\"black\" d=\"M177.99,-190.91C164.83,-181.29 150.7,-170.95 137.21,-161.09\"/>\n<polygon fill=\"black\" stroke=\"black\" points=\"139.05,-158.1 128.91,-155.02 134.92,-163.75 139.05,-158.1\"/>\n</g>\n<!-- 85 -->\n<g id=\"node8\" class=\"node\">\n<title>85</title>\n<path fill=\"#66b3eb\" stroke=\"black\" d=\"M293.5,-155C293.5,-155 177.5,-155 177.5,-155 171.5,-155 165.5,-149 165.5,-143 165.5,-143 165.5,-84 165.5,-84 165.5,-78 171.5,-72 177.5,-72 177.5,-72 293.5,-72 293.5,-72 299.5,-72 305.5,-78 305.5,-84 305.5,-84 305.5,-143 305.5,-143 305.5,-149 299.5,-155 293.5,-155\"/>\n<text text-anchor=\"start\" x=\"198.5\" y=\"-139.8\" font-family=\"Helvetica,sans-Serif\" font-size=\"14.00\">buying ≤ 1.5</text>\n<text text-anchor=\"start\" x=\"200\" y=\"-124.8\" font-family=\"Helvetica,sans-Serif\" font-size=\"14.00\">gini = 0.303</text>\n<text text-anchor=\"start\" x=\"194.5\" y=\"-109.8\" font-family=\"Helvetica,sans-Serif\" font-size=\"14.00\">samples = 61</text>\n<text text-anchor=\"start\" x=\"173.5\" y=\"-94.8\" font-family=\"Helvetica,sans-Serif\" font-size=\"14.00\">value = [19, 0, 83, 0]</text>\n<text text-anchor=\"start\" x=\"193.5\" y=\"-79.8\" font-family=\"Helvetica,sans-Serif\" font-size=\"14.00\">class = vgood</text>\n</g>\n<!-- 3&#45;&gt;85 -->\n<g id=\"edge7\" class=\"edge\">\n<title>3&#45;&gt;85</title>\n<path fill=\"none\" stroke=\"black\" d=\"M234.19,-190.91C234.34,-182.56 234.49,-173.67 234.64,-165.02\"/>\n<polygon fill=\"black\" stroke=\"black\" points=\"238.14,-165.08 234.81,-155.02 231.14,-164.96 238.14,-165.08\"/>\n</g>\n<!-- 5 -->\n<g id=\"node6\" class=\"node\">\n<title>5</title>\n<path fill=\"#c0c0c0\" stroke=\"black\" d=\"M52.5,-36C52.5,-36 22.5,-36 22.5,-36 16.5,-36 10.5,-30 10.5,-24 10.5,-24 10.5,-12 10.5,-12 10.5,-6 16.5,0 22.5,0 22.5,0 52.5,0 52.5,0 58.5,0 64.5,-6 64.5,-12 64.5,-12 64.5,-24 64.5,-24 64.5,-30 58.5,-36 52.5,-36\"/>\n<text text-anchor=\"middle\" x=\"37.5\" y=\"-14.3\" font-family=\"Helvetica,sans-Serif\" font-size=\"14.00\">(...)</text>\n</g>\n<!-- 4&#45;&gt;5 -->\n<g id=\"edge5\" class=\"edge\">\n<title>4&#45;&gt;5</title>\n<path fill=\"none\" stroke=\"black\" d=\"M57.81,-71.76C54.46,-63.04 50.99,-54.04 47.89,-45.99\"/>\n<polygon fill=\"black\" stroke=\"black\" points=\"51.06,-44.48 44.2,-36.41 44.53,-46.99 51.06,-44.48\"/>\n</g>\n<!-- 52 -->\n<g id=\"node7\" class=\"node\">\n<title>52</title>\n<path fill=\"#c0c0c0\" stroke=\"black\" d=\"M124.5,-36C124.5,-36 94.5,-36 94.5,-36 88.5,-36 82.5,-30 82.5,-24 82.5,-24 82.5,-12 82.5,-12 82.5,-6 88.5,0 94.5,0 94.5,0 124.5,0 124.5,0 130.5,0 136.5,-6 136.5,-12 136.5,-12 136.5,-24 136.5,-24 136.5,-30 130.5,-36 124.5,-36\"/>\n<text text-anchor=\"middle\" x=\"109.5\" y=\"-14.3\" font-family=\"Helvetica,sans-Serif\" font-size=\"14.00\">(...)</text>\n</g>\n<!-- 4&#45;&gt;52 -->\n<g id=\"edge6\" class=\"edge\">\n<title>4&#45;&gt;52</title>\n<path fill=\"none\" stroke=\"black\" d=\"M89.19,-71.76C92.54,-63.04 96.01,-54.04 99.11,-45.99\"/>\n<polygon fill=\"black\" stroke=\"black\" points=\"102.47,-46.99 102.8,-36.41 95.94,-44.48 102.47,-46.99\"/>\n</g>\n<!-- 86 -->\n<g id=\"node9\" class=\"node\">\n<title>86</title>\n<path fill=\"#c0c0c0\" stroke=\"black\" d=\"M230.5,-36C230.5,-36 200.5,-36 200.5,-36 194.5,-36 188.5,-30 188.5,-24 188.5,-24 188.5,-12 188.5,-12 188.5,-6 194.5,0 200.5,0 200.5,0 230.5,0 230.5,0 236.5,0 242.5,-6 242.5,-12 242.5,-12 242.5,-24 242.5,-24 242.5,-30 236.5,-36 230.5,-36\"/>\n<text text-anchor=\"middle\" x=\"215.5\" y=\"-14.3\" font-family=\"Helvetica,sans-Serif\" font-size=\"14.00\">(...)</text>\n</g>\n<!-- 85&#45;&gt;86 -->\n<g id=\"edge8\" class=\"edge\">\n<title>85&#45;&gt;86</title>\n<path fill=\"none\" stroke=\"black\" d=\"M226.79,-71.76C224.94,-63.14 223.04,-54.24 221.33,-46.26\"/>\n<polygon fill=\"black\" stroke=\"black\" points=\"224.74,-45.45 219.22,-36.41 217.89,-46.92 224.74,-45.45\"/>\n</g>\n<!-- 87 -->\n<g id=\"node10\" class=\"node\">\n<title>87</title>\n<path fill=\"#c0c0c0\" stroke=\"black\" d=\"M302.5,-36C302.5,-36 272.5,-36 272.5,-36 266.5,-36 260.5,-30 260.5,-24 260.5,-24 260.5,-12 260.5,-12 260.5,-6 266.5,0 272.5,0 272.5,0 302.5,0 302.5,0 308.5,0 314.5,-6 314.5,-12 314.5,-12 314.5,-24 314.5,-24 314.5,-30 308.5,-36 302.5,-36\"/>\n<text text-anchor=\"middle\" x=\"287.5\" y=\"-14.3\" font-family=\"Helvetica,sans-Serif\" font-size=\"14.00\">(...)</text>\n</g>\n<!-- 85&#45;&gt;87 -->\n<g id=\"edge9\" class=\"edge\">\n<title>85&#45;&gt;87</title>\n<path fill=\"none\" stroke=\"black\" d=\"M258.16,-71.76C263.17,-62.75 268.35,-53.44 272.93,-45.19\"/>\n<polygon fill=\"black\" stroke=\"black\" points=\"276.02,-46.85 277.82,-36.41 269.9,-43.44 276.02,-46.85\"/>\n</g>\n<!-- 125 -->\n<g id=\"node12\" class=\"node\">\n<title>125</title>\n<path fill=\"#fcf2eb\" stroke=\"black\" d=\"M485.5,-155C485.5,-155 339.5,-155 339.5,-155 333.5,-155 327.5,-149 327.5,-143 327.5,-143 327.5,-84 327.5,-84 327.5,-78 333.5,-72 339.5,-72 339.5,-72 485.5,-72 485.5,-72 491.5,-72 497.5,-78 497.5,-84 497.5,-84 497.5,-143 497.5,-143 497.5,-149 491.5,-155 485.5,-155\"/>\n<text text-anchor=\"start\" x=\"369.5\" y=\"-139.8\" font-family=\"Helvetica,sans-Serif\" font-size=\"14.00\">lug_boot ≤ 2.5</text>\n<text text-anchor=\"start\" x=\"377\" y=\"-124.8\" font-family=\"Helvetica,sans-Serif\" font-size=\"14.00\">gini = 0.664</text>\n<text text-anchor=\"start\" x=\"367.5\" y=\"-109.8\" font-family=\"Helvetica,sans-Serif\" font-size=\"14.00\">samples = 199</text>\n<text text-anchor=\"start\" x=\"335.5\" y=\"-94.8\" font-family=\"Helvetica,sans-Serif\" font-size=\"14.00\">value = [133, 38, 113, 28]</text>\n<text text-anchor=\"start\" x=\"371\" y=\"-79.8\" font-family=\"Helvetica,sans-Serif\" font-size=\"14.00\">class = unacc</text>\n</g>\n<!-- 124&#45;&gt;125 -->\n<g id=\"edge11\" class=\"edge\">\n<title>124&#45;&gt;125</title>\n<path fill=\"none\" stroke=\"black\" d=\"M413.81,-190.91C413.66,-182.56 413.51,-173.67 413.36,-165.02\"/>\n<polygon fill=\"black\" stroke=\"black\" points=\"416.86,-164.96 413.19,-155.02 409.86,-165.08 416.86,-164.96\"/>\n</g>\n<!-- 264 -->\n<g id=\"node15\" class=\"node\">\n<title>264</title>\n<path fill=\"#a2d1f3\" stroke=\"black\" d=\"M643.5,-155C643.5,-155 527.5,-155 527.5,-155 521.5,-155 515.5,-149 515.5,-143 515.5,-143 515.5,-84 515.5,-84 515.5,-78 521.5,-72 527.5,-72 527.5,-72 643.5,-72 643.5,-72 649.5,-72 655.5,-78 655.5,-84 655.5,-84 655.5,-143 655.5,-143 655.5,-149 649.5,-155 643.5,-155\"/>\n<text text-anchor=\"start\" x=\"542.5\" y=\"-139.8\" font-family=\"Helvetica,sans-Serif\" font-size=\"14.00\">lug_boot ≤ 2.5</text>\n<text text-anchor=\"start\" x=\"553.5\" y=\"-124.8\" font-family=\"Helvetica,sans-Serif\" font-size=\"14.00\">gini = 0.57</text>\n<text text-anchor=\"start\" x=\"544.5\" y=\"-109.8\" font-family=\"Helvetica,sans-Serif\" font-size=\"14.00\">samples = 58</text>\n<text text-anchor=\"start\" x=\"523.5\" y=\"-94.8\" font-family=\"Helvetica,sans-Serif\" font-size=\"14.00\">value = [25, 8, 61, 8]</text>\n<text text-anchor=\"start\" x=\"543.5\" y=\"-79.8\" font-family=\"Helvetica,sans-Serif\" font-size=\"14.00\">class = vgood</text>\n</g>\n<!-- 124&#45;&gt;264 -->\n<g id=\"edge14\" class=\"edge\">\n<title>124&#45;&gt;264</title>\n<path fill=\"none\" stroke=\"black\" d=\"M473.83,-190.91C488.02,-181.2 503.28,-170.76 517.81,-160.81\"/>\n<polygon fill=\"black\" stroke=\"black\" points=\"520,-163.56 526.28,-155.02 516.05,-157.78 520,-163.56\"/>\n</g>\n<!-- 126 -->\n<g id=\"node13\" class=\"node\">\n<title>126</title>\n<path fill=\"#c0c0c0\" stroke=\"black\" d=\"M394.5,-36C394.5,-36 364.5,-36 364.5,-36 358.5,-36 352.5,-30 352.5,-24 352.5,-24 352.5,-12 352.5,-12 352.5,-6 358.5,0 364.5,0 364.5,0 394.5,0 394.5,0 400.5,0 406.5,-6 406.5,-12 406.5,-12 406.5,-24 406.5,-24 406.5,-30 400.5,-36 394.5,-36\"/>\n<text text-anchor=\"middle\" x=\"379.5\" y=\"-14.3\" font-family=\"Helvetica,sans-Serif\" font-size=\"14.00\">(...)</text>\n</g>\n<!-- 125&#45;&gt;126 -->\n<g id=\"edge12\" class=\"edge\">\n<title>125&#45;&gt;126</title>\n<path fill=\"none\" stroke=\"black\" d=\"M398.12,-71.76C395.04,-63.04 391.87,-54.04 389.03,-45.99\"/>\n<polygon fill=\"black\" stroke=\"black\" points=\"392.27,-44.67 385.64,-36.41 385.67,-47 392.27,-44.67\"/>\n</g>\n<!-- 205 -->\n<g id=\"node14\" class=\"node\">\n<title>205</title>\n<path fill=\"#c0c0c0\" stroke=\"black\" d=\"M466.5,-36C466.5,-36 436.5,-36 436.5,-36 430.5,-36 424.5,-30 424.5,-24 424.5,-24 424.5,-12 424.5,-12 424.5,-6 430.5,0 436.5,0 436.5,0 466.5,0 466.5,0 472.5,0 478.5,-6 478.5,-12 478.5,-12 478.5,-24 478.5,-24 478.5,-30 472.5,-36 466.5,-36\"/>\n<text text-anchor=\"middle\" x=\"451.5\" y=\"-14.3\" font-family=\"Helvetica,sans-Serif\" font-size=\"14.00\">(...)</text>\n</g>\n<!-- 125&#45;&gt;205 -->\n<g id=\"edge13\" class=\"edge\">\n<title>125&#45;&gt;205</title>\n<path fill=\"none\" stroke=\"black\" d=\"M429.49,-71.76C433.17,-62.94 436.97,-53.84 440.35,-45.72\"/>\n<polygon fill=\"black\" stroke=\"black\" points=\"443.62,-46.98 444.24,-36.41 437.16,-44.29 443.62,-46.98\"/>\n</g>\n<!-- 265 -->\n<g id=\"node16\" class=\"node\">\n<title>265</title>\n<path fill=\"#c0c0c0\" stroke=\"black\" d=\"M548.5,-36C548.5,-36 518.5,-36 518.5,-36 512.5,-36 506.5,-30 506.5,-24 506.5,-24 506.5,-12 506.5,-12 506.5,-6 512.5,0 518.5,0 518.5,0 548.5,0 548.5,0 554.5,0 560.5,-6 560.5,-12 560.5,-12 560.5,-24 560.5,-24 560.5,-30 554.5,-36 548.5,-36\"/>\n<text text-anchor=\"middle\" x=\"533.5\" y=\"-14.3\" font-family=\"Helvetica,sans-Serif\" font-size=\"14.00\">(...)</text>\n</g>\n<!-- 264&#45;&gt;265 -->\n<g id=\"edge15\" class=\"edge\">\n<title>264&#45;&gt;265</title>\n<path fill=\"none\" stroke=\"black\" d=\"M562.84,-71.76C557.83,-62.75 552.65,-53.44 548.07,-45.19\"/>\n<polygon fill=\"black\" stroke=\"black\" points=\"551.1,-43.44 543.18,-36.41 544.98,-46.85 551.1,-43.44\"/>\n</g>\n<!-- 308 -->\n<g id=\"node17\" class=\"node\">\n<title>308</title>\n<path fill=\"#c0c0c0\" stroke=\"black\" d=\"M620.5,-36C620.5,-36 590.5,-36 590.5,-36 584.5,-36 578.5,-30 578.5,-24 578.5,-24 578.5,-12 578.5,-12 578.5,-6 584.5,0 590.5,0 590.5,0 620.5,0 620.5,0 626.5,0 632.5,-6 632.5,-12 632.5,-12 632.5,-24 632.5,-24 632.5,-30 626.5,-36 620.5,-36\"/>\n<text text-anchor=\"middle\" x=\"605.5\" y=\"-14.3\" font-family=\"Helvetica,sans-Serif\" font-size=\"14.00\">(...)</text>\n</g>\n<!-- 264&#45;&gt;308 -->\n<g id=\"edge16\" class=\"edge\">\n<title>264&#45;&gt;308</title>\n<path fill=\"none\" stroke=\"black\" d=\"M594.21,-71.76C596.06,-63.14 597.96,-54.24 599.67,-46.26\"/>\n<polygon fill=\"black\" stroke=\"black\" points=\"603.11,-46.92 601.78,-36.41 596.26,-45.45 603.11,-46.92\"/>\n</g>\n</g>\n</svg>\n",
            "text/plain": [
              "<graphviz.sources.Source at 0x7a012dbbf790>"
            ]
          },
          "metadata": {},
          "execution_count": 339
        }
      ]
    },
    {
      "cell_type": "markdown",
      "source": [
        "##Confusion matrix"
      ],
      "metadata": {
        "id": "TWNHPs5EZwVj"
      }
    },
    {
      "cell_type": "code",
      "source": [
        "# Print the Confusion Matrix and slice it into four pieces\n",
        "\n",
        "from sklearn.metrics import confusion_matrix\n",
        "cm = confusion_matrix(y_test, y_pred)\n",
        "print('Confusion matrix\\n\\n', cm)"
      ],
      "metadata": {
        "colab": {
          "base_uri": "https://localhost:8080/"
        },
        "id": "RDABTIDtZ1Y3",
        "outputId": "9090cf4f-b446-4a0f-ab38-14a4af988284"
      },
      "execution_count": null,
      "outputs": [
        {
          "output_type": "stream",
          "name": "stdout",
          "text": [
            "Confusion matrix\n",
            "\n",
            " [[116   6   5   0]\n",
            " [  1  13   2   2]\n",
            " [  7   0 392   0]\n",
            " [  4   3   0  19]]\n"
          ]
        }
      ]
    },
    {
      "cell_type": "markdown",
      "source": [
        "##Confusion matrix visualization"
      ],
      "metadata": {
        "id": "qxQPsXVIklwg"
      }
    },
    {
      "cell_type": "code",
      "source": [
        "import seaborn as sns\n",
        "from sklearn.metrics import confusion_matrix\n",
        "import matplotlib.pyplot as plt\n",
        "\n",
        "# Assuming cm is the confusion matrix obtained using sklearn\n",
        "cm = confusion_matrix(y_test, y_pred)\n",
        "\n",
        "# Create a heatmap for the confusion matrix\n",
        "plt.figure(figsize=(6, 4))\n",
        "sns.heatmap(cm, annot=True, fmt='d', cmap='Blues', cbar=False,\n",
        "            xticklabels=df['class'].unique(), yticklabels=df['class'].unique())\n",
        "plt.title('Confusion Matrix - Random Forest (Pruned)')\n",
        "plt.xlabel('Predicted')\n",
        "plt.ylabel('Actual')\n",
        "plt.show()\n"
      ],
      "metadata": {
        "colab": {
          "base_uri": "https://localhost:8080/",
          "height": 410
        },
        "id": "CeAqn8f4keR7",
        "outputId": "e2df7083-cda6-46c2-e090-fbdd83f75ed0"
      },
      "execution_count": null,
      "outputs": [
        {
          "output_type": "display_data",
          "data": {
            "text/plain": [
              "<Figure size 600x400 with 1 Axes>"
            ],
            "image/png": "[encoded data removed]"
          },
          "metadata": {}
        }
      ]
    },
    {
      "cell_type": "markdown",
      "source": [
        "##Classification Report"
      ],
      "metadata": {
        "id": "aBlGHxJ8Z5I7"
      }
    },
    {
      "cell_type": "code",
      "source": [
        "from sklearn.metrics import classification_report\n",
        "\n",
        "print(classification_report(y_test, y_pred))"
      ],
      "metadata": {
        "colab": {
          "base_uri": "https://localhost:8080/"
        },
        "id": "AgNhQ5ijZ9Xm",
        "outputId": "e9da9a18-d606-41a6-fbea-cd7285c46cd0"
      },
      "execution_count": null,
      "outputs": [
        {
          "output_type": "stream",
          "name": "stdout",
          "text": [
            "              precision    recall  f1-score   support\n",
            "\n",
            "         acc       0.91      0.91      0.91       127\n",
            "        good       0.59      0.72      0.65        18\n",
            "       unacc       0.98      0.98      0.98       399\n",
            "       vgood       0.90      0.73      0.81        26\n",
            "\n",
            "    accuracy                           0.95       570\n",
            "   macro avg       0.85      0.84      0.84       570\n",
            "weighted avg       0.95      0.95      0.95       570\n",
            "\n"
          ]
        }
      ]
    },
    {
      "cell_type": "markdown",
      "source": [
        "## Classification Report Visualization"
      ],
      "metadata": {
        "id": "MIySlZkrnY8D"
      }
    },
    {
      "cell_type": "code",
      "source": [
        "from sklearn.metrics import classification_report\n",
        "import matplotlib.pyplot as plt\n",
        "import pandas as pd\n",
        "\n",
        "# Assuming y_test and y_pred are your true and predicted labels\n",
        "classification_rep = classification_report(y_test, y_pred, output_dict=True)\n",
        "classification_df = pd.DataFrame(classification_rep).transpose()\n",
        "\n",
        "# Plot precision, recall, and F1-score\n",
        "plt.figure(figsize=(8, 6))\n",
        "classification_df[['precision', 'recall', 'f1-score']].plot(kind='barh', cmap='viridis')\n",
        "plt.title('Precision, Recall, and F1-Score - Random Forest (100 Trees)')\n",
        "plt.xlabel('Score')\n",
        "plt.ylabel('Class')\n",
        "plt.legend(loc='lower right')\n",
        "plt.show()\n"
      ],
      "metadata": {
        "colab": {
          "base_uri": "https://localhost:8080/",
          "height": 489
        },
        "id": "eoaXp4zVnce5",
        "outputId": "a53c4369-93c0-415d-c270-7247e35352b3"
      },
      "execution_count": null,
      "outputs": [
        {
          "output_type": "display_data",
          "data": {
            "text/plain": [
              "<Figure size 800x600 with 0 Axes>"
            ]
          },
          "metadata": {}
        },
        {
          "output_type": "display_data",
          "data": {
            "text/plain": [
              "<Figure size 640x480 with 1 Axes>"
            ],
            "image/png": "[encoded data removed]"
          },
          "metadata": {}
        }
      ]
    },
    {
      "cell_type": "markdown",
      "source": [
        "#**7. Making Predictions**"
      ],
      "metadata": {
        "id": "jGf1hpw0aChW"
      }
    },
    {
      "cell_type": "code",
      "source": [
        "# Expected output is unacc\n",
        "y_pred = rfc_100.predict(X_test)[0]\n",
        "y_pred"
      ],
      "metadata": {
        "colab": {
          "base_uri": "https://localhost:8080/",
          "height": 35
        },
        "id": "Ik0rOQe7aN2g",
        "outputId": "0bff32fa-b72d-4419-d1cb-344437a8562a"
      },
      "execution_count": null,
      "outputs": [
        {
          "output_type": "execute_result",
          "data": {
            "text/plain": [
              "'unacc'"
            ],
            "application/vnd.google.colaboratory.intrinsic+json": {
              "type": "string"
            }
          },
          "metadata": {},
          "execution_count": 344
        }
      ]
    },
    {
      "cell_type": "code",
      "source": [
        "# Expected output is acc\n",
        "y_pred = clf_en.predict(X_test)[234]\n",
        "y_pred"
      ],
      "metadata": {
        "colab": {
          "base_uri": "https://localhost:8080/",
          "height": 35
        },
        "id": "eoytrTUFaW55",
        "outputId": "4b454efe-9eaf-4b56-d394-cc826387ad40"
      },
      "execution_count": null,
      "outputs": [
        {
          "output_type": "execute_result",
          "data": {
            "text/plain": [
              "'acc'"
            ],
            "application/vnd.google.colaboratory.intrinsic+json": {
              "type": "string"
            }
          },
          "metadata": {},
          "execution_count": 345
        }
      ]
    },
    {
      "cell_type": "markdown",
      "source": [
        "Both predictions were accurate"
      ],
      "metadata": {
        "id": "V6kszvsOnhxr"
      }
    },
    {
      "cell_type": "markdown",
      "source": [
        "#**8. Conclusion**"
      ],
      "metadata": {
        "id": "2QRKl9ZlaeZ9"
      }
    },
    {
      "cell_type": "markdown",
      "source": [
        "In this project, I build a Random Forest Classifier to predict the safety of the car. I build two models, one with 10 decision-trees and another one with 100 decision-trees.\n",
        "\n",
        "The model accuracy score with 10 decision-trees is 0.9474 but the same with 100 decision-trees is 0.9649. So, as expected accuracy increases with number of decision-trees in the model.\n",
        "\n",
        "Confusion matrix and classification report are another tool to visualize the model performance. They yield good performance"
      ],
      "metadata": {
        "id": "WDoR2WVlau8_"
      }
    },
    {
      "cell_type": "markdown",
      "source": [
        "#**9. Overall Conclusion**"
      ],
      "metadata": {
        "id": "yr0abKYpfcQ7"
      }
    },
    {
      "cell_type": "markdown",
      "source": [
        "In conclusion, our machine learning project focused on car evaluation using both the Decision Tree Classifier (DTC) and the Random Forest Classifier (RFC). We commenced by meticulously exploring the dataset, preparing the data through feature engineering, and subsequently splitting it into training and test sets. Employing the DTC, we observed commendable accuracy, with the model providing valuable insights into car safety predictions.\n",
        "\n",
        "Transitioning to the RFC, we anticipated an enhancement in accuracy due to its ensemble nature, combining multiple decision trees. As expected, the RFC outperformed the DTC, achieving higher accuracy scores with varying numbers of decision trees. The use of 100 decision trees in the RFC demonstrated the best performance, reaching an accuracy of 96.49%. This improvement can be attributed to the Random Forest's ability to mitigate overfitting and increase the robustness of predictions by aggregating results from diverse trees.\n",
        "\n",
        "In summary, while both the DTC and RFC proved effective, the Random Forest Classifier, particularly with a larger number of decision trees, emerged as the superior model in our car evaluation project, offering enhanced accuracy and predictive capabilities."
      ],
      "metadata": {
        "id": "XfAboPXEfiH3"
      }
    }
  ]
}